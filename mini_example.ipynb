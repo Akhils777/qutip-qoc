{
 "cells": [
  {
   "cell_type": "code",
   "execution_count": 168,
   "metadata": {},
   "outputs": [],
   "source": [
    "import qutip as qt\n",
    "from qutip_qip.operations.gates import hadamard_transform as hadamard\n",
    "\n",
    "import numpy as np\n",
    "from matplotlib import pyplot as plt\n",
    "\n",
    "import jax\n",
    "import jax.numpy as jnp\n",
    "from diffrax import Dopri5, Dopri8, Tsit5, PIDController"
   ]
  },
  {
   "cell_type": "code",
   "execution_count": 169,
   "metadata": {},
   "outputs": [],
   "source": [
    "from optimize import optimize_pulses\n",
    "from time_interval import TimeInterval\n",
    "from objective import Objective"
   ]
  },
  {
   "cell_type": "markdown",
   "metadata": {},
   "source": [
    "# Toy model"
   ]
  },
  {
   "cell_type": "code",
   "execution_count": 170,
   "metadata": {},
   "outputs": [],
   "source": [
    "initial = qt.qeye(2)\n",
    "target  = hadamard()\n",
    "\n",
    "initial = qt.sprepost(initial, initial.dag())\n",
    "target  = qt.sprepost(target , target.dag() )"
   ]
  },
  {
   "cell_type": "code",
   "execution_count": 171,
   "metadata": {},
   "outputs": [],
   "source": [
    "σx = qt.sigmax()\n",
    "σy = qt.sigmay()\n",
    "σz = qt.sigmaz()\n",
    "\n",
    "ω, Δ, γ, π = 0.1, 1.0, 0.1, np.pi\n",
    "\n",
    "Hd = 1/2 * (ω * σz + Δ * σx)\n",
    "\n",
    "H_d =  qt.liouvillian(H=Hd, c_ops=[np.sqrt(γ) * qt.sigmam()])"
   ]
  },
  {
   "cell_type": "code",
   "execution_count": 172,
   "metadata": {},
   "outputs": [],
   "source": [
    "interval = TimeInterval(tlist=[0, 2*π])"
   ]
  },
  {
   "cell_type": "code",
   "execution_count": 173,
   "metadata": {},
   "outputs": [],
   "source": [
    "def sin(t, α):\n",
    "    return α[0] * np.sin(α[1] * t + α[2])\n",
    "\n",
    "def grad_sin(t, α, idx):\n",
    "    if idx==0: return np.sin(α[1] * t + α[2])\n",
    "    if idx==1: return α[0] * np.cos(α[1] * t + α[2]) * t\n",
    "    if idx==2: return α[0] * np.cos(α[1] * t + α[2])\n",
    "    if idx==3: return α[0] * np.cos(α[1] * t + α[2]) * α[1] # w.r.t. time"
   ]
  },
  {
   "cell_type": "code",
   "execution_count": 174,
   "metadata": {},
   "outputs": [],
   "source": [
    "sin_x = lambda t, p: sin(t, p)\n",
    "sin_y = lambda t, q: sin(t, q)\n",
    "sin_z = lambda t, r: sin(t, r)"
   ]
  },
  {
   "cell_type": "code",
   "execution_count": 175,
   "metadata": {},
   "outputs": [],
   "source": [
    "Hc  = [σx, σy, σz]\n",
    "H_c = [qt.liouvillian(H) for H in Hc]\n",
    "\n",
    "H = [ H_d,\n",
    "     [H_c[0], sin_x, {\"grad\": grad_sin}],\n",
    "     [H_c[1], sin_y, {\"grad\": grad_sin}],\n",
    "     [H_c[2], sin_z, {\"grad\": grad_sin}]]"
   ]
  },
  {
   "cell_type": "code",
   "execution_count": 176,
   "metadata": {},
   "outputs": [],
   "source": [
    "p_init = [1, 1, 0]\n",
    "q_init = [1, 1, 0]\n",
    "r_init = [1, 1, 0]"
   ]
  },
  {
   "cell_type": "markdown",
   "metadata": {},
   "source": [
    "# Default integrator settings - local search only - fix time"
   ]
  },
  {
   "cell_type": "markdown",
   "metadata": {},
   "source": [
    "GOAT"
   ]
  },
  {
   "cell_type": "code",
   "execution_count": 177,
   "metadata": {},
   "outputs": [],
   "source": [
    "res_goat = optimize_pulses(\n",
    "    objectives = [Objective(initial, H, target)],\n",
    "    pulse_options={\n",
    "        \"p\": {\n",
    "            \"guess\":  p_init, # p0 * sin(p1 * t + p2)\n",
    "            \"bounds\": [(-1, 1), (0, 1), (0, 2*np.pi)],\n",
    "        },\n",
    "        \"q\": {\n",
    "            \"guess\":  q_init, # q0 * sin(q1 * t + q2)\n",
    "            \"bounds\": [(-1, 1), (0, 1), (0, 2*np.pi)],\n",
    "        },\n",
    "        \"r\": {\n",
    "            \"guess\":  r_init, # r0 * sin(r1 * t + r2)\n",
    "            \"bounds\": [(-1, 1), (0, 1), (0, 2*np.pi)],\n",
    "        }\n",
    "    },\n",
    "    time_interval = interval,\n",
    "    algorithm_kwargs = {\n",
    "        \"alg\": \"GOAT\",\n",
    "        \"fid_err_targ\": 0.01,\n",
    "        \"method\": \"basinhopping\",\n",
    "        \"disp\": False,\n",
    "        \"max_iter\": 0, # global optimizer steps\n",
    "        \"seed\": 1,\n",
    "    },\n",
    "    \n",
    ")"
   ]
  },
  {
   "cell_type": "code",
   "execution_count": 178,
   "metadata": {},
   "outputs": [
    {
     "data": {
      "text/plain": [
       "Control Optimization Result\n",
       "--------------------------\n",
       "- Started at 2023-11-10 17:41:54\n",
       "- Number of objectives: 1\n",
       "- Final fidelity error: 0.04403656960277009\n",
       "- Final parameters: [[1.0, 0.6462771162438175, 2.1425609700529074], [0.9996894160117288, 0.990898249375864, 0.004499661412899851], [0.8444724950457054, 2.379880939421669e-09, 0.2993300539999815]]\n",
       "- Number of iterations: 1\n",
       "- Reason for termination: ['requested number of basinhopping iterations completed successfully']\n",
       "- Ended at 2023-11-10 17:42:02 (7.8043s)"
      ]
     },
     "execution_count": 178,
     "metadata": {},
     "output_type": "execute_result"
    }
   ],
   "source": [
    "res_goat"
   ]
  },
  {
   "cell_type": "markdown",
   "metadata": {},
   "source": [
    "JAX"
   ]
  },
  {
   "cell_type": "code",
   "execution_count": 179,
   "metadata": {},
   "outputs": [],
   "source": [
    "def sin_jax(t, α):\n",
    "    return α[0] * jnp.sin(α[1] * t + α[2])"
   ]
  },
  {
   "cell_type": "code",
   "execution_count": 180,
   "metadata": {},
   "outputs": [],
   "source": [
    "@jax.jit\n",
    "def sin_x_jax(t, p, **kwargs):\n",
    "    return sin_jax(t, p)\n",
    "\n",
    "@jax.jit\n",
    "def sin_y_jax(t, q, **kwargs):\n",
    "    return sin_jax(t, q)\n",
    "\n",
    "@jax.jit\n",
    "def sin_z_jax(t, r, **kwargs):\n",
    "    return sin_jax(t, r)"
   ]
  },
  {
   "cell_type": "code",
   "execution_count": 181,
   "metadata": {},
   "outputs": [],
   "source": [
    "H_jax = [ H_d,\n",
    "         [H_c[0], sin_x_jax],\n",
    "         [H_c[1], sin_y_jax],\n",
    "         [H_c[2], sin_z_jax]]"
   ]
  },
  {
   "cell_type": "code",
   "execution_count": 182,
   "metadata": {},
   "outputs": [],
   "source": [
    "res_joat = optimize_pulses(\n",
    "    objectives = [Objective(initial, H_jax, target)],\n",
    "    pulse_options={\n",
    "        \"p\": {\n",
    "            \"guess\":  p_init,\n",
    "            \"bounds\": [(-1, 1), (0, 1), (0, 2*np.pi)],\n",
    "        },\n",
    "        \"q\": {\n",
    "            \"guess\":  q_init,\n",
    "            \"bounds\": [(-1, 1), (0, 1), (0, 2*np.pi)],\n",
    "        },\n",
    "        \"r\": {\n",
    "            \"guess\":  r_init,\n",
    "            \"bounds\": [(-1, 1), (0, 1), (0, 2*np.pi)],\n",
    "        }\n",
    "    },\n",
    "    time_interval = interval,\n",
    "    algorithm_kwargs = {\n",
    "        \"alg\": \"JOAT\",\n",
    "        \"fid_err_targ\": 0.01,\n",
    "        \"method\": \"basinhopping\",\n",
    "        \"disp\": False,\n",
    "        \"max_iter\": 0,\n",
    "        \"seed\": 1,\n",
    "    },\n",
    ")"
   ]
  },
  {
   "cell_type": "code",
   "execution_count": 183,
   "metadata": {},
   "outputs": [
    {
     "data": {
      "text/plain": [
       "Control Optimization Result\n",
       "--------------------------\n",
       "- Started at 2023-11-10 17:42:03\n",
       "- Number of objectives: 1\n",
       "- Final fidelity error: 0.04455113743096623\n",
       "- Final parameters: [[0.999553068793097, 0.9677108939313139, 1.3896276385936615], [0.7368374722530612, 0.7802926694405331, 1.5571836032831659], [0.3879646737896883, 0.0, 1.7601127919800026]]\n",
       "- Number of iterations: 1\n",
       "- Reason for termination: ['requested number of basinhopping iterations completed successfully']\n",
       "- Ended at 2023-11-10 17:42:34 (30.8221s)"
      ]
     },
     "execution_count": 183,
     "metadata": {},
     "output_type": "execute_result"
    }
   ],
   "source": [
    "res_joat"
   ]
  },
  {
   "cell_type": "markdown",
   "metadata": {},
   "source": [
    "# Default integrator settings - local search only - variable time"
   ]
  },
  {
   "cell_type": "markdown",
   "metadata": {},
   "source": [
    "GOAT"
   ]
  },
  {
   "cell_type": "code",
   "execution_count": 184,
   "metadata": {},
   "outputs": [],
   "source": [
    "res_joat = optimize_pulses(\n",
    "    objectives = [Objective(initial, H_jax, target)],\n",
    "    pulse_options={\n",
    "        \"p\": {\n",
    "            \"guess\":  p_init,\n",
    "            \"bounds\": [(-1, 1), (0, 1), (0, 2*np.pi)],\n",
    "        },\n",
    "        \"q\": {\n",
    "            \"guess\":  q_init,\n",
    "            \"bounds\": [(-1, 1), (0, 1), (0, 2*np.pi)],\n",
    "        },\n",
    "        \"r\": {\n",
    "            \"guess\":  r_init,\n",
    "            \"bounds\": [(-1, 1), (0, 1), (0, 2*np.pi)],\n",
    "        }\n",
    "    },\n",
    "    time_interval = interval,\n",
    "    time_options = {\n",
    "        \"guess\": interval.evo_time,\n",
    "        \"bounds\": (0, 2*interval.evo_time),\n",
    "    },\n",
    "    algorithm_kwargs = {\n",
    "        \"alg\": \"JOAT\",\n",
    "        \"fid_err_targ\": 0.01,\n",
    "        \"method\": \"basinhopping\",\n",
    "        \"disp\": False,\n",
    "        \"max_iter\": 0,\n",
    "        \"seed\": 1,\n",
    "    },\n",
    ")"
   ]
  },
  {
   "cell_type": "code",
   "execution_count": 185,
   "metadata": {},
   "outputs": [
    {
     "data": {
      "text/plain": [
       "Control Optimization Result\n",
       "--------------------------\n",
       "- Started at 2023-11-10 17:41:54\n",
       "- Number of objectives: 1\n",
       "- Final fidelity error: 0.04403656960277009\n",
       "- Final parameters: [[1.0, 0.6462771162438175, 2.1425609700529074], [0.9996894160117288, 0.990898249375864, 0.004499661412899851], [0.8444724950457054, 2.379880939421669e-09, 0.2993300539999815]]\n",
       "- Number of iterations: 1\n",
       "- Reason for termination: ['requested number of basinhopping iterations completed successfully']\n",
       "- Ended at 2023-11-10 17:42:02 (7.8043s)"
      ]
     },
     "execution_count": 185,
     "metadata": {},
     "output_type": "execute_result"
    }
   ],
   "source": [
    "res_goat"
   ]
  },
  {
   "cell_type": "markdown",
   "metadata": {},
   "source": [
    "JAX"
   ]
  },
  {
   "cell_type": "code",
   "execution_count": 186,
   "metadata": {},
   "outputs": [],
   "source": [
    "res_joat = optimize_pulses(\n",
    "    objectives = [Objective(initial, H_jax, target)],\n",
    "    pulse_options={\n",
    "        \"p\": {\n",
    "            \"guess\":  p_init,\n",
    "            \"bounds\": [(-1, 1), (0, 1), (0, 2*np.pi)],\n",
    "        },\n",
    "        \"q\": {\n",
    "            \"guess\":  q_init,\n",
    "            \"bounds\": [(-1, 1), (0, 1), (0, 2*np.pi)],\n",
    "        },\n",
    "        \"r\": {\n",
    "            \"guess\":  r_init,\n",
    "            \"bounds\": [(-1, 1), (0, 1), (0, 2*np.pi)],\n",
    "        }\n",
    "    },\n",
    "    time_interval = interval,\n",
    "    time_options = {\n",
    "        \"guess\": interval.evo_time,\n",
    "        \"bounds\": (0, 2*interval.evo_time),\n",
    "    },\n",
    "    algorithm_kwargs = {\n",
    "        \"alg\": \"JOAT\",\n",
    "        \"fid_err_targ\": 0.01,\n",
    "        \"method\": \"basinhopping\",\n",
    "        \"disp\": False,\n",
    "        \"max_iter\": 0,\n",
    "        \"seed\": 1,\n",
    "    },\n",
    ")"
   ]
  },
  {
   "cell_type": "code",
   "execution_count": 187,
   "metadata": {},
   "outputs": [
    {
     "data": {
      "text/plain": [
       "Control Optimization Result\n",
       "--------------------------\n",
       "- Started at 2023-11-10 17:42:59\n",
       "- Number of objectives: 1\n",
       "- Final fidelity error: 0.02492020332425142\n",
       "- Final parameters: [[1.0, 0.9485234732252087, 2.0175236634621174], [0.9999985248371083, 0.9174976046839698, 0.9463379704948467], [0.9605607074573544, 1.0, 0.9800389764496323], [3.846593105352696]]\n",
       "- Number of iterations: 1\n",
       "- Reason for termination: ['requested number of basinhopping iterations completed successfully']\n",
       "- Ended at 2023-11-10 17:43:27 (27.9107s)"
      ]
     },
     "execution_count": 187,
     "metadata": {},
     "output_type": "execute_result"
    }
   ],
   "source": [
    "res_joat"
   ]
  },
  {
   "cell_type": "markdown",
   "metadata": {},
   "source": [
    "# Same integrator settings - global search"
   ]
  },
  {
   "cell_type": "markdown",
   "metadata": {},
   "source": [
    "GOAT"
   ]
  },
  {
   "cell_type": "code",
   "execution_count": 200,
   "metadata": {},
   "outputs": [],
   "source": [
    "res_goat = optimize_pulses(\n",
    "    objectives = [Objective(initial, H, target)],\n",
    "    pulse_options={\n",
    "        \"p\": {\n",
    "            \"guess\":  p_init, # p0 * sin(p1 * t + p2)\n",
    "            \"bounds\": [(-1, 1), (0, 1), (0, 2*np.pi)],\n",
    "        },\n",
    "        \"q\": {\n",
    "            \"guess\":  q_init, # q0 * sin(q1 * t + q2)\n",
    "            \"bounds\": [(-1, 1), (0, 1), (0, 2*np.pi)],\n",
    "        },\n",
    "        \"r\": {\n",
    "            \"guess\":  r_init, # r0 * sin(r1 * t + r2)\n",
    "            \"bounds\": [(-1, 1), (0, 1), (0, 2*np.pi)],\n",
    "        }\n",
    "    },\n",
    "    time_interval = interval,\n",
    "    time_options = {\n",
    "        \"guess\": interval.evo_time,\n",
    "        \"bounds\": (0, 2*interval.evo_time),\n",
    "    },\n",
    "    algorithm_kwargs = {\n",
    "        \"alg\": \"GOAT\",\n",
    "        \"method\": \"dual_annealing\",\n",
    "        \"fid_err_targ\": 0.01,\n",
    "        \"disp\": False,\n",
    "        \"max_iter\": 100,\n",
    "        \"seed\": 1,\n",
    "    },\n",
    "    integrator_kwargs = {\n",
    "        \"atol\": 1e-6,\n",
    "        \"rtol\": 1e-6,\n",
    "        \"method\": \"dop853\",\n",
    "    },\n",
    ")"
   ]
  },
  {
   "cell_type": "code",
   "execution_count": 201,
   "metadata": {},
   "outputs": [
    {
     "data": {
      "text/plain": [
       "Control Optimization Result\n",
       "--------------------------\n",
       "- Started at 2023-11-10 17:47:06\n",
       "- Number of objectives: 1\n",
       "- Final fidelity error: 0.011313517577368495\n",
       "- Final parameters: [[-0.5869472475953812, 0.604422073378828, 5.622922553448685], [0.7824922242136919, 0.973781729282308, 2.836355179096559], [-0.9156613739350358, 0.6829865555995811, 2.3392860719886186], [2.4695917434767205]]\n",
       "- Number of iterations: 100\n",
       "- Reason for termination: ['Maximum number of iteration reached']\n",
       "- Ended at 2023-11-10 17:47:39 (33.052s)"
      ]
     },
     "execution_count": 201,
     "metadata": {},
     "output_type": "execute_result"
    }
   ],
   "source": [
    "res_goat"
   ]
  },
  {
   "cell_type": "markdown",
   "metadata": {},
   "source": [
    "JAX"
   ]
  },
  {
   "cell_type": "code",
   "execution_count": 202,
   "metadata": {},
   "outputs": [],
   "source": [
    "res_joat = optimize_pulses(\n",
    "    objectives = [Objective(initial, H_jax, target)],\n",
    "    pulse_options={\n",
    "        \"p\": {\n",
    "            \"guess\":  p_init,\n",
    "            \"bounds\": [(-1, 1), (0, 1), (0, 2*np.pi)],\n",
    "        },\n",
    "        \"q\": {\n",
    "            \"guess\":  q_init,\n",
    "            \"bounds\": [(-1, 1), (0, 1), (0, 2*np.pi)],\n",
    "        },\n",
    "        \"r\": {\n",
    "            \"guess\":  r_init,\n",
    "            \"bounds\": [(-1, 1), (0, 1), (0, 2*np.pi)],\n",
    "        }\n",
    "    },\n",
    "    time_interval = interval,\n",
    "    time_options = {\n",
    "        \"guess\": interval.evo_time,\n",
    "        \"bounds\": (0, 2*interval.evo_time),\n",
    "    },\n",
    "    algorithm_kwargs = {\n",
    "        \"alg\": \"JOAT\",\n",
    "        \"method\": \"dual_annealing\",\n",
    "        \"fid_err_targ\": 0.01,\n",
    "        \"disp\": False,\n",
    "        \"max_iter\": 100,\n",
    "        \"seed\": 1,\n",
    "    },\n",
    "    integrator_kwargs = {\n",
    "        \"stepsize_controller\": PIDController(\n",
    "            atol = 1e-6,\n",
    "            rtol = 1e-6,\n",
    "        ),\n",
    "        \"solver\": Dopri8(),\n",
    "    },\n",
    ")"
   ]
  },
  {
   "cell_type": "code",
   "execution_count": 203,
   "metadata": {},
   "outputs": [
    {
     "data": {
      "text/plain": [
       "Control Optimization Result\n",
       "--------------------------\n",
       "- Started at 2023-11-10 17:47:39\n",
       "- Number of objectives: 1\n",
       "- Final fidelity error: 0.009547201430487956\n",
       "- Final parameters: [[-0.03375980138181052, 0.05141741975191592, 4.5515703640921386], [-0.915119546944092, 0.04875635041843301, 3.0809082065847653], [0.5851213371793615, 0.15078751496709192, 0.9344299824482413], [1.9927253517080148]]\n",
       "- Number of iterations: 45\n",
       "- Reason for termination: fid_err_targ reached\n",
       "- Ended at 2023-11-10 17:48:13 (33.713s)"
      ]
     },
     "execution_count": 203,
     "metadata": {},
     "output_type": "execute_result"
    }
   ],
   "source": [
    "res_joat"
   ]
  }
 ],
 "metadata": {
  "kernelspec": {
   "display_name": "qutip-dev",
   "language": "python",
   "name": "python3"
  },
  "language_info": {
   "codemirror_mode": {
    "name": "ipython",
    "version": 3
   },
   "file_extension": ".py",
   "mimetype": "text/x-python",
   "name": "python",
   "nbconvert_exporter": "python",
   "pygments_lexer": "ipython3",
   "version": "3.11.4"
  }
 },
 "nbformat": 4,
 "nbformat_minor": 2
}
