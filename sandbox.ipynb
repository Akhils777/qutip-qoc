{
 "cells": [
  {
   "cell_type": "code",
   "execution_count": 1,
   "metadata": {},
   "outputs": [],
   "source": [
    "import numpy as np\n",
    "\n",
    "import jax\n",
    "import jax.numpy as jnp\n",
    "\n",
    "import qutip as qt\n",
    "from qutip_qip.operations.gates import hadamard_transform as hadamard\n",
    "\n",
    "from diffrax import Dopri5, PIDController, Tsit5, Dopri8"
   ]
  },
  {
   "cell_type": "code",
   "execution_count": 2,
   "metadata": {},
   "outputs": [],
   "source": [
    "from optimize import optimize_pulses\n",
    "from time_interval import TimeInterval\n",
    "from objective import Objective"
   ]
  },
  {
   "cell_type": "code",
   "execution_count": 3,
   "metadata": {},
   "outputs": [],
   "source": [
    "def sin(t, α):\n",
    "    return α[0] * np.sin(α[1] * t + α[2])\n",
    "\n",
    "def grad_sin(t, α, idx):\n",
    "    if idx==0: return np.sin(α[1] * t + α[2])\n",
    "    if idx==1: return α[0] * np.cos(α[1] * t + α[2]) * t\n",
    "    if idx==2: return α[0] * np.cos(α[1] * t + α[2])\n",
    "    if idx==3: return α[0] * np.cos(α[1] * t + α[2]) * α[1] # w.r.t. time"
   ]
  },
  {
   "cell_type": "code",
   "execution_count": 4,
   "metadata": {},
   "outputs": [],
   "source": [
    "init = qt.basis(2, 0)\n",
    "trgt = qt.basis(2, 1)\n",
    "\n",
    "Hd = [0 * qt.sigmax()]\n",
    "Hc = [[qt.sigmay(), sin, {\"grad\": grad_sin}]]\n",
    "\n",
    "interval = TimeInterval(evo_time=1)"
   ]
  },
  {
   "cell_type": "code",
   "execution_count": 6,
   "metadata": {},
   "outputs": [
    {
     "ename": "KeyboardInterrupt",
     "evalue": "",
     "output_type": "error",
     "traceback": [
      "\u001b[1;31m---------------------------------------------------------------------------\u001b[0m",
      "\u001b[1;31mKeyboardInterrupt\u001b[0m                         Traceback (most recent call last)",
      "\u001b[1;32mc:\\Users\\Admin20200727\\Code\\qoc\\sandbox.ipynb Cell 5\u001b[0m line \u001b[0;36m1\n\u001b[1;32m----> <a href='vscode-notebook-cell:/c%3A/Users/Admin20200727/Code/qoc/sandbox.ipynb#W4sZmlsZQ%3D%3D?line=0'>1</a>\u001b[0m res_goat \u001b[39m=\u001b[39m optimize_pulses(\n\u001b[0;32m      <a href='vscode-notebook-cell:/c%3A/Users/Admin20200727/Code/qoc/sandbox.ipynb#W4sZmlsZQ%3D%3D?line=1'>2</a>\u001b[0m     objectives \u001b[39m=\u001b[39;49m [Objective(init, Hd \u001b[39m+\u001b[39;49m Hc, trgt)],\n\u001b[0;32m      <a href='vscode-notebook-cell:/c%3A/Users/Admin20200727/Code/qoc/sandbox.ipynb#W4sZmlsZQ%3D%3D?line=2'>3</a>\u001b[0m     pulse_options\u001b[39m=\u001b[39;49m{\n\u001b[0;32m      <a href='vscode-notebook-cell:/c%3A/Users/Admin20200727/Code/qoc/sandbox.ipynb#W4sZmlsZQ%3D%3D?line=3'>4</a>\u001b[0m         \u001b[39m\"\u001b[39;49m\u001b[39mp\u001b[39;49m\u001b[39m\"\u001b[39;49m: {\n\u001b[0;32m      <a href='vscode-notebook-cell:/c%3A/Users/Admin20200727/Code/qoc/sandbox.ipynb#W4sZmlsZQ%3D%3D?line=4'>5</a>\u001b[0m             \u001b[39m\"\u001b[39;49m\u001b[39mguess\u001b[39;49m\u001b[39m\"\u001b[39;49m:  [\u001b[39m1\u001b[39;49m, \u001b[39m1\u001b[39;49m, \u001b[39m1\u001b[39;49m], \u001b[39m# p0 * sin(p1 * t + p2)\u001b[39;49;00m\n\u001b[0;32m      <a href='vscode-notebook-cell:/c%3A/Users/Admin20200727/Code/qoc/sandbox.ipynb#W4sZmlsZQ%3D%3D?line=5'>6</a>\u001b[0m             \u001b[39m\"\u001b[39;49m\u001b[39mbounds\u001b[39;49m\u001b[39m\"\u001b[39;49m: [(\u001b[39m-\u001b[39;49m\u001b[39m1\u001b[39;49m, \u001b[39m1\u001b[39;49m), (\u001b[39m0\u001b[39;49m, \u001b[39m1\u001b[39;49m), (\u001b[39m0\u001b[39;49m, \u001b[39m2\u001b[39;49m\u001b[39m*\u001b[39;49mnp\u001b[39m.\u001b[39;49mpi)],\n\u001b[0;32m      <a href='vscode-notebook-cell:/c%3A/Users/Admin20200727/Code/qoc/sandbox.ipynb#W4sZmlsZQ%3D%3D?line=6'>7</a>\u001b[0m         },\n\u001b[0;32m      <a href='vscode-notebook-cell:/c%3A/Users/Admin20200727/Code/qoc/sandbox.ipynb#W4sZmlsZQ%3D%3D?line=7'>8</a>\u001b[0m     },\n\u001b[0;32m      <a href='vscode-notebook-cell:/c%3A/Users/Admin20200727/Code/qoc/sandbox.ipynb#W4sZmlsZQ%3D%3D?line=8'>9</a>\u001b[0m     time_interval \u001b[39m=\u001b[39;49m interval,\n\u001b[0;32m     <a href='vscode-notebook-cell:/c%3A/Users/Admin20200727/Code/qoc/sandbox.ipynb#W4sZmlsZQ%3D%3D?line=9'>10</a>\u001b[0m     \u001b[39m#time_options={\u001b[39;49;00m\n\u001b[0;32m     <a href='vscode-notebook-cell:/c%3A/Users/Admin20200727/Code/qoc/sandbox.ipynb#W4sZmlsZQ%3D%3D?line=10'>11</a>\u001b[0m     \u001b[39m#    \"guess\":  [interval.evo_time],\u001b[39;49;00m\n\u001b[0;32m     <a href='vscode-notebook-cell:/c%3A/Users/Admin20200727/Code/qoc/sandbox.ipynb#W4sZmlsZQ%3D%3D?line=11'>12</a>\u001b[0m     \u001b[39m#    \"bounds\": [(0, interval.evo_time)],\u001b[39;49;00m\n\u001b[0;32m     <a href='vscode-notebook-cell:/c%3A/Users/Admin20200727/Code/qoc/sandbox.ipynb#W4sZmlsZQ%3D%3D?line=12'>13</a>\u001b[0m     \u001b[39m#},\u001b[39;49;00m\n\u001b[0;32m     <a href='vscode-notebook-cell:/c%3A/Users/Admin20200727/Code/qoc/sandbox.ipynb#W4sZmlsZQ%3D%3D?line=13'>14</a>\u001b[0m     algorithm_kwargs \u001b[39m=\u001b[39;49m {\n\u001b[0;32m     <a href='vscode-notebook-cell:/c%3A/Users/Admin20200727/Code/qoc/sandbox.ipynb#W4sZmlsZQ%3D%3D?line=14'>15</a>\u001b[0m         \u001b[39m\"\u001b[39;49m\u001b[39malg\u001b[39;49m\u001b[39m\"\u001b[39;49m: \u001b[39m\"\u001b[39;49m\u001b[39mGOAT\u001b[39;49m\u001b[39m\"\u001b[39;49m,\n\u001b[0;32m     <a href='vscode-notebook-cell:/c%3A/Users/Admin20200727/Code/qoc/sandbox.ipynb#W4sZmlsZQ%3D%3D?line=15'>16</a>\u001b[0m         \u001b[39m\"\u001b[39;49m\u001b[39mfid_err_targ\u001b[39;49m\u001b[39m\"\u001b[39;49m: \u001b[39m0.01\u001b[39;49m,\n\u001b[0;32m     <a href='vscode-notebook-cell:/c%3A/Users/Admin20200727/Code/qoc/sandbox.ipynb#W4sZmlsZQ%3D%3D?line=16'>17</a>\u001b[0m         \u001b[39m\"\u001b[39;49m\u001b[39mdisp\u001b[39;49m\u001b[39m\"\u001b[39;49m: \u001b[39mTrue\u001b[39;49;00m,\n\u001b[0;32m     <a href='vscode-notebook-cell:/c%3A/Users/Admin20200727/Code/qoc/sandbox.ipynb#W4sZmlsZQ%3D%3D?line=17'>18</a>\u001b[0m         \u001b[39m\"\u001b[39;49m\u001b[39mmax_iter\u001b[39;49m\u001b[39m\"\u001b[39;49m: \u001b[39m10\u001b[39;49m,\n\u001b[0;32m     <a href='vscode-notebook-cell:/c%3A/Users/Admin20200727/Code/qoc/sandbox.ipynb#W4sZmlsZQ%3D%3D?line=18'>19</a>\u001b[0m         \u001b[39m\"\u001b[39;49m\u001b[39mseed\u001b[39;49m\u001b[39m\"\u001b[39;49m: \u001b[39m0\u001b[39;49m,\n\u001b[0;32m     <a href='vscode-notebook-cell:/c%3A/Users/Admin20200727/Code/qoc/sandbox.ipynb#W4sZmlsZQ%3D%3D?line=19'>20</a>\u001b[0m         \u001b[39m\"\u001b[39;49m\u001b[39mfid_type\u001b[39;49m\u001b[39m\"\u001b[39;49m: \u001b[39m\"\u001b[39;49m\u001b[39mPSU\u001b[39;49m\u001b[39m\"\u001b[39;49m,\n\u001b[0;32m     <a href='vscode-notebook-cell:/c%3A/Users/Admin20200727/Code/qoc/sandbox.ipynb#W4sZmlsZQ%3D%3D?line=20'>21</a>\u001b[0m     },\n\u001b[0;32m     <a href='vscode-notebook-cell:/c%3A/Users/Admin20200727/Code/qoc/sandbox.ipynb#W4sZmlsZQ%3D%3D?line=21'>22</a>\u001b[0m     integrator_kwargs \u001b[39m=\u001b[39;49m {\n\u001b[0;32m     <a href='vscode-notebook-cell:/c%3A/Users/Admin20200727/Code/qoc/sandbox.ipynb#W4sZmlsZQ%3D%3D?line=22'>23</a>\u001b[0m         \u001b[39m\"\u001b[39;49m\u001b[39matol\u001b[39;49m\u001b[39m\"\u001b[39;49m: \u001b[39m1e-6\u001b[39;49m,\n\u001b[0;32m     <a href='vscode-notebook-cell:/c%3A/Users/Admin20200727/Code/qoc/sandbox.ipynb#W4sZmlsZQ%3D%3D?line=23'>24</a>\u001b[0m         \u001b[39m\"\u001b[39;49m\u001b[39mrtol\u001b[39;49m\u001b[39m\"\u001b[39;49m: \u001b[39m1e-6\u001b[39;49m,\n\u001b[0;32m     <a href='vscode-notebook-cell:/c%3A/Users/Admin20200727/Code/qoc/sandbox.ipynb#W4sZmlsZQ%3D%3D?line=24'>25</a>\u001b[0m         \u001b[39m\"\u001b[39;49m\u001b[39mmethod\u001b[39;49m\u001b[39m\"\u001b[39;49m: \u001b[39m\"\u001b[39;49m\u001b[39mdop853\u001b[39;49m\u001b[39m\"\u001b[39;49m,\n\u001b[0;32m     <a href='vscode-notebook-cell:/c%3A/Users/Admin20200727/Code/qoc/sandbox.ipynb#W4sZmlsZQ%3D%3D?line=25'>26</a>\u001b[0m     },\n\u001b[0;32m     <a href='vscode-notebook-cell:/c%3A/Users/Admin20200727/Code/qoc/sandbox.ipynb#W4sZmlsZQ%3D%3D?line=26'>27</a>\u001b[0m )\n",
      "File \u001b[1;32mc:\\Users\\Admin20200727\\Code\\qoc\\optimize.py:16\u001b[0m, in \u001b[0;36moptimize_pulses\u001b[1;34m(objectives, pulse_options, time_interval, time_options, algorithm_kwargs, **kwargs)\u001b[0m\n\u001b[0;32m     14\u001b[0m alg \u001b[39m=\u001b[39m algorithm_kwargs\u001b[39m.\u001b[39mget(\u001b[39m\"\u001b[39m\u001b[39malg\u001b[39m\u001b[39m\"\u001b[39m, \u001b[39m\"\u001b[39m\u001b[39mGRAPE\u001b[39m\u001b[39m\"\u001b[39m)\n\u001b[0;32m     15\u001b[0m \u001b[39mif\u001b[39;00m alg \u001b[39m==\u001b[39m \u001b[39m\"\u001b[39m\u001b[39mGOAT\u001b[39m\u001b[39m\"\u001b[39m \u001b[39mor\u001b[39;00m alg \u001b[39m==\u001b[39m \u001b[39m\"\u001b[39m\u001b[39mJOAT\u001b[39m\u001b[39m\"\u001b[39m:\n\u001b[1;32m---> 16\u001b[0m     \u001b[39mreturn\u001b[39;00m opt_pulses(\n\u001b[0;32m     17\u001b[0m         objectives,\n\u001b[0;32m     18\u001b[0m         pulse_options,\n\u001b[0;32m     19\u001b[0m         time_interval,\n\u001b[0;32m     20\u001b[0m         time_options,\n\u001b[0;32m     21\u001b[0m         algorithm_kwargs,\n\u001b[0;32m     22\u001b[0m         \u001b[39m*\u001b[39;49m\u001b[39m*\u001b[39;49mkwargs\n\u001b[0;32m     23\u001b[0m     )\n\u001b[0;32m     24\u001b[0m \u001b[39melse\u001b[39;00m:  \u001b[39m# GRAPE or CRAB\u001b[39;00m\n\u001b[0;32m     25\u001b[0m     \u001b[39mif\u001b[39;00m \u001b[39mlen\u001b[39m(objectives) \u001b[39m!=\u001b[39m \u001b[39m1\u001b[39m:\n",
      "File \u001b[1;32mc:\\Users\\Admin20200727\\Code\\qoc\\analytical_control.py:310\u001b[0m, in \u001b[0;36moptimize_pulses\u001b[1;34m(objectives, pulse_options, time_interval, time_options, algorithm_kwargs, **kwargs)\u001b[0m\n\u001b[0;32m    307\u001b[0m result\u001b[39m.\u001b[39mstart_time()\n\u001b[0;32m    309\u001b[0m \u001b[39m# run the optimization\u001b[39;00m\n\u001b[1;32m--> 310\u001b[0m min_res \u001b[39m=\u001b[39m optimizer(\n\u001b[0;32m    311\u001b[0m     func\u001b[39m=\u001b[39;49mmulti_objective\u001b[39m.\u001b[39;49mgoal_fun,\n\u001b[0;32m    312\u001b[0m     minimizer_kwargs\u001b[39m=\u001b[39;49m{\n\u001b[0;32m    313\u001b[0m         \u001b[39m'\u001b[39;49m\u001b[39mjac\u001b[39;49m\u001b[39m'\u001b[39;49m: multi_objective\u001b[39m.\u001b[39;49mgrad_fun,\n\u001b[0;32m    314\u001b[0m         \u001b[39m'\u001b[39;49m\u001b[39mcallback\u001b[39;49m\u001b[39m'\u001b[39;49m: min_callback,\n\u001b[0;32m    315\u001b[0m         \u001b[39m*\u001b[39;49m\u001b[39m*\u001b[39;49mminimizer_kwargs\n\u001b[0;32m    316\u001b[0m     },\n\u001b[0;32m    317\u001b[0m     callback\u001b[39m=\u001b[39;49mopt_callback,\n\u001b[0;32m    318\u001b[0m     \u001b[39m*\u001b[39;49m\u001b[39m*\u001b[39;49moptimizer_kwargs\n\u001b[0;32m    319\u001b[0m )\n\u001b[0;32m    321\u001b[0m result\u001b[39m.\u001b[39mend_time()\n\u001b[0;32m    323\u001b[0m \u001b[39m# some global optimization methods do not return the minimum result\u001b[39;00m\n\u001b[0;32m    324\u001b[0m \u001b[39m# when terminated through StopIteration (see min_callback)\u001b[39;00m\n",
      "File \u001b[1;32mc:\\Users\\Admin20200727\\miniconda3\\envs\\qutip-dev\\Lib\\site-packages\\scipy\\optimize\\_basinhopping.py:714\u001b[0m, in \u001b[0;36mbasinhopping\u001b[1;34m(func, x0, niter, T, stepsize, minimizer_kwargs, take_step, accept_test, callback, interval, disp, niter_success, seed, target_accept_rate, stepwise_factor)\u001b[0m\n\u001b[0;32m    711\u001b[0m \u001b[39mif\u001b[39;00m niter_success \u001b[39mis\u001b[39;00m \u001b[39mNone\u001b[39;00m:\n\u001b[0;32m    712\u001b[0m     niter_success \u001b[39m=\u001b[39m niter \u001b[39m+\u001b[39m \u001b[39m2\u001b[39m\n\u001b[1;32m--> 714\u001b[0m bh \u001b[39m=\u001b[39m BasinHoppingRunner(x0, wrapped_minimizer, take_step_wrapped,\n\u001b[0;32m    715\u001b[0m                         accept_tests, disp\u001b[39m=\u001b[39;49mdisp)\n\u001b[0;32m    717\u001b[0m \u001b[39m# The wrapped minimizer is called once during construction of\u001b[39;00m\n\u001b[0;32m    718\u001b[0m \u001b[39m# BasinHoppingRunner, so run the callback\u001b[39;00m\n\u001b[0;32m    719\u001b[0m \u001b[39mif\u001b[39;00m \u001b[39mcallable\u001b[39m(callback):\n",
      "File \u001b[1;32mc:\\Users\\Admin20200727\\miniconda3\\envs\\qutip-dev\\Lib\\site-packages\\scipy\\optimize\\_basinhopping.py:78\u001b[0m, in \u001b[0;36mBasinHoppingRunner.__init__\u001b[1;34m(self, x0, minimizer, step_taking, accept_tests, disp)\u001b[0m\n\u001b[0;32m     75\u001b[0m \u001b[39mself\u001b[39m\u001b[39m.\u001b[39mres\u001b[39m.\u001b[39mminimization_failures \u001b[39m=\u001b[39m \u001b[39m0\u001b[39m\n\u001b[0;32m     77\u001b[0m \u001b[39m# do initial minimization\u001b[39;00m\n\u001b[1;32m---> 78\u001b[0m minres \u001b[39m=\u001b[39m minimizer(\u001b[39mself\u001b[39;49m\u001b[39m.\u001b[39;49mx)\n\u001b[0;32m     79\u001b[0m \u001b[39mif\u001b[39;00m \u001b[39mnot\u001b[39;00m minres\u001b[39m.\u001b[39msuccess:\n\u001b[0;32m     80\u001b[0m     \u001b[39mself\u001b[39m\u001b[39m.\u001b[39mres\u001b[39m.\u001b[39mminimization_failures \u001b[39m+\u001b[39m\u001b[39m=\u001b[39m \u001b[39m1\u001b[39m\n",
      "File \u001b[1;32mc:\\Users\\Admin20200727\\miniconda3\\envs\\qutip-dev\\Lib\\site-packages\\scipy\\optimize\\_basinhopping.py:303\u001b[0m, in \u001b[0;36mMinimizerWrapper.__call__\u001b[1;34m(self, x0)\u001b[0m\n\u001b[0;32m    301\u001b[0m     \u001b[39mreturn\u001b[39;00m \u001b[39mself\u001b[39m\u001b[39m.\u001b[39mminimizer(x0, \u001b[39m*\u001b[39m\u001b[39m*\u001b[39m\u001b[39mself\u001b[39m\u001b[39m.\u001b[39mkwargs)\n\u001b[0;32m    302\u001b[0m \u001b[39melse\u001b[39;00m:\n\u001b[1;32m--> 303\u001b[0m     \u001b[39mreturn\u001b[39;00m \u001b[39mself\u001b[39;49m\u001b[39m.\u001b[39;49mminimizer(\u001b[39mself\u001b[39;49m\u001b[39m.\u001b[39;49mfunc, x0, \u001b[39m*\u001b[39;49m\u001b[39m*\u001b[39;49m\u001b[39mself\u001b[39;49m\u001b[39m.\u001b[39;49mkwargs)\n",
      "File \u001b[1;32mc:\\Users\\Admin20200727\\miniconda3\\envs\\qutip-dev\\Lib\\site-packages\\scipy\\optimize\\_minimize.py:710\u001b[0m, in \u001b[0;36mminimize\u001b[1;34m(fun, x0, args, method, jac, hess, hessp, bounds, constraints, tol, callback, options)\u001b[0m\n\u001b[0;32m    707\u001b[0m     res \u001b[39m=\u001b[39m _minimize_newtoncg(fun, x0, args, jac, hess, hessp, callback,\n\u001b[0;32m    708\u001b[0m                              \u001b[39m*\u001b[39m\u001b[39m*\u001b[39moptions)\n\u001b[0;32m    709\u001b[0m \u001b[39melif\u001b[39;00m meth \u001b[39m==\u001b[39m \u001b[39m'\u001b[39m\u001b[39ml-bfgs-b\u001b[39m\u001b[39m'\u001b[39m:\n\u001b[1;32m--> 710\u001b[0m     res \u001b[39m=\u001b[39m _minimize_lbfgsb(fun, x0, args, jac, bounds,\n\u001b[0;32m    711\u001b[0m                            callback\u001b[39m=\u001b[39;49mcallback, \u001b[39m*\u001b[39;49m\u001b[39m*\u001b[39;49moptions)\n\u001b[0;32m    712\u001b[0m \u001b[39melif\u001b[39;00m meth \u001b[39m==\u001b[39m \u001b[39m'\u001b[39m\u001b[39mtnc\u001b[39m\u001b[39m'\u001b[39m:\n\u001b[0;32m    713\u001b[0m     res \u001b[39m=\u001b[39m _minimize_tnc(fun, x0, args, jac, bounds, callback\u001b[39m=\u001b[39mcallback,\n\u001b[0;32m    714\u001b[0m                         \u001b[39m*\u001b[39m\u001b[39m*\u001b[39moptions)\n",
      "File \u001b[1;32mc:\\Users\\Admin20200727\\miniconda3\\envs\\qutip-dev\\Lib\\site-packages\\scipy\\optimize\\_lbfgsb_py.py:307\u001b[0m, in \u001b[0;36m_minimize_lbfgsb\u001b[1;34m(fun, x0, args, jac, bounds, disp, maxcor, ftol, gtol, eps, maxfun, maxiter, iprint, callback, maxls, finite_diff_rel_step, **unknown_options)\u001b[0m\n\u001b[0;32m    304\u001b[0m     \u001b[39melse\u001b[39;00m:\n\u001b[0;32m    305\u001b[0m         iprint \u001b[39m=\u001b[39m disp\n\u001b[1;32m--> 307\u001b[0m sf \u001b[39m=\u001b[39m _prepare_scalar_function(fun, x0, jac\u001b[39m=\u001b[39;49mjac, args\u001b[39m=\u001b[39;49margs, epsilon\u001b[39m=\u001b[39;49meps,\n\u001b[0;32m    308\u001b[0m                               bounds\u001b[39m=\u001b[39;49mnew_bounds,\n\u001b[0;32m    309\u001b[0m                               finite_diff_rel_step\u001b[39m=\u001b[39;49mfinite_diff_rel_step)\n\u001b[0;32m    311\u001b[0m func_and_grad \u001b[39m=\u001b[39m sf\u001b[39m.\u001b[39mfun_and_grad\n\u001b[0;32m    313\u001b[0m fortran_int \u001b[39m=\u001b[39m _lbfgsb\u001b[39m.\u001b[39mtypes\u001b[39m.\u001b[39mintvar\u001b[39m.\u001b[39mdtype\n",
      "File \u001b[1;32mc:\\Users\\Admin20200727\\miniconda3\\envs\\qutip-dev\\Lib\\site-packages\\scipy\\optimize\\_optimize.py:383\u001b[0m, in \u001b[0;36m_prepare_scalar_function\u001b[1;34m(fun, x0, jac, args, bounds, epsilon, finite_diff_rel_step, hess)\u001b[0m\n\u001b[0;32m    379\u001b[0m     bounds \u001b[39m=\u001b[39m (\u001b[39m-\u001b[39mnp\u001b[39m.\u001b[39minf, np\u001b[39m.\u001b[39minf)\n\u001b[0;32m    381\u001b[0m \u001b[39m# ScalarFunction caches. Reuse of fun(x) during grad\u001b[39;00m\n\u001b[0;32m    382\u001b[0m \u001b[39m# calculation reduces overall function evaluations.\u001b[39;00m\n\u001b[1;32m--> 383\u001b[0m sf \u001b[39m=\u001b[39m ScalarFunction(fun, x0, args, grad, hess,\n\u001b[0;32m    384\u001b[0m                     finite_diff_rel_step, bounds, epsilon\u001b[39m=\u001b[39;49mepsilon)\n\u001b[0;32m    386\u001b[0m \u001b[39mreturn\u001b[39;00m sf\n",
      "File \u001b[1;32mc:\\Users\\Admin20200727\\miniconda3\\envs\\qutip-dev\\Lib\\site-packages\\scipy\\optimize\\_differentiable_functions.py:177\u001b[0m, in \u001b[0;36mScalarFunction.__init__\u001b[1;34m(self, fun, x0, args, grad, hess, finite_diff_rel_step, finite_diff_bounds, epsilon)\u001b[0m\n\u001b[0;32m    173\u001b[0m         \u001b[39mself\u001b[39m\u001b[39m.\u001b[39mg \u001b[39m=\u001b[39m approx_derivative(fun_wrapped, \u001b[39mself\u001b[39m\u001b[39m.\u001b[39mx, f0\u001b[39m=\u001b[39m\u001b[39mself\u001b[39m\u001b[39m.\u001b[39mf,\n\u001b[0;32m    174\u001b[0m                                    \u001b[39m*\u001b[39m\u001b[39m*\u001b[39mfinite_diff_options)\n\u001b[0;32m    176\u001b[0m \u001b[39mself\u001b[39m\u001b[39m.\u001b[39m_update_grad_impl \u001b[39m=\u001b[39m update_grad\n\u001b[1;32m--> 177\u001b[0m \u001b[39mself\u001b[39;49m\u001b[39m.\u001b[39;49m_update_grad()\n\u001b[0;32m    179\u001b[0m \u001b[39m# Hessian Evaluation\u001b[39;00m\n\u001b[0;32m    180\u001b[0m \u001b[39mif\u001b[39;00m \u001b[39mcallable\u001b[39m(hess):\n",
      "File \u001b[1;32mc:\\Users\\Admin20200727\\miniconda3\\envs\\qutip-dev\\Lib\\site-packages\\scipy\\optimize\\_differentiable_functions.py:256\u001b[0m, in \u001b[0;36mScalarFunction._update_grad\u001b[1;34m(self)\u001b[0m\n\u001b[0;32m    254\u001b[0m \u001b[39mdef\u001b[39;00m \u001b[39m_update_grad\u001b[39m(\u001b[39mself\u001b[39m):\n\u001b[0;32m    255\u001b[0m     \u001b[39mif\u001b[39;00m \u001b[39mnot\u001b[39;00m \u001b[39mself\u001b[39m\u001b[39m.\u001b[39mg_updated:\n\u001b[1;32m--> 256\u001b[0m         \u001b[39mself\u001b[39;49m\u001b[39m.\u001b[39;49m_update_grad_impl()\n\u001b[0;32m    257\u001b[0m         \u001b[39mself\u001b[39m\u001b[39m.\u001b[39mg_updated \u001b[39m=\u001b[39m \u001b[39mTrue\u001b[39;00m\n",
      "File \u001b[1;32mc:\\Users\\Admin20200727\\miniconda3\\envs\\qutip-dev\\Lib\\site-packages\\scipy\\optimize\\_differentiable_functions.py:167\u001b[0m, in \u001b[0;36mScalarFunction.__init__.<locals>.update_grad\u001b[1;34m()\u001b[0m\n\u001b[0;32m    166\u001b[0m \u001b[39mdef\u001b[39;00m \u001b[39mupdate_grad\u001b[39m():\n\u001b[1;32m--> 167\u001b[0m     \u001b[39mself\u001b[39m\u001b[39m.\u001b[39mg \u001b[39m=\u001b[39m grad_wrapped(\u001b[39mself\u001b[39;49m\u001b[39m.\u001b[39;49mx)\n",
      "File \u001b[1;32mc:\\Users\\Admin20200727\\miniconda3\\envs\\qutip-dev\\Lib\\site-packages\\scipy\\optimize\\_differentiable_functions.py:164\u001b[0m, in \u001b[0;36mScalarFunction.__init__.<locals>.grad_wrapped\u001b[1;34m(x)\u001b[0m\n\u001b[0;32m    162\u001b[0m \u001b[39mdef\u001b[39;00m \u001b[39mgrad_wrapped\u001b[39m(x):\n\u001b[0;32m    163\u001b[0m     \u001b[39mself\u001b[39m\u001b[39m.\u001b[39mngev \u001b[39m+\u001b[39m\u001b[39m=\u001b[39m \u001b[39m1\u001b[39m\n\u001b[1;32m--> 164\u001b[0m     \u001b[39mreturn\u001b[39;00m np\u001b[39m.\u001b[39matleast_1d(grad(np\u001b[39m.\u001b[39;49mcopy(x), \u001b[39m*\u001b[39;49margs))\n",
      "File \u001b[1;32mc:\\Users\\Admin20200727\\Code\\qoc\\goat.py:243\u001b[0m, in \u001b[0;36mMulti_GOAT.grad_fun\u001b[1;34m(self, params)\u001b[0m\n\u001b[0;32m    241\u001b[0m \u001b[39mfor\u001b[39;00m g \u001b[39min\u001b[39;00m \u001b[39mself\u001b[39m\u001b[39m.\u001b[39mgoats:\n\u001b[0;32m    242\u001b[0m     grads \u001b[39m+\u001b[39m\u001b[39m=\u001b[39m g\u001b[39m.\u001b[39mgradient()\n\u001b[1;32m--> 243\u001b[0m \u001b[39mreturn\u001b[39;00m grads\n",
      "File \u001b[1;32mc:\\Users\\Admin20200727\\Code\\qoc\\goat.py:243\u001b[0m, in \u001b[0;36mMulti_GOAT.grad_fun\u001b[1;34m(self, params)\u001b[0m\n\u001b[0;32m    241\u001b[0m \u001b[39mfor\u001b[39;00m g \u001b[39min\u001b[39;00m \u001b[39mself\u001b[39m\u001b[39m.\u001b[39mgoats:\n\u001b[0;32m    242\u001b[0m     grads \u001b[39m+\u001b[39m\u001b[39m=\u001b[39m g\u001b[39m.\u001b[39mgradient()\n\u001b[1;32m--> 243\u001b[0m \u001b[39mreturn\u001b[39;00m grads\n",
      "File \u001b[1;32m_pydevd_bundle/pydevd_cython.pyx:1457\u001b[0m, in \u001b[0;36m_pydevd_bundle.pydevd_cython.SafeCallWrapper.__call__\u001b[1;34m()\u001b[0m\n",
      "File \u001b[1;32m_pydevd_bundle/pydevd_cython.pyx:701\u001b[0m, in \u001b[0;36m_pydevd_bundle.pydevd_cython.PyDBFrame.trace_dispatch\u001b[1;34m()\u001b[0m\n",
      "File \u001b[1;32m_pydevd_bundle/pydevd_cython.pyx:1152\u001b[0m, in \u001b[0;36m_pydevd_bundle.pydevd_cython.PyDBFrame.trace_dispatch\u001b[1;34m()\u001b[0m\n",
      "File \u001b[1;32m_pydevd_bundle/pydevd_cython.pyx:1135\u001b[0m, in \u001b[0;36m_pydevd_bundle.pydevd_cython.PyDBFrame.trace_dispatch\u001b[1;34m()\u001b[0m\n",
      "File \u001b[1;32m_pydevd_bundle/pydevd_cython.pyx:312\u001b[0m, in \u001b[0;36m_pydevd_bundle.pydevd_cython.PyDBFrame.do_wait_suspend\u001b[1;34m()\u001b[0m\n",
      "File \u001b[1;32mc:\\Users\\Admin20200727\\miniconda3\\envs\\qutip-dev\\Lib\\site-packages\\debugpy\\_vendored\\pydevd\\pydevd.py:2070\u001b[0m, in \u001b[0;36mPyDB.do_wait_suspend\u001b[1;34m(self, thread, frame, event, arg, exception_type)\u001b[0m\n\u001b[0;32m   2067\u001b[0m             from_this_thread\u001b[39m.\u001b[39mappend(frame_custom_thread_id)\n\u001b[0;32m   2069\u001b[0m     \u001b[39mwith\u001b[39;00m \u001b[39mself\u001b[39m\u001b[39m.\u001b[39m_threads_suspended_single_notification\u001b[39m.\u001b[39mnotify_thread_suspended(thread_id, thread, stop_reason):\n\u001b[1;32m-> 2070\u001b[0m         keep_suspended \u001b[39m=\u001b[39m \u001b[39mself\u001b[39;49m\u001b[39m.\u001b[39;49m_do_wait_suspend(thread, frame, event, arg, suspend_type, from_this_thread, frames_tracker)\n\u001b[0;32m   2072\u001b[0m frames_list \u001b[39m=\u001b[39m \u001b[39mNone\u001b[39;00m\n\u001b[0;32m   2074\u001b[0m \u001b[39mif\u001b[39;00m keep_suspended:\n\u001b[0;32m   2075\u001b[0m     \u001b[39m# This means that we should pause again after a set next statement.\u001b[39;00m\n",
      "File \u001b[1;32mc:\\Users\\Admin20200727\\miniconda3\\envs\\qutip-dev\\Lib\\site-packages\\debugpy\\_vendored\\pydevd\\pydevd.py:2106\u001b[0m, in \u001b[0;36mPyDB._do_wait_suspend\u001b[1;34m(self, thread, frame, event, arg, suspend_type, from_this_thread, frames_tracker)\u001b[0m\n\u001b[0;32m   2103\u001b[0m         \u001b[39mself\u001b[39m\u001b[39m.\u001b[39m_call_input_hook()\n\u001b[0;32m   2105\u001b[0m     \u001b[39mself\u001b[39m\u001b[39m.\u001b[39mprocess_internal_commands()\n\u001b[1;32m-> 2106\u001b[0m     time\u001b[39m.\u001b[39msleep(\u001b[39m0.01\u001b[39m)\n\u001b[0;32m   2108\u001b[0m \u001b[39mself\u001b[39m\u001b[39m.\u001b[39mcancel_async_evaluation(get_current_thread_id(thread), \u001b[39mstr\u001b[39m(\u001b[39mid\u001b[39m(frame)))\n\u001b[0;32m   2110\u001b[0m \u001b[39m# process any stepping instructions\u001b[39;00m\n",
      "\u001b[1;31mKeyboardInterrupt\u001b[0m: "
     ]
    }
   ],
   "source": [
    "res_goat = optimize_pulses(\n",
    "    objectives = [Objective(init, Hd + Hc, trgt)],\n",
    "    pulse_options={\n",
    "        \"p\": {\n",
    "            \"guess\":  [1, 1, 1], # p0 * sin(p1 * t + p2)\n",
    "            \"bounds\": [(-1, 1), (0, 1), (0, 2*np.pi)],\n",
    "        },\n",
    "    },\n",
    "    time_interval = interval,\n",
    "    time_options={\n",
    "        \"guess\":  [interval.evo_time],\n",
    "        \"bounds\": [(0, interval.evo_time)],\n",
    "    },\n",
    "    algorithm_kwargs = {\n",
    "        \"alg\": \"GOAT\",\n",
    "        \"fid_err_targ\": 0.01,\n",
    "        \"disp\": True,\n",
    "        \"max_iter\": 10,\n",
    "        \"seed\": 0,\n",
    "        \"fid_type\": \"PSU\",\n",
    "    },\n",
    "    integrator_kwargs = {\n",
    "        \"atol\": 1e-6,\n",
    "        \"rtol\": 1e-6,\n",
    "        \"method\": \"dop853\",\n",
    "    },\n",
    ")"
   ]
  },
  {
   "cell_type": "code",
   "execution_count": 7,
   "metadata": {},
   "outputs": [],
   "source": [
    "@jax.jit\n",
    "def sin(t, α):\n",
    "    return α[0] * jnp.sin(α[1] * t + α[2])"
   ]
  },
  {
   "cell_type": "code",
   "execution_count": 8,
   "metadata": {},
   "outputs": [],
   "source": [
    "init = qt.basis(2, 0)\n",
    "trgt = qt.basis(2, 1)\n",
    "\n",
    "Hd = [0 * qt.sigmax()]\n",
    "Hc = [[qt.sigmay(), sin]]\n",
    "\n",
    "interval = TimeInterval(evo_time=1)"
   ]
  },
  {
   "cell_type": "code",
   "execution_count": 10,
   "metadata": {},
   "outputs": [],
   "source": [
    "res_joat = optimize_pulses(\n",
    "    objectives = [Objective(init, Hd + Hc, trgt)],\n",
    "    pulse_options={\n",
    "        \"p\": {\n",
    "            \"guess\":  [1, 1, 1], # p0 * sin(p1 * t + p2)\n",
    "            \"bounds\": [(-1, 1), (0, 1), (0, 2*np.pi)],\n",
    "        },\n",
    "    },\n",
    "    time_interval = interval,\n",
    "    time_options={\n",
    "        \"guess\":  [interval.evo_time],\n",
    "        \"bounds\": [(0, interval.evo_time)],\n",
    "    },\n",
    "    algorithm_kwargs = {\n",
    "        \"alg\": \"JOAT\",\n",
    "        \"fid_err_targ\": 0.01,\n",
    "        \"disp\": True,\n",
    "        \"max_iter\": 10,\n",
    "        \"seed\": 0,\n",
    "        \"fid_type\": \"PSU\",\n",
    "    },\n",
    "    integrator_kwargs = {\n",
    "        \"stepsize_controller\": PIDController(\n",
    "            atol = 1e-5,\n",
    "            rtol = 1e-5,\n",
    "        ),\n",
    "        \"solver\": Dopri8(),\n",
    "    },\n",
    ")"
   ]
  },
  {
   "cell_type": "code",
   "execution_count": 3,
   "metadata": {},
   "outputs": [],
   "source": [
    "tol  = 1e-6\n",
    "atol = 1e-6\n",
    "rtol = 1e-6"
   ]
  },
  {
   "cell_type": "markdown",
   "metadata": {},
   "source": [
    "# Hadamard Gate Synthesis"
   ]
  },
  {
   "cell_type": "markdown",
   "metadata": {},
   "source": [
    "\\begin{gather*}\n",
    "    U(t=0) = \\mathbf{I} \\longrightarrow U(T) = \\mathrm{H} = \\frac{1}{\\sqrt{2}} \\begin{bmatrix} 1 & 1 \\\\ 1 & -1 \\end{bmatrix}\n",
    "\\end{gather*}"
   ]
  },
  {
   "cell_type": "code",
   "execution_count": 4,
   "metadata": {},
   "outputs": [],
   "source": [
    "initial = qt.qeye(2)\n",
    "target  = hadamard()\n",
    "\n",
    "initial = qt.sprepost(initial, initial.dag())\n",
    "target  = qt.sprepost(target , target.dag() )\n",
    "\n",
    "objective = Objective(initial, ... , target)"
   ]
  },
  {
   "cell_type": "markdown",
   "metadata": {},
   "source": [
    "\\begin{gather}\n",
    "    \\partial_{t} U(t) =-\\frac{i}{\\hbar}[H(\\vec{\\alpha}, t), U(t)]+ \\frac{1}{2} \\left[2 C U(t) C^\\dagger - U(t) C^\\dagger C - C^\\dagger C U(t)\\right] \\\\\n",
    "\\end{gather}\n",
    "\n",
    "\\begin{gather*}\n",
    "    H(\\vec{\\alpha}, t) = \\underbrace{\n",
    "            \\frac{1}{2} \\left(\\omega \\sigma_z +  \\Delta \\sigma_x\\right)\n",
    "        }_{H_d} \n",
    "    + H_c(\\vec{\\alpha}, t) \\text{ and }C = \\sqrt \\gamma a\n",
    "\\end{gather*}"
   ]
  },
  {
   "cell_type": "markdown",
   "metadata": {},
   "source": [
    "Time independent drift Hamiltonian"
   ]
  },
  {
   "cell_type": "code",
   "execution_count": 5,
   "metadata": {},
   "outputs": [],
   "source": [
    "σx = qt.sigmax()\n",
    "σy = qt.sigmay()\n",
    "σz = qt.sigmaz()\n",
    "\n",
    "ω, Δ, γ = 0.1, 1.0, 0.1\n",
    "\n",
    "Hd = 1/2 * (ω * σz + Δ * σx)\n",
    "\n",
    "H_d =  qt.liouvillian(H=Hd, c_ops=[np.sqrt(γ) * qt.sigmam()])"
   ]
  },
  {
   "cell_type": "markdown",
   "metadata": {},
   "source": [
    "Time dependent control Hamiltonian"
   ]
  },
  {
   "cell_type": "markdown",
   "metadata": {},
   "source": [
    "\\begin{gather*}\n",
    "H_c(\\vec{\\alpha}, t) =\n",
    "\\underbrace{c_0(\\vec{\\alpha}_0, t) \\sigma_x}_{H_0(t, \\vec{\\alpha})}  \n",
    "    +\\underbrace{c_1(\\vec{\\alpha}_1, t) \\sigma_y}_{H_1(t, \\vec{\\alpha})} \n",
    "    +\\underbrace{c_2(\\vec{\\alpha}_2, t) \\sigma_z}_{H_2(t, \\vec{\\alpha})} \\\\ \\\\\n",
    "    c_k(\\vec{\\alpha}, t) = \\alpha_{k,0} \\cdot \\sin(\\alpha_{k,1} t + \\alpha_{k,2})\n",
    "\\end{gather*}"
   ]
  },
  {
   "cell_type": "code",
   "execution_count": 6,
   "metadata": {},
   "outputs": [],
   "source": [
    "def sin(t, α):\n",
    "    return α[0] * np.sin(α[1] * t + α[2])\n",
    "\n",
    "def grad_sin(t, α, idx):\n",
    "    if idx==0: return np.sin(α[1] * t + α[2])\n",
    "    if idx==1: return α[0] * np.cos(α[1] * t + α[2]) * t\n",
    "    if idx==2: return α[0] * np.cos(α[1] * t + α[2])\n",
    "    if idx==3: return α[0] * np.cos(α[1] * t + α[2]) * α[1] # w.r.t. time"
   ]
  },
  {
   "cell_type": "code",
   "execution_count": 7,
   "metadata": {},
   "outputs": [],
   "source": [
    "@jax.jit\n",
    "def sin_x_jax(t, p, **kwargs):\n",
    "    return p[0] * jnp.sin(p[1] * t + p[2])\n",
    "\n",
    "@jax.jit\n",
    "def sin_y_jax(t, q, **kwargs):\n",
    "    return q[0] * jnp.sin(q[1] * t + q[2])\n",
    "\n",
    "@jax.jit\n",
    "def sin_z_jax(t, r, **kwargs):\n",
    "    return r[0] * jnp.sin(r[1] * t + r[2])"
   ]
  },
  {
   "cell_type": "code",
   "execution_count": 8,
   "metadata": {},
   "outputs": [],
   "source": [
    "sin_x = lambda t, p: sin(t, p)\n",
    "sin_y = lambda t, q: sin(t, q)\n",
    "sin_z = lambda t, r: sin(t, r)"
   ]
  },
  {
   "cell_type": "code",
   "execution_count": 9,
   "metadata": {},
   "outputs": [],
   "source": [
    "Hc  = [σx, σy, σz]\n",
    "H_c = [qt.liouvillian(H) for H in Hc]\n",
    "\n",
    "H_jax = [ H_d,\n",
    "     [H_c[0], sin_x_jax, {\"grad\": grad_sin}],\n",
    "     [H_c[1], sin_y_jax, {\"grad\": grad_sin}],\n",
    "     [H_c[2], sin_z_jax, {\"grad\": grad_sin}]]\n",
    "\n",
    "H = [ H_d,\n",
    "     [H_c[0], sin_x, {\"grad\": grad_sin}],\n",
    "     [H_c[1], sin_y, {\"grad\": grad_sin}],\n",
    "     [H_c[2], sin_z, {\"grad\": grad_sin}]]"
   ]
  },
  {
   "cell_type": "code",
   "execution_count": 10,
   "metadata": {},
   "outputs": [],
   "source": [
    "p_init = q_init = r_init = np.array([0, 0, 0])\n",
    "\n",
    "H_evo = qt.QobjEvo(H, args={\"p\": p_init, \"q\": q_init, \"r\": r_init})"
   ]
  },
  {
   "cell_type": "code",
   "execution_count": 11,
   "metadata": {},
   "outputs": [],
   "source": [
    "num_ts = 100\n",
    "interval = TimeInterval(evo_time=np.pi, num_tslots=num_ts)\n",
    "\n",
    "#interval = TimeInterval(tlist = [0., 0.1, 0.2, ..., 1])\n",
    "#interval = TimeInterval(tau   = [0.1, 0.1, ..., 0.1])"
   ]
  },
  {
   "cell_type": "code",
   "execution_count": 21,
   "metadata": {},
   "outputs": [
    {
     "name": "stdout",
     "output_type": "stream",
     "text": [
      "optimizer step, infidelity: 0.10986, took 2.01 seconds\n",
      "minimizer step, infidelity: 0.01724\n",
      "minimizer step, infidelity: 0.01423\n",
      "minimizer step, infidelity: 0.01332\n",
      "minimizer step, infidelity: 0.01287\n",
      "minimizer step, infidelity: 0.01285\n",
      "minimizer step, infidelity: 0.01278\n",
      "minimizer step, infidelity: 0.01254\n",
      "minimizer step, infidelity: 0.01191\n",
      "minimizer step, infidelity: 0.01149\n",
      "minimizer step, infidelity: 0.01102\n",
      "minimizer step, infidelity: 0.00992\n",
      "fid_err_targ reached, terminating minimization\n",
      "optimizer step, infidelity: 0.00992, took 11.31 seconds\n",
      "fid_err_targ reached, terminating optimization\n"
     ]
    }
   ],
   "source": [
    "result = optimize_pulses(\n",
    "    objectives = [Objective(initial, H_jax, target)],\n",
    "    pulse_options={\n",
    "        \"p\": {\n",
    "            \"guess\":  p_init, # p0 * sin(p1 * t + p2)\n",
    "            \"bounds\": [(-1, 1), (0, 1), (0, 2*np.pi)],\n",
    "        },\n",
    "        \"q\": {\n",
    "            \"guess\":  q_init, # q0 * sin(q1 * t + q2)\n",
    "            \"bounds\": [(-1, 1), (0, 1), (0, 2*np.pi)],\n",
    "        },\n",
    "        \"r\": {\n",
    "            \"guess\":  r_init, # r0 * sin(r1 * t + r2)\n",
    "            \"bounds\": [(-1, 1), (0, 1), (0, 2*np.pi)],\n",
    "        }\n",
    "    },\n",
    "    time_interval = interval,\n",
    "    time_options={\n",
    "        \"guess\":  [interval.evo_time],\n",
    "        \"bounds\": [(0, 2*interval.evo_time)],\n",
    "    },\n",
    "    algorithm_kwargs = {\n",
    "        \"alg\": \"JOAT\",\n",
    "        \"method\": \"dual_annealing\",\n",
    "        \"max_wall_time\": 60,\n",
    "        \"max_iter\": 10000,\n",
    "        \"fid_err_targ\": 0.01,\n",
    "        \"disp\": True,\n",
    "        \"gen_stats\": False,\n",
    "    },\n",
    "    optimizer_kwargs = {\n",
    "        \"seed\": 1,\n",
    "        #\"disp\": True,\n",
    "    },\n",
    "    minimizer_kwargs = {\n",
    "        \"method\": \"L-BFGS-B\",\n",
    "        \"tol\": tol,\n",
    "    },\n",
    "    integrator_kwargs = {\n",
    "        \"progress_bar\": False,\n",
    "        #\"nsteps\": 1e6,\n",
    "        #\"rtol\":rtol, \n",
    "        #\"atol\":atol,\n",
    "        \"method\": \"diffrax\", \"normalize_output\": False, \"stepsize_controller\" : PIDController(rtol=1e-5, atol=1e-5), \"solver\": Tsit5(), \"progress_bar\": False\n",
    "    },\n",
    ")"
   ]
  },
  {
   "cell_type": "code",
   "execution_count": 13,
   "metadata": {},
   "outputs": [
    {
     "data": {
      "text/plain": [
       "Control Optimization Result\n",
       "--------------------------\n",
       "- Started at 2023-11-08 09:28:32\n",
       "- Number of objectives: 1\n",
       "- Final fidelity error: 0.009918302620493084\n",
       "- Final parameters: [[-0.6090738194276011, 0.17124202282158227, 6.175064092009473], [-0.4152098497348898, 0.43336527014256043, 2.543864447561314], [-0.9839230904718963, 0.001974247460387194, 3.7664039628473955], [2.0006390573626427]]\n",
       "- Number of iterations: 0\n",
       "- Reason for termination: fid_err_targ reached\n",
       "- Ended at 2023-11-08 09:28:41 (8.4282s)"
      ]
     },
     "execution_count": 13,
     "metadata": {},
     "output_type": "execute_result"
    }
   ],
   "source": [
    "result"
   ]
  },
  {
   "cell_type": "code",
   "execution_count": 15,
   "metadata": {},
   "outputs": [
    {
     "name": "stdout",
     "output_type": "stream",
     "text": [
      "100.0%. Run time:   0.03s. Est. time left: 00:00:00:00\n",
      "Total run time:   0.03s\n"
     ]
    }
   ],
   "source": [
    "H_evo_opt = result.optimized_objectives[0].H_evo\n",
    "p, q, r, T = result.optimized_params\n",
    "\n",
    "res_evo = qt.mesolve(H_evo_opt, initial, [0, T],\n",
    "                     args={\"p\": p, \"q\": q, \"r\": r},\n",
    "                     options={'normalize_output': False})"
   ]
  },
  {
   "cell_type": "code",
   "execution_count": 17,
   "metadata": {},
   "outputs": [
    {
     "data": {
      "text/plain": [
       "array([[False, False, False, False],\n",
       "       [False, False, False, False],\n",
       "       [False, False, False, False],\n",
       "       [False, False, False, False]])"
      ]
     },
     "execution_count": 17,
     "metadata": {},
     "output_type": "execute_result"
    }
   ],
   "source": [
    "np.isclose(res_evo.final_state.full(), target.full(), rtol=1e-3)"
   ]
  },
  {
   "cell_type": "code",
   "execution_count": 19,
   "metadata": {},
   "outputs": [
    {
     "name": "stdout",
     "output_type": "stream",
     "text": [
      "0.009918627578385868\n"
     ]
    }
   ],
   "source": [
    "U = qt.Qobj(result.final_states[0].data)\n",
    "trgt = qt.Qobj(target.data)\n",
    "\n",
    "diff = U - trgt\n",
    "g = 1/2 * diff.overlap(diff)\n",
    "infid = (1/trgt.norm()) * np.real(g)\n",
    "print(infid)"
   ]
  },
  {
   "cell_type": "code",
   "execution_count": 20,
   "metadata": {},
   "outputs": [
    {
     "data": {
      "text/plain": [
       "(<Figure size 640x480 with 2 Axes>, <Axes: >)"
      ]
     },
     "execution_count": 20,
     "metadata": {},
     "output_type": "execute_result"
    },
    {
     "data": {
      "image/png": "[encoded data removed]",
      "text/plain": [
       "<Figure size 640x480 with 2 Axes>"
      ]
     },
     "metadata": {},
     "output_type": "display_data"
    },
    {
     "data": {
      "image/png": "[encoded data removed]",
      "text/plain": [
       "<Figure size 640x480 with 2 Axes>"
      ]
     },
     "metadata": {},
     "output_type": "display_data"
    }
   ],
   "source": [
    "qt.hinton(result.final_states[0])\n",
    "qt.hinton(result.objectives[0].target)"
   ]
  },
  {
   "cell_type": "markdown",
   "metadata": {},
   "source": [
    "opt(\n",
    "    objectives=[Objective(initial, evo, target)],\n",
    "    pulse_options={\n",
    "        \"x\": {\n",
    "            \"guess\": [0. for _ in range(len(evo_time))],\n",
    "            \"bounds\": [-10, 10],\n",
    "        },\n",
    "        \"y\": {\n",
    "            \"guess\": [0. for _ in range(len(evo_time))],\n",
    "            \"bounds\": [-10, 10],\n",
    "        },\n",
    "    },\n",
    "    tlist=evo_time,\n",
    "    kwargs={\n",
    "        \"optimizer\": {\n",
    "            \"disp\": False,\n",
    "            \"niter\": 100,  # = 0: no global search\n",
    "            \"seed\": 123,  # deterministic results\n",
    "            # num of iters without improvement before stopping\n",
    "            \"niter_success\": 10,\n",
    "        },\n",
    "        \"minimizer\": {\n",
    "            \"tol\": tol,\n",
    "        },\n",
    "        \"integrator\": {\n",
    "            \"progress_bar\": False,\n",
    "            \"rtol\":rtol, \n",
    "            \"atol\":atol,\n",
    "        },\n",
    "    }\n",
    ")"
   ]
  },
  {
   "cell_type": "markdown",
   "metadata": {},
   "source": [
    "# Cython"
   ]
  },
  {
   "cell_type": "code",
   "execution_count": null,
   "metadata": {},
   "outputs": [],
   "source": [
    "%load_ext Cython"
   ]
  },
  {
   "cell_type": "code",
   "execution_count": null,
   "metadata": {},
   "outputs": [],
   "source": [
    "%%cython\n",
    "import numpy as np \n",
    "\n",
    "cpdef double sin_cy(double t, double[:] p):\n",
    "    return p[0] * np.sin(p[1] * t + p[2])\n",
    "\n",
    "cpdef double grad_sin_cy(double t, double[:] p, int idx):\n",
    "    if idx==0: return np.sin(p[1] * t + p[2])\n",
    "    if idx==1: return p[0] * np.cos(p[1] * t + p[2]) * t\n",
    "    if idx==2: return p[0] * np.cos(p[1] * t + p[2])\n",
    "    if idx==3: return p[0] * np.cos(p[1] * t + p[2]) * p[1] # w.r.t. time"
   ]
  },
  {
   "cell_type": "code",
   "execution_count": null,
   "metadata": {},
   "outputs": [],
   "source": [
    "evo_cy = [H_d,\n",
    "          [H_c[0], sin_cy, {\"grad\": grad_sin_cy}],\n",
    "          [H_c[1], sin_cy, {\"grad\": grad_sin_cy}]]"
   ]
  },
  {
   "cell_type": "code",
   "execution_count": null,
   "metadata": {},
   "outputs": [
    {
     "ename": "NameError",
     "evalue": "name 'evo_time' is not defined",
     "output_type": "error",
     "traceback": [
      "\u001b[1;31m---------------------------------------------------------------------------\u001b[0m",
      "\u001b[1;31mNameError\u001b[0m                                 Traceback (most recent call last)",
      "\u001b[1;32mc:\\Users\\Admin20200727\\Code\\qutip-qtrl\\src\\qutip_qtrl\\sandbox.ipynb Cell 20\u001b[0m line \u001b[0;36m1\n\u001b[0;32m      <a href='vscode-notebook-cell:/c%3A/Users/Admin20200727/Code/qutip-qtrl/src/qutip_qtrl/sandbox.ipynb#X22sZmlsZQ%3D%3D?line=0'>1</a>\u001b[0m opt(\n\u001b[0;32m      <a href='vscode-notebook-cell:/c%3A/Users/Admin20200727/Code/qutip-qtrl/src/qutip_qtrl/sandbox.ipynb#X22sZmlsZQ%3D%3D?line=1'>2</a>\u001b[0m     objectives\u001b[39m=\u001b[39m[Objective(initial, evo_cy, target)],\n\u001b[0;32m      <a href='vscode-notebook-cell:/c%3A/Users/Admin20200727/Code/qutip-qtrl/src/qutip_qtrl/sandbox.ipynb#X22sZmlsZQ%3D%3D?line=2'>3</a>\u001b[0m     pulse_options\u001b[39m=\u001b[39m{\n\u001b[0;32m      <a href='vscode-notebook-cell:/c%3A/Users/Admin20200727/Code/qutip-qtrl/src/qutip_qtrl/sandbox.ipynb#X22sZmlsZQ%3D%3D?line=3'>4</a>\u001b[0m         \u001b[39m\"\u001b[39m\u001b[39msin_x\u001b[39m\u001b[39m\"\u001b[39m: {\n\u001b[0;32m      <a href='vscode-notebook-cell:/c%3A/Users/Admin20200727/Code/qutip-qtrl/src/qutip_qtrl/sandbox.ipynb#X22sZmlsZQ%3D%3D?line=4'>5</a>\u001b[0m             \u001b[39m\"\u001b[39m\u001b[39mguess\u001b[39m\u001b[39m\"\u001b[39m: [\u001b[39m0.\u001b[39m \u001b[39mfor\u001b[39;00m _ \u001b[39min\u001b[39;00m \u001b[39mrange\u001b[39m(\u001b[39m3\u001b[39m)],\n\u001b[0;32m      <a href='vscode-notebook-cell:/c%3A/Users/Admin20200727/Code/qutip-qtrl/src/qutip_qtrl/sandbox.ipynb#X22sZmlsZQ%3D%3D?line=5'>6</a>\u001b[0m             \u001b[39m\"\u001b[39m\u001b[39mbounds\u001b[39m\u001b[39m\"\u001b[39m: [(\u001b[39m-\u001b[39m\u001b[39m10\u001b[39m, \u001b[39m10\u001b[39m) \u001b[39mfor\u001b[39;00m _ \u001b[39min\u001b[39;00m \u001b[39mrange\u001b[39m(\u001b[39m3\u001b[39m)],\n\u001b[0;32m      <a href='vscode-notebook-cell:/c%3A/Users/Admin20200727/Code/qutip-qtrl/src/qutip_qtrl/sandbox.ipynb#X22sZmlsZQ%3D%3D?line=6'>7</a>\u001b[0m         },\n\u001b[0;32m      <a href='vscode-notebook-cell:/c%3A/Users/Admin20200727/Code/qutip-qtrl/src/qutip_qtrl/sandbox.ipynb#X22sZmlsZQ%3D%3D?line=7'>8</a>\u001b[0m         \u001b[39m\"\u001b[39m\u001b[39msin_y\u001b[39m\u001b[39m\"\u001b[39m: {\n\u001b[0;32m      <a href='vscode-notebook-cell:/c%3A/Users/Admin20200727/Code/qutip-qtrl/src/qutip_qtrl/sandbox.ipynb#X22sZmlsZQ%3D%3D?line=8'>9</a>\u001b[0m             \u001b[39m\"\u001b[39m\u001b[39mguess\u001b[39m\u001b[39m\"\u001b[39m: [\u001b[39m0.\u001b[39m \u001b[39mfor\u001b[39;00m _ \u001b[39min\u001b[39;00m \u001b[39mrange\u001b[39m(\u001b[39m3\u001b[39m)],\n\u001b[0;32m     <a href='vscode-notebook-cell:/c%3A/Users/Admin20200727/Code/qutip-qtrl/src/qutip_qtrl/sandbox.ipynb#X22sZmlsZQ%3D%3D?line=9'>10</a>\u001b[0m             \u001b[39m\"\u001b[39m\u001b[39mbounds\u001b[39m\u001b[39m\"\u001b[39m: [(\u001b[39m-\u001b[39m\u001b[39m10\u001b[39m, \u001b[39m10\u001b[39m) \u001b[39mfor\u001b[39;00m _ \u001b[39min\u001b[39;00m \u001b[39mrange\u001b[39m(\u001b[39m3\u001b[39m)],\n\u001b[0;32m     <a href='vscode-notebook-cell:/c%3A/Users/Admin20200727/Code/qutip-qtrl/src/qutip_qtrl/sandbox.ipynb#X22sZmlsZQ%3D%3D?line=10'>11</a>\u001b[0m         },\n\u001b[0;32m     <a href='vscode-notebook-cell:/c%3A/Users/Admin20200727/Code/qutip-qtrl/src/qutip_qtrl/sandbox.ipynb#X22sZmlsZQ%3D%3D?line=11'>12</a>\u001b[0m     },\n\u001b[0;32m     <a href='vscode-notebook-cell:/c%3A/Users/Admin20200727/Code/qutip-qtrl/src/qutip_qtrl/sandbox.ipynb#X22sZmlsZQ%3D%3D?line=12'>13</a>\u001b[0m     time_options\u001b[39m=\u001b[39m{\n\u001b[1;32m---> <a href='vscode-notebook-cell:/c%3A/Users/Admin20200727/Code/qutip-qtrl/src/qutip_qtrl/sandbox.ipynb#X22sZmlsZQ%3D%3D?line=13'>14</a>\u001b[0m         \u001b[39m\"\u001b[39m\u001b[39mevo_time\u001b[39m\u001b[39m\"\u001b[39m: evo_time,\n\u001b[0;32m     <a href='vscode-notebook-cell:/c%3A/Users/Admin20200727/Code/qutip-qtrl/src/qutip_qtrl/sandbox.ipynb#X22sZmlsZQ%3D%3D?line=14'>15</a>\u001b[0m         \u001b[39m\"\u001b[39m\u001b[39mguess\u001b[39m\u001b[39m\"\u001b[39m: [evo_time[\u001b[39m-\u001b[39m\u001b[39m1\u001b[39m]],\n\u001b[0;32m     <a href='vscode-notebook-cell:/c%3A/Users/Admin20200727/Code/qutip-qtrl/src/qutip_qtrl/sandbox.ipynb#X22sZmlsZQ%3D%3D?line=15'>16</a>\u001b[0m         \u001b[39m\"\u001b[39m\u001b[39mbounds\u001b[39m\u001b[39m\"\u001b[39m: [(\u001b[39m0\u001b[39m, evo_time[\u001b[39m-\u001b[39m\u001b[39m1\u001b[39m]\u001b[39m*\u001b[39m\u001b[39m2\u001b[39m)],\n\u001b[0;32m     <a href='vscode-notebook-cell:/c%3A/Users/Admin20200727/Code/qutip-qtrl/src/qutip_qtrl/sandbox.ipynb#X22sZmlsZQ%3D%3D?line=16'>17</a>\u001b[0m     },\n\u001b[0;32m     <a href='vscode-notebook-cell:/c%3A/Users/Admin20200727/Code/qutip-qtrl/src/qutip_qtrl/sandbox.ipynb#X22sZmlsZQ%3D%3D?line=17'>18</a>\u001b[0m     optimizer_kwargs \u001b[39m=\u001b[39m {\n\u001b[0;32m     <a href='vscode-notebook-cell:/c%3A/Users/Admin20200727/Code/qutip-qtrl/src/qutip_qtrl/sandbox.ipynb#X22sZmlsZQ%3D%3D?line=18'>19</a>\u001b[0m         \u001b[39m\"\u001b[39m\u001b[39mdisp\u001b[39m\u001b[39m\"\u001b[39m: \u001b[39mTrue\u001b[39;00m,\n\u001b[0;32m     <a href='vscode-notebook-cell:/c%3A/Users/Admin20200727/Code/qutip-qtrl/src/qutip_qtrl/sandbox.ipynb#X22sZmlsZQ%3D%3D?line=19'>20</a>\u001b[0m         \u001b[39m\"\u001b[39m\u001b[39mniter\u001b[39m\u001b[39m\"\u001b[39m: \u001b[39m0\u001b[39m,  \u001b[39m# = 0: no global search\u001b[39;00m\n\u001b[0;32m     <a href='vscode-notebook-cell:/c%3A/Users/Admin20200727/Code/qutip-qtrl/src/qutip_qtrl/sandbox.ipynb#X22sZmlsZQ%3D%3D?line=20'>21</a>\u001b[0m         \u001b[39m\"\u001b[39m\u001b[39mseed\u001b[39m\u001b[39m\"\u001b[39m: \u001b[39m123\u001b[39m,  \u001b[39m# deterministic results\u001b[39;00m\n\u001b[0;32m     <a href='vscode-notebook-cell:/c%3A/Users/Admin20200727/Code/qutip-qtrl/src/qutip_qtrl/sandbox.ipynb#X22sZmlsZQ%3D%3D?line=21'>22</a>\u001b[0m         \u001b[39m# num of iters without improvement before stopping\u001b[39;00m\n\u001b[0;32m     <a href='vscode-notebook-cell:/c%3A/Users/Admin20200727/Code/qutip-qtrl/src/qutip_qtrl/sandbox.ipynb#X22sZmlsZQ%3D%3D?line=22'>23</a>\u001b[0m         \u001b[39m\"\u001b[39m\u001b[39mniter_success\u001b[39m\u001b[39m\"\u001b[39m: \u001b[39m10\u001b[39m,\n\u001b[0;32m     <a href='vscode-notebook-cell:/c%3A/Users/Admin20200727/Code/qutip-qtrl/src/qutip_qtrl/sandbox.ipynb#X22sZmlsZQ%3D%3D?line=23'>24</a>\u001b[0m     },\n\u001b[0;32m     <a href='vscode-notebook-cell:/c%3A/Users/Admin20200727/Code/qutip-qtrl/src/qutip_qtrl/sandbox.ipynb#X22sZmlsZQ%3D%3D?line=24'>25</a>\u001b[0m     minimizer_kwargs \u001b[39m=\u001b[39m {\n\u001b[0;32m     <a href='vscode-notebook-cell:/c%3A/Users/Admin20200727/Code/qutip-qtrl/src/qutip_qtrl/sandbox.ipynb#X22sZmlsZQ%3D%3D?line=25'>26</a>\u001b[0m         \u001b[39m\"\u001b[39m\u001b[39mtol\u001b[39m\u001b[39m\"\u001b[39m: tol,\n\u001b[0;32m     <a href='vscode-notebook-cell:/c%3A/Users/Admin20200727/Code/qutip-qtrl/src/qutip_qtrl/sandbox.ipynb#X22sZmlsZQ%3D%3D?line=26'>27</a>\u001b[0m     },\n\u001b[0;32m     <a href='vscode-notebook-cell:/c%3A/Users/Admin20200727/Code/qutip-qtrl/src/qutip_qtrl/sandbox.ipynb#X22sZmlsZQ%3D%3D?line=27'>28</a>\u001b[0m     integrator_kwargs \u001b[39m=\u001b[39m {\n\u001b[0;32m     <a href='vscode-notebook-cell:/c%3A/Users/Admin20200727/Code/qutip-qtrl/src/qutip_qtrl/sandbox.ipynb#X22sZmlsZQ%3D%3D?line=28'>29</a>\u001b[0m         \u001b[39m\"\u001b[39m\u001b[39mprogress_bar\u001b[39m\u001b[39m\"\u001b[39m: \u001b[39mFalse\u001b[39;00m,\n\u001b[0;32m     <a href='vscode-notebook-cell:/c%3A/Users/Admin20200727/Code/qutip-qtrl/src/qutip_qtrl/sandbox.ipynb#X22sZmlsZQ%3D%3D?line=29'>30</a>\u001b[0m         \u001b[39m\"\u001b[39m\u001b[39mnsteps\u001b[39m\u001b[39m\"\u001b[39m: \u001b[39m1e8\u001b[39m,\n\u001b[0;32m     <a href='vscode-notebook-cell:/c%3A/Users/Admin20200727/Code/qutip-qtrl/src/qutip_qtrl/sandbox.ipynb#X22sZmlsZQ%3D%3D?line=30'>31</a>\u001b[0m         \u001b[39m\"\u001b[39m\u001b[39mrtol\u001b[39m\u001b[39m\"\u001b[39m:rtol, \n\u001b[0;32m     <a href='vscode-notebook-cell:/c%3A/Users/Admin20200727/Code/qutip-qtrl/src/qutip_qtrl/sandbox.ipynb#X22sZmlsZQ%3D%3D?line=31'>32</a>\u001b[0m         \u001b[39m\"\u001b[39m\u001b[39matol\u001b[39m\u001b[39m\"\u001b[39m:atol,\n\u001b[0;32m     <a href='vscode-notebook-cell:/c%3A/Users/Admin20200727/Code/qutip-qtrl/src/qutip_qtrl/sandbox.ipynb#X22sZmlsZQ%3D%3D?line=32'>33</a>\u001b[0m     },\n\u001b[0;32m     <a href='vscode-notebook-cell:/c%3A/Users/Admin20200727/Code/qutip-qtrl/src/qutip_qtrl/sandbox.ipynb#X22sZmlsZQ%3D%3D?line=33'>34</a>\u001b[0m )\n",
      "\u001b[1;31mNameError\u001b[0m: name 'evo_time' is not defined"
     ]
    }
   ],
   "source": [
    "opt(\n",
    "    objectives=[Objective(initial, evo_cy, target)],\n",
    "    pulse_options={\n",
    "        \"sin_x\": {\n",
    "            \"guess\": [0. for _ in range(3)],\n",
    "            \"bounds\": [(-10, 10) for _ in range(3)],\n",
    "        },\n",
    "        \"sin_y\": {\n",
    "            \"guess\": [0. for _ in range(3)],\n",
    "            \"bounds\": [(-10, 10) for _ in range(3)],\n",
    "        },\n",
    "    },\n",
    "    time_options={\n",
    "        \"evo_time\": evo_time,\n",
    "        \"guess\": [evo_time[-1]],\n",
    "        \"bounds\": [(0, evo_time[-1]*2)],\n",
    "    },\n",
    "    optimizer_kwargs = {\n",
    "        \"disp\": True,\n",
    "        \"niter\": 0,  # = 0: no global search\n",
    "        \"seed\": 123,  # deterministic results\n",
    "        # num of iters without improvement before stopping\n",
    "        \"niter_success\": 10,\n",
    "    },\n",
    "    minimizer_kwargs = {\n",
    "        \"tol\": tol,\n",
    "    },\n",
    "    integrator_kwargs = {\n",
    "        \"progress_bar\": False,\n",
    "        \"nsteps\": 1e8,\n",
    "        \"rtol\":rtol, \n",
    "        \"atol\":atol,\n",
    "    },\n",
    ")"
   ]
  },
  {
   "cell_type": "markdown",
   "metadata": {},
   "source": [
    "# JAX"
   ]
  },
  {
   "cell_type": "code",
   "execution_count": null,
   "metadata": {},
   "outputs": [],
   "source": [
    "def sin_jax(t, p):\n",
    "    return p[0] * jnp.sin(p[1] * t + p[2])\n",
    "\n",
    "def grad_sin_jax(t, p, idx):\n",
    "    dt, dp = jax.grad(sin_jax, argnums=(0, 1))(t, p)\n",
    "    return jnp.concatenate((dp, dt), axis=None)[idx]\n",
    "\n",
    "evo_jax = [H_d,\n",
    "          [H_c[0], sin_jax, {\"grad\": grad_sin_jax}],\n",
    "          [H_c[1], sin_jax, {\"grad\": grad_sin_jax}]]"
   ]
  },
  {
   "cell_type": "code",
   "execution_count": null,
   "metadata": {},
   "outputs": [
    {
     "name": "stdout",
     "output_type": "stream",
     "text": [
      "basinhopping step 0: f 0.51127\n",
      "took $%.2f seconds\n",
      "warning: basinhopping: local minimization failure\n",
      "basinhopping step 1: f 0.51127 trial_f 0.323203 accepted 0  lowest_f 0.51127\n",
      "took $%.2f seconds\n"
     ]
    },
    {
     "ename": "KeyboardInterrupt",
     "evalue": "",
     "output_type": "error",
     "traceback": [
      "\u001b[1;31m---------------------------------------------------------------------------\u001b[0m",
      "\u001b[1;31mKeyboardInterrupt\u001b[0m                         Traceback (most recent call last)",
      "\u001b[1;32mc:\\Users\\Admin20200727\\Code\\qutip-qtrl\\src\\qutip_qtrl\\sandbox.ipynb Cell 16\u001b[0m line \u001b[0;36m1\n\u001b[1;32m----> <a href='vscode-notebook-cell:/c%3A/Users/Admin20200727/Code/qutip-qtrl/src/qutip_qtrl/sandbox.ipynb#X24sZmlsZQ%3D%3D?line=0'>1</a>\u001b[0m opt(\n\u001b[0;32m      <a href='vscode-notebook-cell:/c%3A/Users/Admin20200727/Code/qutip-qtrl/src/qutip_qtrl/sandbox.ipynb#X24sZmlsZQ%3D%3D?line=1'>2</a>\u001b[0m     objectives\u001b[39m=\u001b[39;49m[Objective(initial, evo_jax, target)],\n\u001b[0;32m      <a href='vscode-notebook-cell:/c%3A/Users/Admin20200727/Code/qutip-qtrl/src/qutip_qtrl/sandbox.ipynb#X24sZmlsZQ%3D%3D?line=2'>3</a>\u001b[0m     pulse_options\u001b[39m=\u001b[39;49m{\n\u001b[0;32m      <a href='vscode-notebook-cell:/c%3A/Users/Admin20200727/Code/qutip-qtrl/src/qutip_qtrl/sandbox.ipynb#X24sZmlsZQ%3D%3D?line=3'>4</a>\u001b[0m         \u001b[39m\"\u001b[39;49m\u001b[39msin_x\u001b[39;49m\u001b[39m\"\u001b[39;49m: {\n\u001b[0;32m      <a href='vscode-notebook-cell:/c%3A/Users/Admin20200727/Code/qutip-qtrl/src/qutip_qtrl/sandbox.ipynb#X24sZmlsZQ%3D%3D?line=4'>5</a>\u001b[0m             \u001b[39m\"\u001b[39;49m\u001b[39mguess\u001b[39;49m\u001b[39m\"\u001b[39;49m: [\u001b[39m0.\u001b[39;49m \u001b[39mfor\u001b[39;49;00m _ \u001b[39min\u001b[39;49;00m \u001b[39mrange\u001b[39;49m(\u001b[39m3\u001b[39;49m)],\n\u001b[0;32m      <a href='vscode-notebook-cell:/c%3A/Users/Admin20200727/Code/qutip-qtrl/src/qutip_qtrl/sandbox.ipynb#X24sZmlsZQ%3D%3D?line=5'>6</a>\u001b[0m             \u001b[39m\"\u001b[39;49m\u001b[39mbounds\u001b[39;49m\u001b[39m\"\u001b[39;49m: [(\u001b[39m-\u001b[39;49m\u001b[39m10\u001b[39;49m, \u001b[39m10\u001b[39;49m) \u001b[39mfor\u001b[39;49;00m _ \u001b[39min\u001b[39;49;00m \u001b[39mrange\u001b[39;49m(\u001b[39m3\u001b[39;49m)],\n\u001b[0;32m      <a href='vscode-notebook-cell:/c%3A/Users/Admin20200727/Code/qutip-qtrl/src/qutip_qtrl/sandbox.ipynb#X24sZmlsZQ%3D%3D?line=6'>7</a>\u001b[0m         },\n\u001b[0;32m      <a href='vscode-notebook-cell:/c%3A/Users/Admin20200727/Code/qutip-qtrl/src/qutip_qtrl/sandbox.ipynb#X24sZmlsZQ%3D%3D?line=7'>8</a>\u001b[0m         \u001b[39m\"\u001b[39;49m\u001b[39msin_y\u001b[39;49m\u001b[39m\"\u001b[39;49m: {\n\u001b[0;32m      <a href='vscode-notebook-cell:/c%3A/Users/Admin20200727/Code/qutip-qtrl/src/qutip_qtrl/sandbox.ipynb#X24sZmlsZQ%3D%3D?line=8'>9</a>\u001b[0m             \u001b[39m\"\u001b[39;49m\u001b[39mguess\u001b[39;49m\u001b[39m\"\u001b[39;49m: [\u001b[39m0.\u001b[39;49m \u001b[39mfor\u001b[39;49;00m _ \u001b[39min\u001b[39;49;00m \u001b[39mrange\u001b[39;49m(\u001b[39m3\u001b[39;49m)],\n\u001b[0;32m     <a href='vscode-notebook-cell:/c%3A/Users/Admin20200727/Code/qutip-qtrl/src/qutip_qtrl/sandbox.ipynb#X24sZmlsZQ%3D%3D?line=9'>10</a>\u001b[0m             \u001b[39m\"\u001b[39;49m\u001b[39mbounds\u001b[39;49m\u001b[39m\"\u001b[39;49m: [(\u001b[39m-\u001b[39;49m\u001b[39m10\u001b[39;49m, \u001b[39m10\u001b[39;49m) \u001b[39mfor\u001b[39;49;00m _ \u001b[39min\u001b[39;49;00m \u001b[39mrange\u001b[39;49m(\u001b[39m3\u001b[39;49m)],\n\u001b[0;32m     <a href='vscode-notebook-cell:/c%3A/Users/Admin20200727/Code/qutip-qtrl/src/qutip_qtrl/sandbox.ipynb#X24sZmlsZQ%3D%3D?line=10'>11</a>\u001b[0m         },\n\u001b[0;32m     <a href='vscode-notebook-cell:/c%3A/Users/Admin20200727/Code/qutip-qtrl/src/qutip_qtrl/sandbox.ipynb#X24sZmlsZQ%3D%3D?line=11'>12</a>\u001b[0m     },\n\u001b[0;32m     <a href='vscode-notebook-cell:/c%3A/Users/Admin20200727/Code/qutip-qtrl/src/qutip_qtrl/sandbox.ipynb#X24sZmlsZQ%3D%3D?line=12'>13</a>\u001b[0m     time_options\u001b[39m=\u001b[39;49m{\n\u001b[0;32m     <a href='vscode-notebook-cell:/c%3A/Users/Admin20200727/Code/qutip-qtrl/src/qutip_qtrl/sandbox.ipynb#X24sZmlsZQ%3D%3D?line=13'>14</a>\u001b[0m         \u001b[39m\"\u001b[39;49m\u001b[39mevo_time\u001b[39;49m\u001b[39m\"\u001b[39;49m: evo_time,\n\u001b[0;32m     <a href='vscode-notebook-cell:/c%3A/Users/Admin20200727/Code/qutip-qtrl/src/qutip_qtrl/sandbox.ipynb#X24sZmlsZQ%3D%3D?line=14'>15</a>\u001b[0m         \u001b[39m\"\u001b[39;49m\u001b[39mguess\u001b[39;49m\u001b[39m\"\u001b[39;49m: [evo_time[\u001b[39m-\u001b[39;49m\u001b[39m1\u001b[39;49m]],\n\u001b[0;32m     <a href='vscode-notebook-cell:/c%3A/Users/Admin20200727/Code/qutip-qtrl/src/qutip_qtrl/sandbox.ipynb#X24sZmlsZQ%3D%3D?line=15'>16</a>\u001b[0m         \u001b[39m\"\u001b[39;49m\u001b[39mbounds\u001b[39;49m\u001b[39m\"\u001b[39;49m: [(\u001b[39m0\u001b[39;49m, evo_time[\u001b[39m-\u001b[39;49m\u001b[39m1\u001b[39;49m]\u001b[39m*\u001b[39;49m\u001b[39m2\u001b[39;49m)],\n\u001b[0;32m     <a href='vscode-notebook-cell:/c%3A/Users/Admin20200727/Code/qutip-qtrl/src/qutip_qtrl/sandbox.ipynb#X24sZmlsZQ%3D%3D?line=16'>17</a>\u001b[0m     },\n\u001b[0;32m     <a href='vscode-notebook-cell:/c%3A/Users/Admin20200727/Code/qutip-qtrl/src/qutip_qtrl/sandbox.ipynb#X24sZmlsZQ%3D%3D?line=17'>18</a>\u001b[0m     optimizer_kwargs \u001b[39m=\u001b[39;49m {\n\u001b[0;32m     <a href='vscode-notebook-cell:/c%3A/Users/Admin20200727/Code/qutip-qtrl/src/qutip_qtrl/sandbox.ipynb#X24sZmlsZQ%3D%3D?line=18'>19</a>\u001b[0m         \u001b[39m\"\u001b[39;49m\u001b[39mdisp\u001b[39;49m\u001b[39m\"\u001b[39;49m: \u001b[39mTrue\u001b[39;49;00m,\n\u001b[0;32m     <a href='vscode-notebook-cell:/c%3A/Users/Admin20200727/Code/qutip-qtrl/src/qutip_qtrl/sandbox.ipynb#X24sZmlsZQ%3D%3D?line=19'>20</a>\u001b[0m         \u001b[39m\"\u001b[39;49m\u001b[39mniter\u001b[39;49m\u001b[39m\"\u001b[39;49m: \u001b[39m100\u001b[39;49m,  \u001b[39m# = 0: no global search\u001b[39;49;00m\n\u001b[0;32m     <a href='vscode-notebook-cell:/c%3A/Users/Admin20200727/Code/qutip-qtrl/src/qutip_qtrl/sandbox.ipynb#X24sZmlsZQ%3D%3D?line=20'>21</a>\u001b[0m         \u001b[39m\"\u001b[39;49m\u001b[39mseed\u001b[39;49m\u001b[39m\"\u001b[39;49m: \u001b[39m123\u001b[39;49m,  \u001b[39m# deterministic results\u001b[39;49;00m\n\u001b[0;32m     <a href='vscode-notebook-cell:/c%3A/Users/Admin20200727/Code/qutip-qtrl/src/qutip_qtrl/sandbox.ipynb#X24sZmlsZQ%3D%3D?line=21'>22</a>\u001b[0m         \u001b[39m# num of iters without improvement before stopping\u001b[39;49;00m\n\u001b[0;32m     <a href='vscode-notebook-cell:/c%3A/Users/Admin20200727/Code/qutip-qtrl/src/qutip_qtrl/sandbox.ipynb#X24sZmlsZQ%3D%3D?line=22'>23</a>\u001b[0m         \u001b[39m\"\u001b[39;49m\u001b[39mniter_success\u001b[39;49m\u001b[39m\"\u001b[39;49m: \u001b[39m10\u001b[39;49m,\n\u001b[0;32m     <a href='vscode-notebook-cell:/c%3A/Users/Admin20200727/Code/qutip-qtrl/src/qutip_qtrl/sandbox.ipynb#X24sZmlsZQ%3D%3D?line=23'>24</a>\u001b[0m     },\n\u001b[0;32m     <a href='vscode-notebook-cell:/c%3A/Users/Admin20200727/Code/qutip-qtrl/src/qutip_qtrl/sandbox.ipynb#X24sZmlsZQ%3D%3D?line=24'>25</a>\u001b[0m     minimizer_kwargs \u001b[39m=\u001b[39;49m {\n\u001b[0;32m     <a href='vscode-notebook-cell:/c%3A/Users/Admin20200727/Code/qutip-qtrl/src/qutip_qtrl/sandbox.ipynb#X24sZmlsZQ%3D%3D?line=25'>26</a>\u001b[0m         \u001b[39m\"\u001b[39;49m\u001b[39mtol\u001b[39;49m\u001b[39m\"\u001b[39;49m: tol,\n\u001b[0;32m     <a href='vscode-notebook-cell:/c%3A/Users/Admin20200727/Code/qutip-qtrl/src/qutip_qtrl/sandbox.ipynb#X24sZmlsZQ%3D%3D?line=26'>27</a>\u001b[0m     },\n\u001b[0;32m     <a href='vscode-notebook-cell:/c%3A/Users/Admin20200727/Code/qutip-qtrl/src/qutip_qtrl/sandbox.ipynb#X24sZmlsZQ%3D%3D?line=27'>28</a>\u001b[0m     integrator_kwargs \u001b[39m=\u001b[39;49m {\n\u001b[0;32m     <a href='vscode-notebook-cell:/c%3A/Users/Admin20200727/Code/qutip-qtrl/src/qutip_qtrl/sandbox.ipynb#X24sZmlsZQ%3D%3D?line=28'>29</a>\u001b[0m         \u001b[39m\"\u001b[39;49m\u001b[39mprogress_bar\u001b[39;49m\u001b[39m\"\u001b[39;49m: \u001b[39mFalse\u001b[39;49;00m,\n\u001b[0;32m     <a href='vscode-notebook-cell:/c%3A/Users/Admin20200727/Code/qutip-qtrl/src/qutip_qtrl/sandbox.ipynb#X24sZmlsZQ%3D%3D?line=29'>30</a>\u001b[0m         \u001b[39m\"\u001b[39;49m\u001b[39mmethod\u001b[39;49m\u001b[39m\"\u001b[39;49m: \u001b[39m\"\u001b[39;49m\u001b[39mdiffrax\u001b[39;49m\u001b[39m\"\u001b[39;49m,\n\u001b[0;32m     <a href='vscode-notebook-cell:/c%3A/Users/Admin20200727/Code/qutip-qtrl/src/qutip_qtrl/sandbox.ipynb#X24sZmlsZQ%3D%3D?line=30'>31</a>\u001b[0m         \u001b[39m\"\u001b[39;49m\u001b[39msolver\u001b[39;49m\u001b[39m\"\u001b[39;49m: Dopri5(),\n\u001b[0;32m     <a href='vscode-notebook-cell:/c%3A/Users/Admin20200727/Code/qutip-qtrl/src/qutip_qtrl/sandbox.ipynb#X24sZmlsZQ%3D%3D?line=31'>32</a>\u001b[0m         \u001b[39m\"\u001b[39;49m\u001b[39mstepsize_controller\u001b[39;49m\u001b[39m\"\u001b[39;49m:\n\u001b[0;32m     <a href='vscode-notebook-cell:/c%3A/Users/Admin20200727/Code/qutip-qtrl/src/qutip_qtrl/sandbox.ipynb#X24sZmlsZQ%3D%3D?line=32'>33</a>\u001b[0m             PIDController(\n\u001b[0;32m     <a href='vscode-notebook-cell:/c%3A/Users/Admin20200727/Code/qutip-qtrl/src/qutip_qtrl/sandbox.ipynb#X24sZmlsZQ%3D%3D?line=33'>34</a>\u001b[0m                 rtol\u001b[39m=\u001b[39;49mrtol,\n\u001b[0;32m     <a href='vscode-notebook-cell:/c%3A/Users/Admin20200727/Code/qutip-qtrl/src/qutip_qtrl/sandbox.ipynb#X24sZmlsZQ%3D%3D?line=34'>35</a>\u001b[0m                 atol\u001b[39m=\u001b[39;49matol,\n\u001b[0;32m     <a href='vscode-notebook-cell:/c%3A/Users/Admin20200727/Code/qutip-qtrl/src/qutip_qtrl/sandbox.ipynb#X24sZmlsZQ%3D%3D?line=35'>36</a>\u001b[0m             ),\n\u001b[0;32m     <a href='vscode-notebook-cell:/c%3A/Users/Admin20200727/Code/qutip-qtrl/src/qutip_qtrl/sandbox.ipynb#X24sZmlsZQ%3D%3D?line=36'>37</a>\u001b[0m     },\n\u001b[0;32m     <a href='vscode-notebook-cell:/c%3A/Users/Admin20200727/Code/qutip-qtrl/src/qutip_qtrl/sandbox.ipynb#X24sZmlsZQ%3D%3D?line=37'>38</a>\u001b[0m )\n",
      "File \u001b[1;32mc:\\Users\\Admin20200727\\Code\\qutip-qtrl\\src\\qutip_qtrl\\optim_pulses.py:34\u001b[0m, in \u001b[0;36moptimize_pulses\u001b[1;34m(objectives, pulse_options, time_options, alg, **kwargs)\u001b[0m\n\u001b[0;32m     30\u001b[0m \u001b[39mdef\u001b[39;00m \u001b[39moptimize_pulses\u001b[39m(objectives, pulse_options, time_options, alg\u001b[39m=\u001b[39m\u001b[39m\"\u001b[39m\u001b[39mGOAT\u001b[39m\u001b[39m\"\u001b[39m, \u001b[39m*\u001b[39m\u001b[39m*\u001b[39mkwargs):\n\u001b[0;32m     31\u001b[0m \n\u001b[0;32m     32\u001b[0m     \u001b[39m# run algorithm specific optimization\u001b[39;00m\n\u001b[0;32m     33\u001b[0m     \u001b[39mif\u001b[39;00m alg \u001b[39m==\u001b[39m \u001b[39m\"\u001b[39m\u001b[39mGOAT\u001b[39m\u001b[39m\"\u001b[39m:\n\u001b[1;32m---> 34\u001b[0m         \u001b[39mreturn\u001b[39;00m optim_pulses(\n\u001b[0;32m     35\u001b[0m             objectives,\n\u001b[0;32m     36\u001b[0m             pulse_options,\n\u001b[0;32m     37\u001b[0m             time_options,\n\u001b[0;32m     38\u001b[0m             \u001b[39m*\u001b[39;49m\u001b[39m*\u001b[39;49mkwargs\n\u001b[0;32m     39\u001b[0m         )\n\u001b[0;32m     40\u001b[0m     \u001b[39melse\u001b[39;00m:  \u001b[39m# GRAPE or CRAB\u001b[39;00m\n\u001b[0;32m     41\u001b[0m         \u001b[39mif\u001b[39;00m \u001b[39mlen\u001b[39m(objectives) \u001b[39m!=\u001b[39m \u001b[39m1\u001b[39m:\n",
      "File \u001b[1;32m~\\Code\\qutip-qtrl\\src\\qutip_qtrl\\goat.py:528\u001b[0m, in \u001b[0;36moptimize_pulses\u001b[1;34m(objectives, pulse_options, time_options, **kwargs)\u001b[0m\n\u001b[0;32m    520\u001b[0m \u001b[39mdef\u001b[39;00m \u001b[39mmin_callback\u001b[39m(xk): \u001b[39mreturn\u001b[39;00m \u001b[39mprint\u001b[39m(\n\u001b[0;32m    521\u001b[0m     \u001b[39m\"\u001b[39m\u001b[39mMinimizer step, infidelity: $\u001b[39m\u001b[39m%.2f\u001b[39;00m\u001b[39m\"\u001b[39m \u001b[39m%\u001b[39m goats\u001b[39m.\u001b[39mmean_infid\n\u001b[0;32m    522\u001b[0m ) \u001b[39mif\u001b[39;00m minimizer_kwargs\u001b[39m.\u001b[39mget(\u001b[39m\"\u001b[39m\u001b[39mdisp\u001b[39m\u001b[39m\"\u001b[39m, \u001b[39mFalse\u001b[39;00m) \u001b[39melse\u001b[39;00m \u001b[39mNone\u001b[39;00m\n\u001b[0;32m    524\u001b[0m \u001b[39mdef\u001b[39;00m \u001b[39mopt_callback\u001b[39m(xk, f, accept): \u001b[39mreturn\u001b[39;00m \u001b[39mprint\u001b[39m(\n\u001b[0;32m    525\u001b[0m     \u001b[39m\"\u001b[39m\u001b[39mtook $\u001b[39m\u001b[39m%.2f\u001b[39;00m\u001b[39m seconds\u001b[39m\u001b[39m\"\u001b[39m  \u001b[39m# %result.time_iter()\u001b[39;00m\n\u001b[0;32m    526\u001b[0m ) \u001b[39mif\u001b[39;00m optimizer_kwargs\u001b[39m.\u001b[39mget(\u001b[39m\"\u001b[39m\u001b[39mdisp\u001b[39m\u001b[39m\"\u001b[39m, \u001b[39mFalse\u001b[39;00m) \u001b[39melse\u001b[39;00m \u001b[39mNone\u001b[39;00m\n\u001b[1;32m--> 528\u001b[0m min_res \u001b[39m=\u001b[39m sp\u001b[39m.\u001b[39;49moptimize\u001b[39m.\u001b[39;49mbasinhopping(\n\u001b[0;32m    529\u001b[0m     func\u001b[39m=\u001b[39;49mgoats\u001b[39m.\u001b[39;49mgoal_fun,\n\u001b[0;32m    530\u001b[0m     minimizer_kwargs\u001b[39m=\u001b[39;49m{\n\u001b[0;32m    531\u001b[0m         \u001b[39m'\u001b[39;49m\u001b[39mjac\u001b[39;49m\u001b[39m'\u001b[39;49m: goats\u001b[39m.\u001b[39;49mcomp_grad,\n\u001b[0;32m    532\u001b[0m         \u001b[39m'\u001b[39;49m\u001b[39mcallback\u001b[39;49m\u001b[39m'\u001b[39;49m: min_callback,\n\u001b[0;32m    533\u001b[0m         \u001b[39m*\u001b[39;49m\u001b[39m*\u001b[39;49mminimizer_kwargs\n\u001b[0;32m    534\u001b[0m     },\n\u001b[0;32m    535\u001b[0m     callback\u001b[39m=\u001b[39;49mopt_callback,\n\u001b[0;32m    536\u001b[0m     \u001b[39m*\u001b[39;49m\u001b[39m*\u001b[39;49moptimizer_kwargs\n\u001b[0;32m    537\u001b[0m )\n\u001b[0;32m    539\u001b[0m \u001b[39m# result.end_time()\u001b[39;00m\n\u001b[0;32m    540\u001b[0m \u001b[39m# result.generate_optimized_controls(\u001b[39;00m\n\u001b[0;32m    541\u001b[0m \u001b[39m#    optimizer_kwargs[\"x0\"], min_res.x, goats.get_parameterized_controls()\u001b[39;00m\n\u001b[1;32m   (...)\u001b[0m\n\u001b[0;32m    545\u001b[0m \u001b[39m#    min_res=min_res,\u001b[39;00m\n\u001b[0;32m    546\u001b[0m \u001b[39m# )\u001b[39;00m\n\u001b[0;32m    548\u001b[0m \u001b[39mreturn\u001b[39;00m min_res\n",
      "File \u001b[1;32mc:\\Users\\Admin20200727\\miniconda3\\envs\\qutip-dev\\Lib\\site-packages\\scipy\\optimize\\_basinhopping.py:727\u001b[0m, in \u001b[0;36mbasinhopping\u001b[1;34m(func, x0, niter, T, stepsize, minimizer_kwargs, take_step, accept_test, callback, interval, disp, niter_success, seed, target_accept_rate, stepwise_factor)\u001b[0m\n\u001b[0;32m    724\u001b[0m message \u001b[39m=\u001b[39m [\u001b[39m\"\u001b[39m\u001b[39mrequested number of basinhopping iterations completed\u001b[39m\u001b[39m\"\u001b[39m\n\u001b[0;32m    725\u001b[0m            \u001b[39m\"\u001b[39m\u001b[39m successfully\u001b[39m\u001b[39m\"\u001b[39m]\n\u001b[0;32m    726\u001b[0m \u001b[39mfor\u001b[39;00m i \u001b[39min\u001b[39;00m \u001b[39mrange\u001b[39m(niter):\n\u001b[1;32m--> 727\u001b[0m     new_global_min \u001b[39m=\u001b[39m bh\u001b[39m.\u001b[39;49mone_cycle()\n\u001b[0;32m    729\u001b[0m     \u001b[39mif\u001b[39;00m \u001b[39mcallable\u001b[39m(callback):\n\u001b[0;32m    730\u001b[0m         \u001b[39m# should we pass a copy of x?\u001b[39;00m\n\u001b[0;32m    731\u001b[0m         val \u001b[39m=\u001b[39m callback(bh\u001b[39m.\u001b[39mxtrial, bh\u001b[39m.\u001b[39menergy_trial, bh\u001b[39m.\u001b[39maccept)\n",
      "File \u001b[1;32mc:\\Users\\Admin20200727\\miniconda3\\envs\\qutip-dev\\Lib\\site-packages\\scipy\\optimize\\_basinhopping.py:162\u001b[0m, in \u001b[0;36mBasinHoppingRunner.one_cycle\u001b[1;34m(self)\u001b[0m\n\u001b[0;32m    159\u001b[0m \u001b[39mself\u001b[39m\u001b[39m.\u001b[39mnstep \u001b[39m+\u001b[39m\u001b[39m=\u001b[39m \u001b[39m1\u001b[39m\n\u001b[0;32m    160\u001b[0m new_global_min \u001b[39m=\u001b[39m \u001b[39mFalse\u001b[39;00m\n\u001b[1;32m--> 162\u001b[0m accept, minres \u001b[39m=\u001b[39m \u001b[39mself\u001b[39;49m\u001b[39m.\u001b[39;49m_monte_carlo_step()\n\u001b[0;32m    164\u001b[0m \u001b[39mif\u001b[39;00m accept:\n\u001b[0;32m    165\u001b[0m     \u001b[39mself\u001b[39m\u001b[39m.\u001b[39menergy \u001b[39m=\u001b[39m minres\u001b[39m.\u001b[39mfun\n",
      "File \u001b[1;32mc:\\Users\\Admin20200727\\miniconda3\\envs\\qutip-dev\\Lib\\site-packages\\scipy\\optimize\\_basinhopping.py:111\u001b[0m, in \u001b[0;36mBasinHoppingRunner._monte_carlo_step\u001b[1;34m(self)\u001b[0m\n\u001b[0;32m    108\u001b[0m x_after_step \u001b[39m=\u001b[39m \u001b[39mself\u001b[39m\u001b[39m.\u001b[39mstep_taking(x_after_step)\n\u001b[0;32m    110\u001b[0m \u001b[39m# do a local minimization\u001b[39;00m\n\u001b[1;32m--> 111\u001b[0m minres \u001b[39m=\u001b[39m \u001b[39mself\u001b[39;49m\u001b[39m.\u001b[39;49mminimizer(x_after_step)\n\u001b[0;32m    112\u001b[0m x_after_quench \u001b[39m=\u001b[39m minres\u001b[39m.\u001b[39mx\n\u001b[0;32m    113\u001b[0m energy_after_quench \u001b[39m=\u001b[39m minres\u001b[39m.\u001b[39mfun\n",
      "File \u001b[1;32mc:\\Users\\Admin20200727\\miniconda3\\envs\\qutip-dev\\Lib\\site-packages\\scipy\\optimize\\_basinhopping.py:303\u001b[0m, in \u001b[0;36mMinimizerWrapper.__call__\u001b[1;34m(self, x0)\u001b[0m\n\u001b[0;32m    301\u001b[0m     \u001b[39mreturn\u001b[39;00m \u001b[39mself\u001b[39m\u001b[39m.\u001b[39mminimizer(x0, \u001b[39m*\u001b[39m\u001b[39m*\u001b[39m\u001b[39mself\u001b[39m\u001b[39m.\u001b[39mkwargs)\n\u001b[0;32m    302\u001b[0m \u001b[39melse\u001b[39;00m:\n\u001b[1;32m--> 303\u001b[0m     \u001b[39mreturn\u001b[39;00m \u001b[39mself\u001b[39;49m\u001b[39m.\u001b[39;49mminimizer(\u001b[39mself\u001b[39;49m\u001b[39m.\u001b[39;49mfunc, x0, \u001b[39m*\u001b[39;49m\u001b[39m*\u001b[39;49m\u001b[39mself\u001b[39;49m\u001b[39m.\u001b[39;49mkwargs)\n",
      "File \u001b[1;32mc:\\Users\\Admin20200727\\miniconda3\\envs\\qutip-dev\\Lib\\site-packages\\scipy\\optimize\\_minimize.py:710\u001b[0m, in \u001b[0;36mminimize\u001b[1;34m(fun, x0, args, method, jac, hess, hessp, bounds, constraints, tol, callback, options)\u001b[0m\n\u001b[0;32m    707\u001b[0m     res \u001b[39m=\u001b[39m _minimize_newtoncg(fun, x0, args, jac, hess, hessp, callback,\n\u001b[0;32m    708\u001b[0m                              \u001b[39m*\u001b[39m\u001b[39m*\u001b[39moptions)\n\u001b[0;32m    709\u001b[0m \u001b[39melif\u001b[39;00m meth \u001b[39m==\u001b[39m \u001b[39m'\u001b[39m\u001b[39ml-bfgs-b\u001b[39m\u001b[39m'\u001b[39m:\n\u001b[1;32m--> 710\u001b[0m     res \u001b[39m=\u001b[39m _minimize_lbfgsb(fun, x0, args, jac, bounds,\n\u001b[0;32m    711\u001b[0m                            callback\u001b[39m=\u001b[39;49mcallback, \u001b[39m*\u001b[39;49m\u001b[39m*\u001b[39;49moptions)\n\u001b[0;32m    712\u001b[0m \u001b[39melif\u001b[39;00m meth \u001b[39m==\u001b[39m \u001b[39m'\u001b[39m\u001b[39mtnc\u001b[39m\u001b[39m'\u001b[39m:\n\u001b[0;32m    713\u001b[0m     res \u001b[39m=\u001b[39m _minimize_tnc(fun, x0, args, jac, bounds, callback\u001b[39m=\u001b[39mcallback,\n\u001b[0;32m    714\u001b[0m                         \u001b[39m*\u001b[39m\u001b[39m*\u001b[39moptions)\n",
      "File \u001b[1;32mc:\\Users\\Admin20200727\\miniconda3\\envs\\qutip-dev\\Lib\\site-packages\\scipy\\optimize\\_lbfgsb_py.py:361\u001b[0m, in \u001b[0;36m_minimize_lbfgsb\u001b[1;34m(fun, x0, args, jac, bounds, disp, maxcor, ftol, gtol, eps, maxfun, maxiter, iprint, callback, maxls, finite_diff_rel_step, **unknown_options)\u001b[0m\n\u001b[0;32m    355\u001b[0m task_str \u001b[39m=\u001b[39m task\u001b[39m.\u001b[39mtobytes()\n\u001b[0;32m    356\u001b[0m \u001b[39mif\u001b[39;00m task_str\u001b[39m.\u001b[39mstartswith(\u001b[39mb\u001b[39m\u001b[39m'\u001b[39m\u001b[39mFG\u001b[39m\u001b[39m'\u001b[39m):\n\u001b[0;32m    357\u001b[0m     \u001b[39m# The minimization routine wants f and g at the current x.\u001b[39;00m\n\u001b[0;32m    358\u001b[0m     \u001b[39m# Note that interruptions due to maxfun are postponed\u001b[39;00m\n\u001b[0;32m    359\u001b[0m     \u001b[39m# until the completion of the current minimization iteration.\u001b[39;00m\n\u001b[0;32m    360\u001b[0m     \u001b[39m# Overwrite f and g:\u001b[39;00m\n\u001b[1;32m--> 361\u001b[0m     f, g \u001b[39m=\u001b[39m func_and_grad(x)\n\u001b[0;32m    362\u001b[0m \u001b[39melif\u001b[39;00m task_str\u001b[39m.\u001b[39mstartswith(\u001b[39mb\u001b[39m\u001b[39m'\u001b[39m\u001b[39mNEW_X\u001b[39m\u001b[39m'\u001b[39m):\n\u001b[0;32m    363\u001b[0m     \u001b[39m# new iteration\u001b[39;00m\n\u001b[0;32m    364\u001b[0m     n_iterations \u001b[39m+\u001b[39m\u001b[39m=\u001b[39m \u001b[39m1\u001b[39m\n",
      "File \u001b[1;32mc:\\Users\\Admin20200727\\miniconda3\\envs\\qutip-dev\\Lib\\site-packages\\scipy\\optimize\\_differentiable_functions.py:285\u001b[0m, in \u001b[0;36mScalarFunction.fun_and_grad\u001b[1;34m(self, x)\u001b[0m\n\u001b[0;32m    283\u001b[0m \u001b[39mif\u001b[39;00m \u001b[39mnot\u001b[39;00m np\u001b[39m.\u001b[39marray_equal(x, \u001b[39mself\u001b[39m\u001b[39m.\u001b[39mx):\n\u001b[0;32m    284\u001b[0m     \u001b[39mself\u001b[39m\u001b[39m.\u001b[39m_update_x_impl(x)\n\u001b[1;32m--> 285\u001b[0m \u001b[39mself\u001b[39;49m\u001b[39m.\u001b[39;49m_update_fun()\n\u001b[0;32m    286\u001b[0m \u001b[39mself\u001b[39m\u001b[39m.\u001b[39m_update_grad()\n\u001b[0;32m    287\u001b[0m \u001b[39mreturn\u001b[39;00m \u001b[39mself\u001b[39m\u001b[39m.\u001b[39mf, \u001b[39mself\u001b[39m\u001b[39m.\u001b[39mg\n",
      "File \u001b[1;32mc:\\Users\\Admin20200727\\miniconda3\\envs\\qutip-dev\\Lib\\site-packages\\scipy\\optimize\\_differentiable_functions.py:251\u001b[0m, in \u001b[0;36mScalarFunction._update_fun\u001b[1;34m(self)\u001b[0m\n\u001b[0;32m    249\u001b[0m \u001b[39mdef\u001b[39;00m \u001b[39m_update_fun\u001b[39m(\u001b[39mself\u001b[39m):\n\u001b[0;32m    250\u001b[0m     \u001b[39mif\u001b[39;00m \u001b[39mnot\u001b[39;00m \u001b[39mself\u001b[39m\u001b[39m.\u001b[39mf_updated:\n\u001b[1;32m--> 251\u001b[0m         \u001b[39mself\u001b[39;49m\u001b[39m.\u001b[39;49m_update_fun_impl()\n\u001b[0;32m    252\u001b[0m         \u001b[39mself\u001b[39m\u001b[39m.\u001b[39mf_updated \u001b[39m=\u001b[39m \u001b[39mTrue\u001b[39;00m\n",
      "File \u001b[1;32mc:\\Users\\Admin20200727\\miniconda3\\envs\\qutip-dev\\Lib\\site-packages\\scipy\\optimize\\_differentiable_functions.py:155\u001b[0m, in \u001b[0;36mScalarFunction.__init__.<locals>.update_fun\u001b[1;34m()\u001b[0m\n\u001b[0;32m    154\u001b[0m \u001b[39mdef\u001b[39;00m \u001b[39mupdate_fun\u001b[39m():\n\u001b[1;32m--> 155\u001b[0m     \u001b[39mself\u001b[39m\u001b[39m.\u001b[39mf \u001b[39m=\u001b[39m fun_wrapped(\u001b[39mself\u001b[39;49m\u001b[39m.\u001b[39;49mx)\n",
      "File \u001b[1;32mc:\\Users\\Admin20200727\\miniconda3\\envs\\qutip-dev\\Lib\\site-packages\\scipy\\optimize\\_differentiable_functions.py:137\u001b[0m, in \u001b[0;36mScalarFunction.__init__.<locals>.fun_wrapped\u001b[1;34m(x)\u001b[0m\n\u001b[0;32m    133\u001b[0m \u001b[39mself\u001b[39m\u001b[39m.\u001b[39mnfev \u001b[39m+\u001b[39m\u001b[39m=\u001b[39m \u001b[39m1\u001b[39m\n\u001b[0;32m    134\u001b[0m \u001b[39m# Send a copy because the user may overwrite it.\u001b[39;00m\n\u001b[0;32m    135\u001b[0m \u001b[39m# Overwriting results in undefined behaviour because\u001b[39;00m\n\u001b[0;32m    136\u001b[0m \u001b[39m# fun(self.x) will change self.x, with the two no longer linked.\u001b[39;00m\n\u001b[1;32m--> 137\u001b[0m fx \u001b[39m=\u001b[39m fun(np\u001b[39m.\u001b[39;49mcopy(x), \u001b[39m*\u001b[39;49margs)\n\u001b[0;32m    138\u001b[0m \u001b[39m# Make sure the function returns a true scalar\u001b[39;00m\n\u001b[0;32m    139\u001b[0m \u001b[39mif\u001b[39;00m \u001b[39mnot\u001b[39;00m np\u001b[39m.\u001b[39misscalar(fx):\n",
      "File \u001b[1;32m~\\Code\\qutip-qtrl\\src\\qutip_qtrl\\goat.py:282\u001b[0m, in \u001b[0;36mMulti_GOAT.goal_fun\u001b[1;34m(self, params)\u001b[0m\n\u001b[0;32m    280\u001b[0m i \u001b[39m=\u001b[39m \u001b[39m0\u001b[39m\n\u001b[0;32m    281\u001b[0m \u001b[39mfor\u001b[39;00m goat \u001b[39min\u001b[39;00m \u001b[39mself\u001b[39m\u001b[39m.\u001b[39mgoats:  \u001b[39m# TODO: parallelize\u001b[39;00m\n\u001b[1;32m--> 282\u001b[0m     goat\u001b[39m.\u001b[39minfid, goat\u001b[39m.\u001b[39mg, goat\u001b[39m.\u001b[39mU, goat\u001b[39m.\u001b[39mdU \u001b[39m=\u001b[39m goat\u001b[39m.\u001b[39;49mcomp_infidelity(params)\n\u001b[0;32m    283\u001b[0m     \u001b[39mif\u001b[39;00m goat\u001b[39m.\u001b[39minfid \u001b[39m<\u001b[39m \u001b[39m0\u001b[39m:\n\u001b[0;32m    284\u001b[0m         \u001b[39mprint\u001b[39m(\n\u001b[0;32m    285\u001b[0m             \u001b[39m\"\u001b[39m\u001b[39mWARNING: infidelity < 0 -> inaccurate integration, \u001b[39m\u001b[39m\"\u001b[39m\n\u001b[0;32m    286\u001b[0m             \u001b[39m\"\u001b[39m\u001b[39mtry reducing integrator tolerance (atol, rtol)\u001b[39m\u001b[39m\"\u001b[39m\n\u001b[0;32m    287\u001b[0m         )\n",
      "File \u001b[1;32m~\\Code\\qutip-jax\\src\\qutip_jax\\jaxarray.py:97\u001b[0m, in \u001b[0;36mJaxArray._tree_unflatten\u001b[1;34m(cls, aux_data, children)\u001b[0m\n\u001b[0;32m     94\u001b[0m     aux_data \u001b[39m=\u001b[39m {}  \u001b[39m# static values\u001b[39;00m\n\u001b[0;32m     95\u001b[0m     \u001b[39mreturn\u001b[39;00m (children, aux_data)\n\u001b[1;32m---> 97\u001b[0m \u001b[39m@classmethod\u001b[39m\n\u001b[0;32m     98\u001b[0m \u001b[39mdef\u001b[39;00m \u001b[39m_tree_unflatten\u001b[39m(\u001b[39mcls\u001b[39m, aux_data, children):\n\u001b[0;32m     99\u001b[0m     \u001b[39m# unflatten should not check data validity\u001b[39;00m\n\u001b[0;32m    100\u001b[0m     \u001b[39m# jax can pass tracer, object, etc.\u001b[39;00m\n\u001b[0;32m    101\u001b[0m     out \u001b[39m=\u001b[39m \u001b[39mcls\u001b[39m\u001b[39m.\u001b[39m\u001b[39m__new__\u001b[39m(\u001b[39mcls\u001b[39m)\n\u001b[0;32m    102\u001b[0m     out\u001b[39m.\u001b[39m_jxa \u001b[39m=\u001b[39m children[\u001b[39m0\u001b[39m]\n",
      "\u001b[1;31mKeyboardInterrupt\u001b[0m: "
     ]
    }
   ],
   "source": [
    "opt(\n",
    "    objectives=[Objective(initial, evo_jax, target)],\n",
    "    pulse_options={\n",
    "        \"sin_x\": {\n",
    "            \"guess\": [0. for _ in range(3)],\n",
    "            \"bounds\": [(-10, 10) for _ in range(3)],\n",
    "        },\n",
    "        \"sin_y\": {\n",
    "            \"guess\": [0. for _ in range(3)],\n",
    "            \"bounds\": [(-10, 10) for _ in range(3)],\n",
    "        },\n",
    "    },\n",
    "    time_options={\n",
    "        \"evo_time\": evo_time,\n",
    "        \"guess\": [evo_time[-1]],\n",
    "        \"bounds\": [(0, evo_time[-1]*2)],\n",
    "    },\n",
    "    optimizer_kwargs = {\n",
    "        \"disp\": True,\n",
    "        \"niter\": 100,  # = 0: no global search\n",
    "        \"seed\": 123,  # deterministic results\n",
    "        # num of iters without improvement before stopping\n",
    "        \"niter_success\": 10,\n",
    "    },\n",
    "    minimizer_kwargs = {\n",
    "        \"tol\": tol,\n",
    "    },\n",
    "    integrator_kwargs = {\n",
    "        \"progress_bar\": False,\n",
    "        \"method\": \"diffrax\",\n",
    "        \"solver\": Dopri5(),\n",
    "        \"stepsize_controller\":\n",
    "            PIDController(\n",
    "                rtol=rtol,\n",
    "                atol=atol,\n",
    "            ),\n",
    "    },\n",
    ")"
   ]
  },
  {
   "cell_type": "code",
   "execution_count": null,
   "metadata": {},
   "outputs": [],
   "source": []
  }
 ],
 "metadata": {
  "kernelspec": {
   "display_name": "Python 3 (ipykernel)",
   "language": "python",
   "name": "python3"
  },
  "language_info": {
   "codemirror_mode": {
    "name": "ipython",
    "version": 3
   },
   "file_extension": ".py",
   "mimetype": "text/x-python",
   "name": "python",
   "nbconvert_exporter": "python",
   "pygments_lexer": "ipython3",
   "version": "3.11.4"
  }
 },
 "nbformat": 4,
 "nbformat_minor": 2
}
