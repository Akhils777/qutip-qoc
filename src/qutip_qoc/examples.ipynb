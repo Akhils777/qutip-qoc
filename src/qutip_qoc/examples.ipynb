{
 "cells": [
  {
   "cell_type": "code",
   "execution_count": null,
   "metadata": {},
   "outputs": [],
   "source": [
    "import qutip as qt\n",
    "\n",
    "import numpy as np\n",
    "from matplotlib import pyplot as plt\n",
    "\n",
    "import jax\n",
    "import jax.numpy as jnp\n",
    "from diffrax import Dopri5, PIDController, Dopri8\n",
    "\n",
    "from qutip_qoc import optimize_pulses, TimeInterval, Objective"
   ]
  },
  {
   "cell_type": "markdown",
   "metadata": {},
   "source": [
    "# Quantum Optimal Control Task\n",
    "\n",
    "We want to transform an initial system $X$ through application of $H$ into a desired target $X_\\mathrm{trgt}$."
   ]
  },
  {
   "cell_type": "markdown",
   "metadata": {},
   "source": [
    "\\begin{gather*}\n",
    "    X(t=0) \\underset{H}{\\longrightarrow} X_\\mathrm{trgt}=X(t=T)\n",
    "\\end{gather*}"
   ]
  },
  {
   "cell_type": "markdown",
   "metadata": {},
   "source": [
    "The transformation must obay the Schrödinger equation"
   ]
  },
  {
   "cell_type": "markdown",
   "metadata": {},
   "source": [
    "\\begin{gather}\n",
    "    \\partial_{t} X(t) = - \\mathrm i \\underbrace{\\left( A + \\sum_{k=0}^{C-1} c_k(t, \\vec{\\alpha}_k) B_k \\right)}_{H} X(t)\n",
    "\\end{gather}"
   ]
  },
  {
   "cell_type": "markdown",
   "metadata": {},
   "source": [
    "for closed systems. Different settings are possible"
   ]
  },
  {
   "cell_type": "markdown",
   "metadata": {},
   "source": [
    "\\begin{array}{c|c|c|c}\n",
    " & \\text{drift } A        & \\text{controls } B_k & X(t, \\alpha) \\\\\\hline\n",
    " \\text{state transfer}  &  H_d         &  B_k& |\\Psi(t, \\alpha)>\\\\\n",
    " \\text{gate synthesis}       &  H_d         &  B_k & U(t, \\alpha)   \\\\\\hline\n",
    " \\text{state transfer}      &  \\hat H_d    &  \\hat B_k & \\rho(t, \\alpha) \\\\\n",
    " \\text{gate synthesis}     &  \\hat H_d    &  \\hat B_k & \\hat{U}(t, \\alpha)\n",
    "\\end{array}"
   ]
  },
  {
   "cell_type": "markdown",
   "metadata": {},
   "source": [
    "where super-operators are labeled by a hat. Two possible figures of merit are \n",
    "$f_\\mathrm{SU} = \\mathrm{Re}(g) \\text{ and } f_\\mathrm{PSU} = |g|$"
   ]
  },
  {
   "cell_type": "markdown",
   "metadata": {},
   "source": [
    "\\begin{gather*}\n",
    "    g = \\frac{1}{\\|{X_\\mathrm{trgt}} \\|} \\mathrm{tr} \\left[X_\\mathrm{trgt}^{\\dagger} X(T, \\alpha) \\right]\n",
    "\\end{gather*}"
   ]
  },
  {
   "cell_type": "markdown",
   "metadata": {},
   "source": [
    "Open systems must obay the Master equation with Lindbladian $\\hat L$ and trace difference $f_\\mathrm{TRCDFF} = \\mathrm{Re}(d)$ as possible distance measure."
   ]
  },
  {
   "cell_type": "markdown",
   "metadata": {},
   "source": [
    "\\begin{array}{c|c|c|c}\n",
    "  & \\text{drift } A   & \\text{controls } B_k & X(t, \\alpha) \\\\\\hline\n",
    " \\text{state transfer}     &  \\hat H_d +\n",
    " \\mathrm i \\hat{L}    &  \\hat B_k& \\rho(t, \\alpha) \\\\\n",
    " \\text{map synthesis}         &   \\hat H_d + \\mathrm i \\hat L    &  \\hat B_k& \\hat{U}(t, \\alpha)\\\\\n",
    "\\end{array}"
   ]
  },
  {
   "cell_type": "markdown",
   "metadata": {},
   "source": [
    "\\begin{gather*}\n",
    "    d = \\frac{1}{2\\|{X_\\mathrm{trgt}} \\|} \\mathrm{tr} \\left[ (X(T, \\alpha) - X_\\mathrm{trgt})^\\dagger  (X(T, \\alpha) - X_\\mathrm{trgt})\\right]\n",
    "\\end{gather*}"
   ]
  },
  {
   "cell_type": "markdown",
   "metadata": {},
   "source": [
    "---\n",
    "# GRadient Ascent Pulse Engineering (GRAPE) [1]\n",
    "---"
   ]
  },
  {
   "cell_type": "markdown",
   "metadata": {},
   "source": [
    "Slice time interval $T$ in $M$ chunks of size $\\Delta t$, with piecewise constant functions $c_k(t_i, \\alpha_{i,k}) = \\alpha_{i,k}$ $\\forall i \\in [1, M]$"
   ]
  },
  {
   "cell_type": "markdown",
   "metadata": {},
   "source": [
    "\\begin{gather*}\n",
    "H(t_i, \\alpha) \\approx A + \\sum_{k=0}^{C-1} \\alpha_{i,k} B_k \\\\\n",
    "\n",
    "X(t_i, \\alpha) = \\underbrace{X_i}_{\\exp(-\\mathrm i H(t_i, \\alpha) \\Delta t)}\n",
    "X_{i-1} \\dots X_1 X_0\n",
    "\\end{gather*}"
   ]
  },
  {
   "cell_type": "markdown",
   "metadata": {},
   "source": [
    "and update parameters according to $\\frac{\\partial f^{(r)}(X(t, \\alpha))}{\\partial \\alpha_{i,k}}$."
   ]
  },
  {
   "cell_type": "markdown",
   "metadata": {},
   "source": [
    "<img src=\"doc_images\\DYNAMO.png\" alt=\"dynamo\" width=\"600\"/>"
   ]
  },
  {
   "cell_type": "markdown",
   "metadata": {},
   "source": [
    "[1] S. Machnes, U. Sander, S. J. Glaser, P. De Fouquieres, A. Gruslys, S. Schirmer, and T. Schulte-Herbrueggen, Comparing, Optimising and Benchmarking Quantum Control Algorithms in a Unifying Programming Framework, Phys. Rev. A. 84, 022305 (2010). arXiv:1011.4874"
   ]
  },
  {
   "cell_type": "markdown",
   "metadata": {},
   "source": [
    "---\n",
    "# Chopped RAndom Basis (CRAB)[2]\n",
    "---"
   ]
  },
  {
   "cell_type": "markdown",
   "metadata": {},
   "source": [
    "Update initial guess controls $c^{\\text{ init}}_k(t, \\vec \\alpha_k)$ through parameterized update function $g_k(t, \\vec \\beta_k)$ expanded in some function basis i.e. Fourier:"
   ]
  },
  {
   "cell_type": "markdown",
   "metadata": {},
   "source": [
    "\\begin{align*}\n",
    "    c^{\\text{ update}}_k(t, \\vec \\alpha_k) &= c^{\\text{ init}}_k(t, \\vec \\alpha_k) \\cdot g_k(t, \\vec \\beta_k) \\\\ \\\\\n",
    "    &= c^{\\text{ init}}_k(t, \\vec \\alpha_k) \\left( 1 +\n",
    "    \\sum_{l=1}^{\\infty} A_l \\sin ( \\omega_l t) + B_l \\cos ( \\omega_l t) \\right)\n",
    "\\end{align*}"
   ]
  },
  {
   "cell_type": "markdown",
   "metadata": {},
   "source": [
    "fix + randomly choose $\\omega_l$ and chop to finite basis $l\\in[1, L]$"
   ]
  },
  {
   "cell_type": "markdown",
   "metadata": {},
   "source": [
    "<img src=\"doc_images\\CRAB.png\" alt=\"crab\" width=\"800\"/>"
   ]
  },
  {
   "cell_type": "markdown",
   "metadata": {},
   "source": [
    "[2] Caneva, T. Calarco, & S. Montangero, Chopped random-basis quantum optimization, Phys. Rev. A 84, 022326 (2011). doi:10.1103/PhysRevA.84.022326"
   ]
  },
  {
   "cell_type": "markdown",
   "metadata": {},
   "source": [
    "---\n",
    "# Gradient Optimization of Analytic conTrols (GOAT) [3]\n",
    "---"
   ]
  },
  {
   "cell_type": "markdown",
   "metadata": {},
   "source": [
    "Taking the derivative of the Schrödinger operator equation w.r.t. the control parameters $\\alpha$"
   ]
  },
  {
   "cell_type": "markdown",
   "metadata": {},
   "source": [
    "\\begin{align}\n",
    "    \\mathrm i\\partial_{t} X = & \\phantom{xx} H X\\\\\n",
    "    \\mathrm i\\partial_{\\alpha}\\partial_{t} X = &\\partial_{\\alpha}  H X\n",
    "\\end{align}"
   ]
  },
  {
   "cell_type": "markdown",
   "metadata": {},
   "source": [
    "results in a coupled system of PDEs. Unrolling the right hand side for implementation"
   ]
  },
  {
   "cell_type": "markdown",
   "metadata": {},
   "source": [
    "\\begin{gather*}\n",
    "   {\\overset{\\text{RHS}}{\\longrightarrow}} \\begin{pmatrix}\n",
    "        H & 0 \\\\\n",
    "        \\partial_{{\\alpha}}{H}& H \\\\\n",
    "    \\end{pmatrix}\n",
    "    \\begin{pmatrix}\n",
    "        X \\\\\n",
    "        \\partial_{{\\alpha}}{X} \\\\\n",
    "    \\end{pmatrix}\n",
    "    = \\begin{pmatrix}\n",
    "        H X \\\\\n",
    "        (\\partial_{{\\alpha}}{H}) X + H (\\partial_{{\\alpha}}{X}) \\\\\n",
    "    \\end{pmatrix}\n",
    "    \\\\ \\\\ =\n",
    "    \\begin{pmatrix}\n",
    "        H & 0 & 0 & 0\\\\\n",
    "        \\partial_{\\vec{\\alpha}_0}{H}& H & 0 & 0 \\\\\n",
    "        \\partial_{\\vec{\\alpha}_1}{H}& 0 & H & 0 \\\\\n",
    "        \\vdots & 0 & 0 & \\ddots \\\\\n",
    "    \\end{pmatrix}\n",
    "     \\begin{pmatrix}\n",
    "        X \\\\\n",
    "        \\partial_{\\vec{\\alpha}_0}{X} \\\\\n",
    "        \\partial_{\\vec{\\alpha}_1}{X} \\\\\n",
    "        \\vdots \\\\\n",
    "    \\end{pmatrix}\n",
    "    \\\\ \\\\ \n",
    "\\end{gather*}\n",
    "\n",
    "\n"
   ]
  },
  {
   "cell_type": "markdown",
   "metadata": {},
   "source": [
    "\\begin{gather*}\n",
    "   =\n",
    "    \\begin{pmatrix}\n",
    "        A + \\sum_{k=0}^{C-1} c_k(\\vec{\\alpha}_k, t) B_k\\,& 0 & 0 & 0\\\\\n",
    "        \\sum_{k=0}^{C-1} B_k\\,\\partial_{\\vec{\\alpha}_0} c_k(\\vec{\\alpha}_k, t)& A + \\sum_{k=0}^{C-1} c_k(\\vec{\\alpha}_k, t) B_k\\,& 0 & 0 \\\\\n",
    "        \\sum_{k=0}^{C-1} B_k\\,\\partial_{\\vec{\\alpha}_1} c_k(\\vec{\\alpha}_k, t)& 0 & A + \\sum_{k=0}^{C-1} c_k(\\vec{\\alpha}_k, t) B_k\\,& 0 \\\\\n",
    "        \\vdots & 0 & 0 & \\ddots \\\\\n",
    "    \\end{pmatrix}\n",
    "    \\\\ \\\\ =\n",
    "    \\begin{pmatrix}\n",
    "        A & 0 & 0 & 0\\\\\n",
    "        0& A & 0 & 0 \\\\\n",
    "        0& 0 & A & 0 \\\\\n",
    "        0 & 0 & 0 & \\ddots \\\\\n",
    "    \\end{pmatrix}\n",
    "    +\\sum_{k=0}^{C-1}\n",
    "    \\begin{pmatrix}\n",
    "        c_k(\\vec{\\alpha}_k, t) B_k\\,& 0 & 0 & 0\\\\\n",
    "        B_k\\,\\partial_{\\vec{\\alpha}_0} c_k(\\vec{\\alpha}_k, t)&  c_k(\\vec{\\alpha}_k, t) B_k\\,& 0 & 0 \\\\\n",
    "        B_k\\,\\partial_{\\vec{\\alpha}_1} c_k(\\vec{\\alpha}_k, t)& 0 & c_k(\\vec{\\alpha}_k, t) B_k\\,& 0 \\\\\n",
    "        \\vdots & 0 & 0 & \\ddots \\\\\n",
    "    \\end{pmatrix}\n",
    "    \n",
    "    \n",
    "\\end{gather*}"
   ]
  },
  {
   "cell_type": "markdown",
   "metadata": {},
   "source": [
    "\\begin{gather*} =\n",
    "    (\\mathbf{I} \\otimes A) + \\sum_{k=0}^{C-1}\n",
    "    (\\mathbf{I} \\otimes B_k) c_k(\\vec{\\alpha}_k, t) +\n",
    "    \\begin{pmatrix}\n",
    "        0 & 0 &  \\\\\n",
    "        B_0\\, \\partial_{\\vec{\\alpha}_0} c_0(\\vec{\\alpha}_0, t)& 0 & \\\\\n",
    "        B_1\\,\\partial_{\\vec{\\alpha}_1} c_1(\\vec{\\alpha}_1, t)& 0  & \\\\\n",
    "        \\vdots &  & \\ddots \\\\\n",
    "    \\end{pmatrix}\n",
    "    \\\\ \\\\ =\n",
    "    (\\mathbf{I} \\otimes A) + \\sum_{k=0}^{C-1}\n",
    "    (\\mathbf{I} \\otimes B_k) c_k(\\vec{\\alpha}_k, t) +\n",
    "    \\sum_{k=0}^{C-1} (\\mathbf{1}_{0,k+1} \\otimes B_k) \\partial_{{\\alpha}_{k}} c_k(\\vec{\\alpha}_k, t)\n",
    "\\end{gather*}"
   ]
  },
  {
   "cell_type": "markdown",
   "metadata": {},
   "source": [
    "where $\\mathbf{1}_{0,k+1}$ is the zero square matrix with only one entry in the first column at row index $1 + (k \\cdot M + l)$ set to one, and ($l$ index of) $M$ is the number of varaible parameters for each control amplitude $c_k(\\vec{\\alpha}_k, t)$, i.e. for a superposition of Gaussian pulses with three variable parameters each $\\rightarrow M = 3 \\cdot m$:\n",
    "\\begin{gather*}\n",
    "    c_k(\\vec{\\alpha}_k, t) = \\sum_{l=0}^{M-1} A_{k,l} \\exp\\left({\\frac{-(t-\\tau_{k,l})^2}{\\sigma_{k,l}^2}}\\right)\n",
    "\\end{gather*}"
   ]
  },
  {
   "cell_type": "markdown",
   "metadata": {},
   "source": [
    "Expressing the Hamiltonian in this form makes it comfortable to implement it using QuTiP\n",
    "\\begin{gather*}\n",
    "    \\underbrace{(\\mathbf{I} \\otimes A)}_{\\mathrm{QobjEvo(}\\tilde{H}_d,f(x)=1)}\n",
    "     + \\sum_{k=0}^{C-1}\\underbrace{(\\mathbf{I} \\otimes B_k) c_k(\\vec{\\alpha}_k, t)}_{\\mathrm{QobjEvo(}\\tilde{H}_k,c_k(\\vec{\\alpha}_k, t))}\n",
    "     + \\sum_{k=0}^{C-1} \\sum_{l=0}^{M-1} \\underbrace{(\\mathbf{1}_{0,k+1} \\otimes B_k) \\partial_{{\\alpha}_{k,l}} c_k(\\vec{\\alpha}_k, t)}_{\\mathrm{QobjEvo(}\\tilde{H}_k,\\partial_{{\\alpha}_{k,l}} c_k(\\vec{\\alpha}_k, t))}\n",
    "\\end{gather*}"
   ]
  },
  {
   "cell_type": "markdown",
   "metadata": {},
   "source": [
    "We have now $1 + C + C \\cdot M = O(C \\cdot M)$ summands, i.e. the term grows linear with the number of parameters $N_{\\mathrm{para}} = C \\cdot M$. The size of the matrix however grows with $O(N_{\\mathrm{para}} \\cdot \\mathrm{dim}(A))$."
   ]
  },
  {
   "cell_type": "markdown",
   "metadata": {},
   "source": [
    "---\n",
    "# Example: Hadamard Gate (two level system)\n",
    "---"
   ]
  },
  {
   "cell_type": "markdown",
   "metadata": {},
   "source": [
    "\\begin{gather*}\n",
    "    X(t=0) = \\mathbf{I} \\longrightarrow X(T) = \\mathrm{H} = \\frac{1}{\\sqrt{2}} \\begin{bmatrix} 1 & 1 \\\\ 1 & -1 \\end{bmatrix}\n",
    "\\end{gather*}"
   ]
  },
  {
   "cell_type": "markdown",
   "metadata": {},
   "source": [
    "We want to get the optimal pulse for implementing the Hadamard gate in a lossy TLS."
   ]
  },
  {
   "cell_type": "code",
   "execution_count": null,
   "metadata": {},
   "outputs": [],
   "source": [
    "initial = qt.qeye(2)\n",
    "target = qt.gates.hadamard_transform()\n",
    "\n",
    "initial = qt.sprepost(initial, initial.dag())\n",
    "target = qt.sprepost(target, target.dag())"
   ]
  },
  {
   "cell_type": "markdown",
   "metadata": {},
   "source": [
    "\\begin{gather}\n",
    "    \\partial_{t} X(t) =-\\frac{i}{\\hbar}[H(\\vec{\\alpha}, t), X(t)]+ \\frac{1}{2} \\left[2 C X(t) C^\\dagger - X(t) C^\\dagger C - C^\\dagger C X(t)\\right] \\\\\n",
    "\\end{gather}\n",
    "\n",
    "\\begin{gather*}\n",
    "    H(\\vec{\\alpha}, t) = \\underbrace{\n",
    "            \\frac{1}{2} \\left(\\omega \\sigma_z +  \\Delta \\sigma_x\\right)\n",
    "        }_{H_d} \n",
    "    + H_c(\\vec{\\alpha}, t) \\text{ and }C = \\sqrt \\gamma a\n",
    "\\end{gather*}"
   ]
  },
  {
   "cell_type": "markdown",
   "metadata": {},
   "source": [
    "Time independent drift Hamiltonian"
   ]
  },
  {
   "cell_type": "code",
   "execution_count": null,
   "metadata": {},
   "outputs": [],
   "source": [
    "σx = qt.sigmax()\n",
    "σy = qt.sigmay()\n",
    "σz = qt.sigmaz()\n",
    "\n",
    "# energy splitting, tunneling, amplitude damping\n",
    "ω, Δ, γ = 0.1, 1.0, 0.1\n",
    "\n",
    "Hd = 1 / 2 * (ω * σz + Δ * σx)\n",
    "\n",
    "H_d = qt.liouvillian(H=Hd, c_ops=[np.sqrt(γ) * qt.sigmam()])"
   ]
  },
  {
   "cell_type": "code",
   "execution_count": null,
   "metadata": {},
   "outputs": [],
   "source": [
    "π = np.pi\n",
    "num_ts = 100\n",
    "interval = TimeInterval(evo_time=2 * π, n_tslots=num_ts)"
   ]
  },
  {
   "cell_type": "code",
   "execution_count": null,
   "metadata": {},
   "outputs": [],
   "source": [
    "Hc = [σx, σy, σz]\n",
    "H_c = [qt.liouvillian(H) for H in Hc]\n",
    "\n",
    "init_x = np.ones(num_ts)\n",
    "init_y = np.ones(num_ts)\n",
    "init_z = np.ones(num_ts)\n",
    "\n",
    "H = [H_d, [H_c[0], init_x], [H_c[1], init_y], [H_c[2], init_z]]"
   ]
  },
  {
   "cell_type": "markdown",
   "metadata": {},
   "source": [
    "Without pulse optimization the resulting gate looks like this."
   ]
  },
  {
   "cell_type": "code",
   "execution_count": null,
   "metadata": {},
   "outputs": [],
   "source": [
    "init_evo = qt.mesolve(H, initial, interval.tslots)\n",
    "\n",
    "qt.hinton(init_evo.final_state)"
   ]
  },
  {
   "cell_type": "markdown",
   "metadata": {},
   "source": [
    "# QuTiP GRAPE"
   ]
  },
  {
   "cell_type": "markdown",
   "metadata": {},
   "source": [
    "The QOC package consists of a global opimization routine.\n",
    "Within that multiple local minimizations are performed.\n",
    "Both routines rely heavily on QuTiPs SESolver to perform efficient time evolution."
   ]
  },
  {
   "cell_type": "markdown",
   "metadata": {},
   "source": [
    "The overall optimization routine is adressesed through the `qoc.optimize_pulses` function. We only need to specify the objective, its timeinterval, initial / boundary conditions for the optimization variables (PWC in case of GRAPE) and the optimization algorithm to be used. The `pulse_options` dictionary can have arbitrary (but distinct) keywords."
   ]
  },
  {
   "cell_type": "code",
   "execution_count": null,
   "metadata": {},
   "outputs": [],
   "source": [
    "res_grape = optimize_pulses(\n",
    "    objectives=[Objective(initial, H, target)],\n",
    "    pulse_options={\n",
    "        \"ctrl_x\": {\n",
    "            \"guess\": init_x,\n",
    "            \"bounds\": [-1, 1],\n",
    "        },\n",
    "        \"ctrl_y\": {\n",
    "            \"guess\": init_y,\n",
    "            \"bounds\": [-1, 1],\n",
    "        },\n",
    "        \"ctrl_z\": {\n",
    "            \"guess\": init_z,\n",
    "            \"bounds\": [-1, 1],\n",
    "        },\n",
    "    },\n",
    "    time_interval=interval,\n",
    "    algorithm_kwargs={\n",
    "        \"alg\": \"GRAPE\",\n",
    "        \"fid_err_targ\": 0.05,\n",
    "        \"max_iter\": 1000,\n",
    "    },\n",
    ")"
   ]
  },
  {
   "cell_type": "code",
   "execution_count": null,
   "metadata": {},
   "outputs": [],
   "source": [
    "res_grape"
   ]
  },
  {
   "cell_type": "code",
   "execution_count": null,
   "metadata": {},
   "outputs": [],
   "source": [
    "fig, (ax0, ax1, ax2) = plt.subplots(1, 3, figsize=(15, 4))\n",
    "ax0.set_title(\"Initial\")\n",
    "ax1.set_title(\"Final\")\n",
    "ax2.set_title(\"Target\")\n",
    "\n",
    "qt.hinton(initial, ax=ax0)\n",
    "res_grape._final_states = None\n",
    "res_grape._optimized_objectives = None\n",
    "\n",
    "qt.hinton(res_grape.final_states[0], ax=ax1)\n",
    "qt.hinton(target, ax=ax2)"
   ]
  },
  {
   "cell_type": "markdown",
   "metadata": {},
   "source": [
    "# QuTiP CRAB"
   ]
  },
  {
   "cell_type": "code",
   "execution_count": null,
   "metadata": {},
   "outputs": [],
   "source": [
    "res_crab = optimize_pulses(\n",
    "    objectives=[Objective(initial, H, target)],\n",
    "    pulse_options={\n",
    "        \"ctrl_x\": {\n",
    "            \"guess\": np.zeros(num_ts),\n",
    "            \"bounds\": [-1, 1],\n",
    "        },\n",
    "        \"ctrl_y\": {\n",
    "            \"guess\": init_y,\n",
    "            \"bounds\": [-1, 1],\n",
    "        },\n",
    "        \"ctrl_z\": {\n",
    "            \"guess\": init_z,\n",
    "            \"bounds\": [-1, 1],\n",
    "        },\n",
    "    },\n",
    "    time_interval=interval,\n",
    "    algorithm_kwargs={\n",
    "        \"alg\": \"CRAB\",  # changed\n",
    "        \"fid_err_targ\": 0.01,\n",
    "        \"disp\": True,\n",
    "        \"init_pulse_params\": {\n",
    "            \"pulse_action\": \"add\",\n",
    "        },\n",
    "    },\n",
    "    optimizer_kwargs={\n",
    "        \"method\": \"basinhopping\",  # changed\n",
    "        \"max_iter\": 0,  # changed\n",
    "        \"seed\": 1,\n",
    "    },\n",
    ")"
   ]
  },
  {
   "cell_type": "code",
   "execution_count": null,
   "metadata": {},
   "outputs": [],
   "source": [
    "res_crab"
   ]
  },
  {
   "cell_type": "code",
   "execution_count": null,
   "metadata": {},
   "outputs": [],
   "source": [
    "fig, (ax0, ax1, ax2) = plt.subplots(1, 3, figsize=(15, 4))\n",
    "ax0.set_title(\"Initial\")\n",
    "ax1.set_title(\"Final\")\n",
    "ax2.set_title(\"Target\")\n",
    "\n",
    "qt.hinton(initial, ax=ax0)\n",
    "qt.hinton(res_crab.final_states[0], ax=ax1)\n",
    "qt.hinton(target, ax=ax2)"
   ]
  },
  {
   "cell_type": "code",
   "execution_count": null,
   "metadata": {},
   "outputs": [],
   "source": [
    "def plot_result(res, title, y_labels=[\"$\\\\sigma_x$\", \"$\\\\sigma_y$\", \"$\\\\sigma_z$\"]):\n",
    "    fig, ax = plt.subplots(\n",
    "        len(res.optimized_controls), 1, figsize=(15, 12), sharex=True\n",
    "    )\n",
    "\n",
    "    ax[0].set_title(title, fontsize=20)\n",
    "\n",
    "    for i in range(len(res.optimized_controls)):\n",
    "        ax[i].xaxis.set_label_text(\"Time\")\n",
    "\n",
    "        ax[i].yaxis.set_label_text(\"Control \" + y_labels[i])\n",
    "\n",
    "        ax[i].plot(res.time_interval.tslots, res.guess_controls[i], label=\"Guess\")\n",
    "\n",
    "        ax[i].plot(\n",
    "            res.time_interval.tslots, res.optimized_controls[i], label=\"Optimized\"\n",
    "        )\n",
    "\n",
    "        ax[i].legend()"
   ]
  },
  {
   "cell_type": "code",
   "execution_count": null,
   "metadata": {},
   "outputs": [],
   "source": [
    "plot_result(res_crab, \"CRAB\")"
   ]
  },
  {
   "cell_type": "markdown",
   "metadata": {},
   "source": [
    "# QuTiP GOAT"
   ]
  },
  {
   "cell_type": "markdown",
   "metadata": {},
   "source": [
    "For continuously defined control functions the procedure is similar."
   ]
  },
  {
   "cell_type": "markdown",
   "metadata": {},
   "source": [
    "\\begin{gather*}\n",
    "H_c(\\vec{\\alpha}, t) =\n",
    "\\underbrace{c_0(\\vec{\\alpha}_0, t) \\sigma_x}_{H_0(t, \\vec{\\alpha})}  \n",
    "    +\\underbrace{c_1(\\vec{\\alpha}_1, t) \\sigma_y}_{H_1(t, \\vec{\\alpha})} \n",
    "    +\\underbrace{c_2(\\vec{\\alpha}_2, t) \\sigma_z}_{H_2(t, \\vec{\\alpha})} \\\\ \\\\\n",
    "    c_k(\\vec{\\alpha}, t) = \\alpha_{k,0} \\cdot \\sin(\\alpha_{k,1} t + \\alpha_{k,2})\n",
    "\\end{gather*}"
   ]
  },
  {
   "cell_type": "markdown",
   "metadata": {},
   "source": [
    "We start by defining the time dependent / prameterized contorl functions and their derivatives. The signature alway follows the order of f(time, parameter_vector). The derivative functions must have an additional index argument, where the last index always referes to the derivative w.r.t. time."
   ]
  },
  {
   "cell_type": "code",
   "execution_count": null,
   "metadata": {},
   "outputs": [],
   "source": [
    "def sin(t, α):\n",
    "    return α[0] * np.sin(α[1] * t + α[2])\n",
    "\n",
    "\n",
    "def grad_sin(t, α, idx):\n",
    "    if idx == 0:\n",
    "        return np.sin(α[1] * t + α[2])\n",
    "    if idx == 1:\n",
    "        return α[0] * np.cos(α[1] * t + α[2]) * t\n",
    "    if idx == 2:\n",
    "        return α[0] * np.cos(α[1] * t + α[2])\n",
    "    if idx == 3:\n",
    "        return α[0] * np.cos(α[1] * t + α[2]) * α[1]  # w.r.t. time"
   ]
  },
  {
   "cell_type": "markdown",
   "metadata": {},
   "source": [
    "To make each function adressable through a parameter dictionary within QuTiP we label each one with different parameter names."
   ]
  },
  {
   "cell_type": "code",
   "execution_count": null,
   "metadata": {},
   "outputs": [],
   "source": [
    "def sin_x(t, p):\n",
    "    return sin(t, p)\n",
    "\n",
    "\n",
    "def sin_y(t, q):\n",
    "    return sin(t, q)\n",
    "\n",
    "\n",
    "def sin_z(t, r):\n",
    "    return sin(t, r)"
   ]
  },
  {
   "cell_type": "markdown",
   "metadata": {},
   "source": [
    "The full drift and control Hamiltonian can then be expressed as follows."
   ]
  },
  {
   "cell_type": "code",
   "execution_count": null,
   "metadata": {},
   "outputs": [],
   "source": [
    "H = [\n",
    "    H_d,\n",
    "    [H_c[0], sin_x, {\"grad\": grad_sin}],\n",
    "    [H_c[1], sin_y, {\"grad\": grad_sin}],\n",
    "    [H_c[2], sin_z, {\"grad\": grad_sin}],\n",
    "]"
   ]
  },
  {
   "cell_type": "markdown",
   "metadata": {},
   "source": [
    "Lets take a look at how the time evolution will look with some initial values."
   ]
  },
  {
   "cell_type": "code",
   "execution_count": null,
   "metadata": {},
   "outputs": [],
   "source": [
    "p_init = [1, 1, 0]  # amplitude, frequency, phase\n",
    "q_init = [1, 1, 0]  # q[0] * sin(q[1] * t + q[2])\n",
    "r_init = [1, 1, 0]\n",
    "\n",
    "init_evo = qt.mesolve(\n",
    "    H,\n",
    "    initial,\n",
    "    interval.tslots,\n",
    "    options={\"normalize_output\": False},\n",
    "    args={\"p\": p_init, \"q\": q_init, \"r\": r_init},\n",
    ")\n",
    "\n",
    "qt.hinton(init_evo.final_state)"
   ]
  },
  {
   "cell_type": "markdown",
   "metadata": {},
   "source": [
    "To adress the global optimizer we can now include some extra keyword arguments. Notice how the boundaries are now set individually for every single parameter."
   ]
  },
  {
   "cell_type": "code",
   "execution_count": null,
   "metadata": {},
   "outputs": [],
   "source": [
    "res_goat = optimize_pulses(\n",
    "    objectives=[Objective(initial, H, target)],\n",
    "    pulse_options={\n",
    "        \"p\": {\n",
    "            \"guess\": p_init,\n",
    "            \"bounds\": [(-1, 1), (0, 1), (0, 2 * π)],\n",
    "        },\n",
    "        \"q\": {\n",
    "            \"guess\": q_init,\n",
    "            \"bounds\": [(-1, 1), (0, 1), (0, 2 * π)],\n",
    "        },\n",
    "        \"r\": {\n",
    "            \"guess\": r_init,\n",
    "            \"bounds\": [(-1, 1), (0, 1), (0, 2 * π)],\n",
    "        },\n",
    "    },\n",
    "    time_interval=interval,\n",
    "    algorithm_kwargs={\n",
    "        \"alg\": \"GOAT\",  # changed\n",
    "        \"fid_err_targ\": 0.01,\n",
    "    },\n",
    "    optimizer_kwargs={  # changed\n",
    "        \"max_iter\": 5,  # no global optimization\n",
    "        \"seed\": 1,  # for reproducibility\n",
    "    },\n",
    ")"
   ]
  },
  {
   "cell_type": "code",
   "execution_count": null,
   "metadata": {},
   "outputs": [],
   "source": [
    "res_goat"
   ]
  },
  {
   "cell_type": "code",
   "execution_count": null,
   "metadata": {},
   "outputs": [],
   "source": [
    "plot_result(res_goat, \"GOAT\")"
   ]
  },
  {
   "cell_type": "markdown",
   "metadata": {},
   "source": [
    "# QuTiP JAX"
   ]
  },
  {
   "cell_type": "markdown",
   "metadata": {},
   "source": [
    "Using `qutip-jax` we dont have to provide the derivative, but only need to specify our control functions in a jax compatible way. Note: `qutip-jax` requires control/coefficient functinos to be jit-compiled."
   ]
  },
  {
   "cell_type": "code",
   "execution_count": null,
   "metadata": {},
   "outputs": [],
   "source": [
    "def sin_jax(t, α):\n",
    "    return α[0] * jnp.sin(α[1] * t + α[2])"
   ]
  },
  {
   "cell_type": "code",
   "execution_count": null,
   "metadata": {},
   "outputs": [],
   "source": [
    "@jax.jit\n",
    "def sin_x_jax(t, p, **kwargs):\n",
    "    return sin_jax(t, p)\n",
    "\n",
    "\n",
    "@jax.jit\n",
    "def sin_y_jax(t, q, **kwargs):\n",
    "    return sin_jax(t, q)\n",
    "\n",
    "\n",
    "@jax.jit\n",
    "def sin_z_jax(t, r, **kwargs):\n",
    "    return sin_jax(t, r)"
   ]
  },
  {
   "cell_type": "code",
   "execution_count": null,
   "metadata": {},
   "outputs": [],
   "source": [
    "H_jax = [H_d, [H_c[0], sin_x_jax], [H_c[1], sin_y_jax], [H_c[2], sin_z_jax]]"
   ]
  },
  {
   "cell_type": "code",
   "execution_count": null,
   "metadata": {},
   "outputs": [],
   "source": [
    "res_jopt = optimize_pulses(\n",
    "    objectives=[Objective(initial, H_jax, target)],\n",
    "    pulse_options={\n",
    "        \"p\": {\n",
    "            \"guess\": p_init,\n",
    "            \"bounds\": [(-1, 1), (0, 1), (0, 2 * π)],\n",
    "        },\n",
    "        \"q\": {\n",
    "            \"guess\": q_init,\n",
    "            \"bounds\": [(-1, 1), (0, 1), (0, 2 * π)],\n",
    "        },\n",
    "        \"r\": {\n",
    "            \"guess\": r_init,\n",
    "            \"bounds\": [(-1, 1), (0, 1), (0, 2 * π)],\n",
    "        },\n",
    "    },\n",
    "    time_interval=interval,\n",
    "    algorithm_kwargs={\n",
    "        \"alg\": \"JOPT\",  # changed\n",
    "        \"fid_err_targ\": 0.01,\n",
    "    },\n",
    "    optimizer_kwargs={\n",
    "        \"max_iter\": 0,\n",
    "        \"seed\": 1,\n",
    "    },\n",
    ")"
   ]
  },
  {
   "cell_type": "code",
   "execution_count": null,
   "metadata": {},
   "outputs": [],
   "source": [
    "res_jopt"
   ]
  },
  {
   "cell_type": "code",
   "execution_count": null,
   "metadata": {},
   "outputs": [],
   "source": [
    "plot_result(res_jopt, \"JOPT\")"
   ]
  },
  {
   "cell_type": "markdown",
   "metadata": {},
   "source": [
    "# Time Optimization"
   ]
  },
  {
   "cell_type": "markdown",
   "metadata": {},
   "source": [
    "GOAT and JOAT additionally offer the possibility to find a optimal pulse duration to get closer to the desired target infidelity."
   ]
  },
  {
   "cell_type": "code",
   "execution_count": null,
   "metadata": {},
   "outputs": [],
   "source": [
    "res_goat = optimize_pulses(\n",
    "    objectives=[Objective(initial, H, target)],\n",
    "    pulse_options={\n",
    "        \"p\": {\n",
    "            \"guess\": p_init,\n",
    "            \"bounds\": [(-1, 1), (0, 1), (0, 2 * π)],\n",
    "        },\n",
    "        \"q\": {\n",
    "            \"guess\": q_init,\n",
    "            \"bounds\": [(-1, 1), (0, 1), (0, 2 * π)],\n",
    "        },\n",
    "        \"r\": {\n",
    "            \"guess\": r_init,\n",
    "            \"bounds\": [(-1, 1), (0, 1), (0, 2 * π)],\n",
    "        },\n",
    "    },\n",
    "    time_interval=interval,\n",
    "    time_options={  # changed\n",
    "        \"guess\": 1 / 2 * interval.evo_time,\n",
    "        \"bounds\": (0, interval.evo_time),\n",
    "    },\n",
    "    algorithm_kwargs={\n",
    "        \"alg\": \"GOAT\",\n",
    "        \"fid_err_targ\": 0.01,\n",
    "    },\n",
    "    optimizer_kwargs={\n",
    "        \"max_iter\": 0,\n",
    "        \"seed\": 1,\n",
    "    },\n",
    "    integrator_kwargs={  # only for comparison between JOPT and GOAT\n",
    "        \"atol\": 1e-5,\n",
    "        \"rtol\": 1e-5,\n",
    "        \"method\": \"dop853\",\n",
    "    },\n",
    ")"
   ]
  },
  {
   "cell_type": "code",
   "execution_count": null,
   "metadata": {},
   "outputs": [],
   "source": [
    "res_jopt = optimize_pulses(\n",
    "    objectives=[Objective(initial, H_jax, target)],\n",
    "    pulse_options={\n",
    "        \"p\": {\n",
    "            \"guess\": p_init,\n",
    "            \"bounds\": [(-1, 1), (0, 1), (0, 2 * π)],\n",
    "        },\n",
    "        \"q\": {\n",
    "            \"guess\": q_init,\n",
    "            \"bounds\": [(-1, 1), (0, 1), (0, 2 * π)],\n",
    "        },\n",
    "        \"r\": {\n",
    "            \"guess\": r_init,\n",
    "            \"bounds\": [(-1, 1), (0, 1), (0, 2 * π)],\n",
    "        },\n",
    "    },\n",
    "    time_interval=interval,\n",
    "    time_options={\n",
    "        \"guess\": 1 / 2 * interval.evo_time,\n",
    "        \"bounds\": (0, interval.evo_time),\n",
    "    },\n",
    "    algorithm_kwargs={\n",
    "        \"alg\": \"JOPT\",\n",
    "        \"fid_err_targ\": 0.01,\n",
    "    },\n",
    "    optimizer_kwargs={\n",
    "        \"max_iter\": 0,\n",
    "        \"seed\": 1,\n",
    "    },\n",
    "    integrator_kwargs={  # only for comparison between JOPT and GOAT\n",
    "        \"stepsize_controller\": PIDController(\n",
    "            atol=1e-5,\n",
    "            rtol=1e-5,\n",
    "        ),\n",
    "        \"solver\": Dopri8(),\n",
    "    },\n",
    ")"
   ]
  },
  {
   "cell_type": "code",
   "execution_count": null,
   "metadata": {},
   "outputs": [],
   "source": [
    "res_jopt"
   ]
  },
  {
   "cell_type": "markdown",
   "metadata": {},
   "source": [
    "# Global Optimization"
   ]
  },
  {
   "cell_type": "markdown",
   "metadata": {},
   "source": [
    "The results already got closer to the desired target. To reach the goal we now include a global optimization."
   ]
  },
  {
   "cell_type": "code",
   "execution_count": null,
   "metadata": {},
   "outputs": [],
   "source": [
    "res_goat = optimize_pulses(\n",
    "    objectives=[Objective(initial, H, target)],\n",
    "    pulse_options={\n",
    "        \"p\": {\n",
    "            \"guess\": p_init,\n",
    "            \"bounds\": [(-1, 1), (0, 1), (0, 2 * π)],\n",
    "        },\n",
    "        \"q\": {\n",
    "            \"guess\": q_init,\n",
    "            \"bounds\": [(-1, 1), (0, 1), (0, 2 * π)],\n",
    "        },\n",
    "        \"r\": {\n",
    "            \"guess\": r_init,\n",
    "            \"bounds\": [(-1, 1), (0, 1), (0, 2 * π)],\n",
    "        },\n",
    "    },\n",
    "    time_interval=interval,\n",
    "    time_options={\n",
    "        \"guess\": 1 / 2 * interval.evo_time,\n",
    "        \"bounds\": (0, interval.evo_time),\n",
    "    },\n",
    "    algorithm_kwargs={\n",
    "        \"alg\": \"GOAT\",\n",
    "        \"fid_err_targ\": 0.01,\n",
    "    },\n",
    "    optimizer_kwargs={\n",
    "        \"max_iter\": 100,  # changed\n",
    "        \"seed\": 1,\n",
    "    },\n",
    ")"
   ]
  },
  {
   "cell_type": "code",
   "execution_count": null,
   "metadata": {},
   "outputs": [],
   "source": [
    "res_goat"
   ]
  },
  {
   "cell_type": "markdown",
   "metadata": {},
   "source": [
    "# Scale-up"
   ]
  },
  {
   "cell_type": "markdown",
   "metadata": {},
   "source": [
    "QuTiP offers the possibility to control multiple systems at once."
   ]
  },
  {
   "cell_type": "code",
   "execution_count": null,
   "metadata": {},
   "outputs": [],
   "source": [
    "N = 2  # number of qubits\n",
    "\n",
    "initial = qt.tensor([qt.qeye(2)] * N)\n",
    "target = qt.tensor([qt.gates.hadamard_transform()] * N)\n",
    "\n",
    "initial = qt.sprepost(initial, initial.dag())\n",
    "target = qt.sprepost(target, target.dag())"
   ]
  },
  {
   "cell_type": "code",
   "execution_count": null,
   "metadata": {},
   "outputs": [],
   "source": [
    "σx = qt.sigmax()\n",
    "σy = qt.sigmay()\n",
    "σz = qt.sigmaz()\n",
    "\n",
    "ω, Δ, γ, π = 0.1, 1.0, 0.1, np.pi\n",
    "\n",
    "Hd = 1 / 2 * (ω * σz + Δ * σx)\n",
    "\n",
    "H_d = qt.liouvillian(\n",
    "    H=qt.tensor([Hd] * N), c_ops=[np.sqrt(γ) * qt.tensor([qt.sigmam()] * N)]\n",
    ")"
   ]
  },
  {
   "cell_type": "markdown",
   "metadata": {},
   "source": [
    "\\begin{align*}\n",
    "    c(t,\\vec \\alpha) = \\sum_{l=0}^{\\mathrm{n_{sup}-1}} a_l \\sin ( \\omega_l t + \\phi_l )\n",
    "\\end{align*}"
   ]
  },
  {
   "cell_type": "code",
   "execution_count": null,
   "metadata": {},
   "outputs": [],
   "source": [
    "n_sup = 3\n",
    "n_var = 3\n",
    "n_tot = n_sup * n_var\n",
    "\n",
    "interval = TimeInterval(evo_time=2 * π, n_tslots=1000)"
   ]
  },
  {
   "cell_type": "code",
   "execution_count": null,
   "metadata": {},
   "outputs": [],
   "source": [
    "from qutip_qoc.pulse import SinPulse\n",
    "\n",
    "import string\n",
    "import random\n",
    "\n",
    "sinus = SinPulse(n_sup, n_var)\n",
    "\n",
    "# Generate random strings for the parameter names (e.g. 'abc')\n",
    "# we need 3 * N different parameter names, one for each control\n",
    "params = [\"\".join(random.choices(string.ascii_letters, k=3)) for _ in range(3 * N)]\n",
    "\n",
    "pulses, grads = [], []\n",
    "for param in params:\n",
    "    # functions with different parameter names\n",
    "    pulses.append(eval(\"lambda t, {0}:    sinus.gen_pulse(t, {0})\".format(param)))\n",
    "    grads.append(eval(\"lambda t, {0}, i: sinus.gen_grad(t, {0}, i)\".format(param)))"
   ]
  },
  {
   "cell_type": "code",
   "execution_count": null,
   "metadata": {},
   "outputs": [],
   "source": [
    "Hc = []\n",
    "id = [qt.qeye(2) for _ in range(N)]\n",
    "\n",
    "for i in range(N):  # 3N controls, assuming we can control each qubit individually\n",
    "    sx, sy, sz = id.copy(), id.copy(), id.copy()\n",
    "    sx[i], sy[i], sz[i] = σx, σy, σz\n",
    "    Hc.append(qt.tensor(sx))\n",
    "    Hc.append(qt.tensor(sy))\n",
    "    Hc.append(qt.tensor(sz))\n",
    "\n",
    "H_c = [qt.liouvillian(H) for H in Hc]\n",
    "\n",
    "H = [H_d] + [[hc, pulse, {\"grad\": grad}] for hc, pulse, grad in zip(H_c, pulses, grads)]"
   ]
  },
  {
   "cell_type": "code",
   "execution_count": null,
   "metadata": {},
   "outputs": [],
   "source": [
    "p_init = np.ones(n_tot)"
   ]
  },
  {
   "cell_type": "code",
   "execution_count": null,
   "metadata": {},
   "outputs": [],
   "source": [
    "pulse_vmap = jax.vmap(sin_jax, in_axes=(None, 0))\n",
    "\n",
    "\n",
    "def sin_sum(t, α):\n",
    "    alpha = jnp.reshape(α, (n_sup, n_var))\n",
    "    return jnp.sum(pulse_vmap(t, alpha), axis=0)\n",
    "\n",
    "\n",
    "jax_pulses = []\n",
    "for param in params:\n",
    "    # functions with different parameter names\n",
    "    jax_pulses.append(eval(\"lambda t, {0}, **kwargs: sin_sum(t, {0})\".format(param)))\n",
    "\n",
    "jit_pulses = [jax.jit(pulse) for pulse in jax_pulses]"
   ]
  },
  {
   "cell_type": "code",
   "execution_count": null,
   "metadata": {},
   "outputs": [],
   "source": [
    "H_jax = [H_d] + [[hc, pulse] for hc, pulse in zip(H_c, jit_pulses)]"
   ]
  },
  {
   "cell_type": "code",
   "execution_count": null,
   "metadata": {},
   "outputs": [],
   "source": [
    "p_options = {}\n",
    "for p in range(len(H_c)):\n",
    "    p_options[p] = {\n",
    "        \"guess\": 0.1 * np.ones(n_tot),\n",
    "        \"bounds\": [(-2 * π, 2 * π) for _ in range(n_tot)],\n",
    "    }"
   ]
  },
  {
   "cell_type": "markdown",
   "metadata": {},
   "source": [
    "# JOAT"
   ]
  },
  {
   "cell_type": "code",
   "execution_count": null,
   "metadata": {},
   "outputs": [],
   "source": [
    "res_jopt = optimize_pulses(\n",
    "    objectives=[Objective(initial, H_jax, target)],\n",
    "    pulse_options=p_options,\n",
    "    time_interval=interval,\n",
    "    time_options={\n",
    "        \"guess\": interval.evo_time,\n",
    "        \"bounds\": (0, 2 * interval.evo_time),\n",
    "    },\n",
    "    algorithm_kwargs={\n",
    "        \"alg\": \"JOPT\",\n",
    "        \"fid_err_targ\": 0.01,\n",
    "    },\n",
    "    optimizer_kwargs={\n",
    "        \"max_iter\": 0,\n",
    "        \"seed\": 1,\n",
    "    },\n",
    "    integrator_kwargs={\n",
    "        \"stepsize_controller\": PIDController(\n",
    "            atol=1e-8,\n",
    "            rtol=1e-8,\n",
    "        ),\n",
    "        \"solver\": Dopri5(),\n",
    "    },\n",
    ")"
   ]
  },
  {
   "cell_type": "code",
   "execution_count": null,
   "metadata": {},
   "outputs": [],
   "source": [
    "res_jopt"
   ]
  },
  {
   "cell_type": "markdown",
   "metadata": {},
   "source": [
    "# GOAT"
   ]
  },
  {
   "cell_type": "code",
   "execution_count": null,
   "metadata": {},
   "outputs": [],
   "source": [
    "print(\"system size:\", H[0].shape[0])\n",
    "print(\"number parameters:\", n_tot)\n",
    "print(\"number of controls:\", len(H) - 1)\n",
    "print(\"matrix size:\", (1 + n_tot * (len(H) - 1)) * H[0].shape[0])"
   ]
  },
  {
   "cell_type": "code",
   "execution_count": null,
   "metadata": {},
   "outputs": [],
   "source": [
    "res_goat = optimize_pulses(\n",
    "    objectives=[Objective(initial, H, target)],\n",
    "    pulse_options=p_options,\n",
    "    time_interval=interval,\n",
    "    time_options={\n",
    "        \"guess\": interval.evo_time,\n",
    "        \"bounds\": (0, 2 * interval.evo_time),\n",
    "    },\n",
    "    algorithm_kwargs={\n",
    "        \"alg\": \"GOAT\",\n",
    "        \"fid_err_targ\": 0.01,\n",
    "    },\n",
    "    optimizer_kwargs={\n",
    "        \"max_iter\": 0,\n",
    "        \"seed\": 1,\n",
    "    },\n",
    "    integrator_kwargs={\n",
    "        \"atol\": 1e-8,\n",
    "        \"rtol\": 1e-8,\n",
    "        \"method\": \"dop853\",\n",
    "    },\n",
    ")"
   ]
  },
  {
   "cell_type": "code",
   "execution_count": null,
   "metadata": {},
   "outputs": [],
   "source": [
    "res_goat"
   ]
  },
  {
   "cell_type": "markdown",
   "metadata": {},
   "source": [
    "# Global Optimization"
   ]
  },
  {
   "cell_type": "markdown",
   "metadata": {},
   "source": [
    "# JOAT"
   ]
  },
  {
   "cell_type": "code",
   "execution_count": null,
   "metadata": {},
   "outputs": [],
   "source": [
    "res_jopt = optimize_pulses(\n",
    "    objectives=[Objective(initial, H_jax, target)],\n",
    "    pulse_options=p_options,\n",
    "    time_interval=interval,\n",
    "    time_options={\n",
    "        \"guess\": interval.evo_time,\n",
    "        \"bounds\": (0, 2 * interval.evo_time),\n",
    "    },\n",
    "    algorithm_kwargs={\n",
    "        \"alg\": \"JOPT\",\n",
    "        \"fid_err_targ\": 0.001,  # changed\n",
    "    },\n",
    "    optimizer_kwargs={\n",
    "        \"method\": \"basinhopping\",  # changed\n",
    "        \"max_iter\": 10,  # changed\n",
    "        \"seed\": 1,\n",
    "    },\n",
    "    integrator_kwargs={\n",
    "        \"stepsize_controller\": PIDController(\n",
    "            atol=1e-8,\n",
    "            rtol=1e-8,\n",
    "        ),\n",
    "        \"solver\": Dopri8(),\n",
    "    },\n",
    ")"
   ]
  },
  {
   "cell_type": "code",
   "execution_count": null,
   "metadata": {},
   "outputs": [],
   "source": [
    "res_jopt"
   ]
  },
  {
   "cell_type": "code",
   "execution_count": null,
   "metadata": {},
   "outputs": [],
   "source": [
    "plot_result(\n",
    "    res_jopt, \"JOPT\", y_labels=[\"$\\\\sigma_x$\", \"$\\\\sigma_y$\", \"$\\\\sigma_z$\"] * N\n",
    ")"
   ]
  },
  {
   "cell_type": "code",
   "execution_count": null,
   "metadata": {},
   "outputs": [],
   "source": [
    "fig, (ax0, ax1, ax2) = plt.subplots(1, 3, figsize=(15, 4))\n",
    "ax0.set_title(\"Initial\")\n",
    "ax1.set_title(\"Final\")\n",
    "ax2.set_title(\"Target\")\n",
    "\n",
    "qt.hinton(initial, ax=ax0)\n",
    "qt.hinton(res_jopt.final_states[0], ax=ax1)\n",
    "qt.hinton(target, ax=ax2)"
   ]
  }
 ],
 "metadata": {
  "colab": {
   "provenance": []
  },
  "kernelspec": {
   "display_name": "Python 3",
   "name": "python3"
  },
  "language_info": {
   "codemirror_mode": {
    "name": "ipython",
    "version": 3
   },
   "file_extension": ".py",
   "mimetype": "text/x-python",
   "name": "python",
   "nbconvert_exporter": "python",
   "pygments_lexer": "ipython3"
  }
 },
 "nbformat": 4,
 "nbformat_minor": 0
}
