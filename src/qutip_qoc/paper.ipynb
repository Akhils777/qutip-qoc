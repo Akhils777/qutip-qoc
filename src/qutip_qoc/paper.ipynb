{
 "cells": [
  {
   "cell_type": "code",
   "execution_count": null,
   "metadata": {},
   "outputs": [],
   "source": [
    "import qutip as qt\n",
    "import numpy as np"
   ]
  },
  {
   "cell_type": "markdown",
   "metadata": {},
   "source": [
    "sesolve.py"
   ]
  },
  {
   "cell_type": "code",
   "execution_count": null,
   "metadata": {},
   "outputs": [],
   "source": [
    "import qutip as qt\n",
    "\n",
    "epsilon1 = 1.0\n",
    "epsilon2 = 1.0\n",
    "g = 0.1\n",
    "\n",
    "sz1 = qt.tensor(qt.sigmaz(), qt.qeye(2))\n",
    "sz2 = qt.tensor(qt.qeye(2), qt.sigmaz())\n",
    "\n",
    "sx1 = qt.tensor(qt.sigmax(), qt.qeye(2))\n",
    "sx2 = qt.tensor(qt.qeye(2), qt.sigmax())\n",
    "\n",
    "H = epsilon1 * sz1 + epsilon2 * sz2 + g * sx1 * sx2\n",
    "\n",
    "print(H)\n",
    "\n",
    "psi0 = qt.tensor(qt.basis(2, 0), qt.basis(2, 1))\n",
    "tlist = np.linspace(0, 40, 100)\n",
    "result = qt.sesolve(H, psi0, tlist)\n",
    "\n",
    "solver = qt.SESolver(H)\n",
    "result2 = solver.run(psi0, tlist)\n",
    "\n",
    "options = {\"store_states\": True, \"atol\": 1e-12, \n",
    "\"nsteps\": 1000, \"max_step\": 0.1}\n",
    "solver = qt.SESolver(H, options = options)\n",
    "result2 = solver.run(psi0, tlist)\n",
    "print(result2)"
   ]
  },
  {
   "cell_type": "markdown",
   "metadata": {},
   "source": [
    "mesolve.py"
   ]
  },
  {
   "cell_type": "code",
   "execution_count": null,
   "metadata": {},
   "outputs": [],
   "source": [
    "epsilon1 = 1.0\n",
    "epsilon2 = 1.0\n",
    "g = 0.5\n",
    "\n",
    "sz1 = qt.tensor(qt.sigmaz(), qt.qeye(2))\n",
    "sz2 = qt.tensor(qt.qeye(2), qt.sigmaz())\n",
    "\n",
    "sx1 = qt.tensor(qt.sigmax(), qt.qeye(2))\n",
    "sx2 = qt.tensor(qt.qeye(2), qt.sigmax())\n",
    "\n",
    "H = epsilon1 * sz1 + epsilon2 * sz2 + g * sx1 * sx2\n",
    "\n",
    "\n",
    "sm1 = qt.tensor(qt.destroy(2).dag(), qt.qeye(2))\n",
    "sm2 = qt.tensor(qt.qeye(2), qt.destroy(2).dag())\n",
    "gam = 0.1 #dissipation rate\n",
    "c_ops = [np.sqrt(gam) * sm1, np.sqrt(gam) * sm2]\n",
    "result_me = qt.mesolve(H, psi0, tlist, c_ops,\n",
    "e_ops = [sz1, sz2])\n",
    "print(result_me)\n",
    "\n",
    "\n",
    "#H_L = -1.0j * (qt.spre(H)-qt.spost(H)) \n",
    "#for c in c_ops:\n",
    "#    H_L += (qt.spre(c)*qt.spost(c.dag())\n",
    "#    - 0.5 * (qt.spre(c.dag()*c) \n",
    "#    + qt.spost(c.dag()*c)))\n",
    "#\n",
    "#result_me2 = qt.mesolve(H_L, psi0, tlist, \n",
    "#            [], e_ops = [sz1, sz2])\n",
    "#\n",
    "#\n",
    "#collapse_list = []\n",
    "#all_energy, all_state = H.eigenstates()\n",
    "#Nmax = len(all_state)\n",
    "#tlist = np.linspace(0, 1000, 100)\n",
    "#\n",
    "#def sw(w):\n",
    "#    if w >= 0:\n",
    "#        return gam\n",
    "#    else:\n",
    "#        return 0\n",
    "#    \n",
    "#for j in range(Nmax):\n",
    "#    for k in range(Nmax):\n",
    "#        delE = (all_energy[k] - all_energy[j])\n",
    "#        rate = np.absolute(\n",
    "#        sx1.matrix_element(\n",
    "#        all_state[j].dag(),all_state[k])\n",
    "#        )**2 + np.absolute(\n",
    "#        sx2.matrix_element(\n",
    "#        all_state[j].dag(),all_state[k])\n",
    "#        )**2 * sw(delE)\n",
    "#        if rate > 0.0:\n",
    "#            collapse_list.append(\n",
    "#                (np.sqrt(2*rate) *\n",
    "#                all_state[j] * \n",
    "#                all_state[k].dag())\n",
    "#                )\n",
    "#\n",
    "#result_me_BR = qt.mesolve(H, psi0, tlist, \n",
    "#    collapse_list)\n",
    "#print(\"Fidelity with ground-state\", \n",
    "#      qt.fidelity(result_me_BR.states[-1], \n",
    "#      all_state[0] @ all_state[0].dag()))            \n",
    "#\n",
    "#\n",
    "#def sw(w):\n",
    "#    if w >= 0:\n",
    "#        return gam\n",
    "#    else:\n",
    "#        return 0\n",
    "#        \n",
    "#result_BR = qt.brmesolve(H,psi0,tlist,\n",
    "#                         a_ops=[[sx1,sw],\n",
    "#                         [sx2,sw]], \n",
    "#                        e_ops = [sz1, sz2]\n",
    "#                       )"
   ]
  },
  {
   "cell_type": "code",
   "execution_count": null,
   "metadata": {},
   "outputs": [],
   "source": [
    "result_me = qt.mesolve(H, psi0, tlist, c_ops)"
   ]
  },
  {
   "cell_type": "markdown",
   "metadata": {},
   "source": [
    "Handwaving"
   ]
  },
  {
   "cell_type": "code",
   "execution_count": null,
   "metadata": {},
   "outputs": [],
   "source": [
    "from qutip_qoc import optimize_pulses, TimeInterval, Objective, Pulse"
   ]
  },
  {
   "cell_type": "code",
   "execution_count": null,
   "metadata": {},
   "outputs": [],
   "source": [
    "sy1 = qt.tensor(qt.sigmay(), qt.qeye(2))\n",
    "sy2 = qt.tensor(qt.qeye(2), qt.sigmay())"
   ]
  },
  {
   "cell_type": "code",
   "execution_count": null,
   "metadata": {},
   "outputs": [],
   "source": [
    "Hc = [sx1, sx2, sy1, sy2, sz1, sz2]"
   ]
  },
  {
   "cell_type": "code",
   "execution_count": null,
   "metadata": {},
   "outputs": [],
   "source": [
    "def sin(t, p):\n",
    "    return p[0] * np.sin(p[1] * t)\n",
    "\n",
    "def grad_sin(t, α, idx):\n",
    "    if idx == 0:\n",
    "        return np.sin(α[1] * t)\n",
    "    if idx == 1:\n",
    "        return α[0] * np.cos(α[1] * t) * t\n",
    "    if idx == 2:\n",
    "        return α[0] * np.cos(α[1] * t) * α[1]  # w.r.t. time"
   ]
  },
  {
   "cell_type": "code",
   "execution_count": null,
   "metadata": {},
   "outputs": [],
   "source": [
    "H_c = [[hc, lambda t, p: sin(t, p), {\"grad\": grad_sin}] for hc in Hc]\n",
    "initial = qt.tensor(qt.qeye(2), qt.qeye(2))\n",
    "ob1 = Objective(initial,[H] + H_c, qt.gates.cnot())"
   ]
  },
  {
   "cell_type": "code",
   "execution_count": null,
   "metadata": {},
   "outputs": [],
   "source": [
    "p_init = [1, 1]  # amplitude, frequency, phase\n",
    "q_init = [1, 1]  # q[0] * sin(q[1] * t + q[2])\n",
    "r_init = [1, 1]"
   ]
  },
  {
   "cell_type": "code",
   "execution_count": null,
   "metadata": {},
   "outputs": [],
   "source": [
    "res_goat = optimize_pulses(\n",
    "    objectives=[ob1],\n",
    "    control_parameters={\n",
    "        idx: {\n",
    "            \"guess\": np.zeros(100),\n",
    "            \"bounds\": [(-5, 5)]\n",
    "        } for idx in range(len(H_c))\n",
    "        #\"__time__\":{\n",
    "        #    \"guess\": np.zeros(100),\n",
    "        #    \"bounds\": [tlist[0], tlist[-1]]\n",
    "        #}\n",
    "    },\n",
    "    tlist=np.linspace(0, 10, 100),\n",
    "    algorithm_kwargs={\n",
    "        \"alg\": \"GRAPE\",\n",
    "        \"fid_err_targ\": 0.5,\n",
    "    },\n",
    "    optimizer_kwargs={ \n",
    "        \"max_iter\": 100, \n",
    "        \"method\": \"basinhopping\", \n",
    "        \"seed\": 0,\n",
    "    },    \n",
    "    minimizer_kwargs={\n",
    "        \"method\": \"L-BFGS-B\",\n",
    "        \"options\": {\n",
    "            \"maxiter\": 10000,\n",
    "            \"gtol\": 1e-8,\n",
    "        },\n",
    "    },\n",
    ")"
   ]
  },
  {
   "cell_type": "code",
   "execution_count": null,
   "metadata": {},
   "outputs": [],
   "source": [
    "res_goat"
   ]
  },
  {
   "cell_type": "code",
   "execution_count": null,
   "metadata": {},
   "outputs": [],
   "source": [
    "tlist"
   ]
  }
 ],
 "metadata": {
  "kernelspec": {
   "display_name": "qutip",
   "language": "python",
   "name": "python3"
  },
  "language_info": {
   "codemirror_mode": {
    "name": "ipython",
    "version": 3
   },
   "file_extension": ".py",
   "mimetype": "text/x-python",
   "name": "python",
   "nbconvert_exporter": "python",
   "pygments_lexer": "ipython3"
  }
 },
 "nbformat": 4,
 "nbformat_minor": 2
}
