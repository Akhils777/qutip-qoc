{
 "cells": [
  {
   "cell_type": "code",
   "execution_count": null,
   "metadata": {},
   "outputs": [],
   "source": [
    "import matplotlib.pyplot as plt\n",
    "import qutip as qt\n",
    "import numpy as np\n",
    "\n",
    "np.random.seed(123)"
   ]
  },
  {
   "cell_type": "markdown",
   "metadata": {},
   "source": [
    "# Using predefined pulse functions\n",
    "\n",
    "For user comfort and improved performance, `qutip-qoc` comes with a variety of Cython defined analytical pulses inside of its `pulse` module.\n",
    "This notebook gives a brief overview and introduction about frequently found pulse functions.\n",
    "\n",
    "Usually, the control task is implemented through a control operator ($H_c$), which can be defined by a sum of individual control operations (e.g. $\\sigma_x, \\sigma_y, \\sigma_z$). Every single operator can be scaled by an analytical function that depends on some parameters $\\vec{\\alpha}$. In the example below, we can see a Hamiltonian that is made up of the three Pauli operators, each scaled by a sinusoidal pulse shape."
   ]
  },
  {
   "cell_type": "markdown",
   "metadata": {},
   "source": [
    "\\begin{gather*}\n",
    "H_c(\\vec{\\alpha}, t) =\n",
    "\\underbrace{c_0(\\vec{\\alpha}_0, t) \\sigma_x}_{H_0(t, \\vec{\\alpha})}  \n",
    "    +\\underbrace{c_1(\\vec{\\alpha}_1, t) \\sigma_y}_{H_1(t, \\vec{\\alpha})} \n",
    "    +\\underbrace{c_2(\\vec{\\alpha}_2, t) \\sigma_z}_{H_2(t, \\vec{\\alpha})} \\\\ \\\\\n",
    "    c_k(\\vec{\\alpha}_k, t) = \\alpha_{k,0} \\cdot \\sin(\\alpha_{k,1} t + \\alpha_{k,2})\n",
    "\\end{gather*}"
   ]
  },
  {
   "cell_type": "markdown",
   "metadata": {},
   "source": [
    "Since it is often helpful to define a function basis in terms of a sum of sinusodials, the `qutip_qoc.pulse` module provides superposed sin functions like\n",
    "\\begin{align*}\n",
    "    c_k(\\vec{\\alpha}_k, t) = \\sum_i^{N_\\mathrm{sup}} \\alpha^i_{k,0} \\cdot \\sin(\\alpha^i_{k,1} t + \\alpha^i_{k,2}).\n",
    "\\end{align*}"
   ]
  },
  {
   "cell_type": "code",
   "execution_count": null,
   "metadata": {},
   "outputs": [],
   "source": [
    "from qutip_qoc.pulse import SinPulse\n",
    "\n",
    "# Create a SinPulse object\n",
    "pulse_1 = SinPulse(n_sup=1)\n",
    "pulse_2 = SinPulse(n_sup=2)\n",
    "\n",
    "# Define the parameters for the sine pulse\n",
    "parameters_1 = np.array([1.0, 1.0, 0.0])  # [amplitude, frequency, phase]\n",
    "parameters_2 = np.hstack([parameters_1, parameters_1])\n",
    "\n",
    "# Generate the pulse values over a range of times\n",
    "times = np.linspace(0, 2 * np.pi, 100)\n",
    "pulse_values_1 = np.array([pulse_1(time, parameters_1) for time in times])\n",
    "pulse_values_2 = np.array([pulse_2(time, parameters_2) for time in times])\n",
    "\n",
    "\n",
    "# Plot the pulse\n",
    "def plot_pulse(times, pulse_values, title, legend):\n",
    "    for pulse in pulse_values:\n",
    "        plt.plot(times, pulse)\n",
    "    plt.xlabel(\"Time\")\n",
    "    plt.ylabel(\"Pulse amplitude\")\n",
    "    plt.legend(legend)\n",
    "    plt.title(title)\n",
    "    plt.show()\n",
    "\n",
    "\n",
    "plot_pulse(\n",
    "    times,\n",
    "    [pulse_values_1, pulse_values_2],\n",
    "    \"SinPulse\",\n",
    "    [\"$N_\\mathrm{sup}=1$\", \"$N_\\mathrm{sup}=2$\"],\n",
    ")"
   ]
  },
  {
   "cell_type": "markdown",
   "metadata": {},
   "source": [
    "We can define a function basis or single Gaussian pulse like:\n",
    "\\begin{align*}\n",
    "    c_k(\\vec{\\alpha}_k, t) = \\sum_i^{N_\\mathrm{sup}} \\alpha^i_{k,0} \\cdot\n",
    "    \\exp\\left( \n",
    "        -\\frac{(t - \\alpha^i_{k,1})^2}{(\\alpha^i_{k,2})^2}\n",
    "    \\right).\n",
    "\\end{align*}"
   ]
  },
  {
   "cell_type": "code",
   "execution_count": null,
   "metadata": {},
   "outputs": [],
   "source": [
    "from qutip_qoc.pulse import GaussianPulse\n",
    "\n",
    "# Create a GaussianPulse object\n",
    "pulse_1 = GaussianPulse(n_sup=1)\n",
    "pulse_2 = GaussianPulse(n_sup=2)\n",
    "\n",
    "# Define the parameters for the gaussian pulse\n",
    "parameters_1 = np.array([1.0, 1.0, 1.0])  # [amplitude, width, center]\n",
    "parameters_2 = np.hstack([parameters_1, parameters_1])\n",
    "\n",
    "# Generate the pulse values over a range of times\n",
    "times = np.linspace(0, 2 * np.pi, 100)\n",
    "pulse_values_1 = np.array([pulse_1(time, parameters_1) for time in times])\n",
    "pulse_values_2 = np.array([pulse_2(time, parameters_2) for time in times])\n",
    "\n",
    "# Plot the pulse\n",
    "plot_pulse(\n",
    "    times,\n",
    "    [pulse_values_1, pulse_values_2],\n",
    "    \"GaussianPulse\",\n",
    "    [\"$N_\\mathrm{sup}=1$\", \"$N_\\mathrm{sup}=2$\"],\n",
    ")"
   ]
  },
  {
   "cell_type": "markdown",
   "metadata": {},
   "source": [
    "Since the GOAT algorithm does require to specify a functions derivatives the `pulse` module provides those right away.\n",
    "\n",
    "In case of a cosine modulated cosine\n",
    "\\begin{align*}\n",
    "    c_k(\\vec{\\alpha}_k, t) = \\sum_i^{N_\\mathrm{sup}} \\alpha^i_{k,0} \\cdot \\cos(\\alpha^i_{k,1} t + \\alpha^i_{k,2}) \\cdot \\cos(\\alpha^i_{k,3} t + \\alpha^i_{k,4})\n",
    "\\end{align*}\n",
    "the derivatives can be extracted as follows."
   ]
  },
  {
   "cell_type": "code",
   "execution_count": null,
   "metadata": {},
   "outputs": [],
   "source": [
    "from qutip_qoc.pulse import CosCosPulse\n",
    "\n",
    "# Create a CosCosPulse object\n",
    "pls = CosCosPulse(n_sup=1)\n",
    "\n",
    "# Define the parameters for the gaussian pulse\n",
    "parameters = np.array(\n",
    "    [1.0, 1.0, 0.0, 1.0, 0.0]\n",
    ")  # [amplitude, frequency, phase, frequency, phase]\n",
    "\n",
    "# Generate the pulse values over a range of times\n",
    "times = np.linspace(0, 2 * np.pi, 100)\n",
    "pulse_values = np.array([pls.gen_pulse(time, parameters) for time in times])\n",
    "\n",
    "derivative_values = []\n",
    "for idx in range(pls.n_par + 1):  # +1 for the time derivative\n",
    "    derivative_values.append(\n",
    "        np.array([pls.gen_grad(time, parameters, idx) for time in times])\n",
    "    )\n",
    "\n",
    "# Plot the pulse\n",
    "plot_pulse(\n",
    "    times,\n",
    "    [pulse_values, derivative_values[-1]],\n",
    "    \"GaussianPulse\",\n",
    "    [\"Pulse\", \"Derivative wrt time\"],\n",
    ")"
   ]
  },
  {
   "cell_type": "markdown",
   "metadata": {},
   "source": [
    "For a polynomial pulse (note: t is raised to power of $i$)\n",
    "\\begin{align*}\n",
    "    c_k(\\vec{\\alpha}_k, t) = \\sum_i^{N_\\mathrm{sup}} \\alpha^i_{k,0} \\cdot (t)^i\n",
    "\\end{align*}"
   ]
  },
  {
   "cell_type": "code",
   "execution_count": null,
   "metadata": {},
   "outputs": [],
   "source": [
    "from qutip_qoc.pulse import PolynomialPulse\n",
    "\n",
    "# Create a PolynomialPulse object\n",
    "pls = PolynomialPulse(n_sup=1)\n",
    "\n",
    "# Define the parameters for the polynomial pulse\n",
    "parameters = np.array([1.0, 1.0, 1.0, 1.0, 1.0])  # [p0, p1, p2, p3, ...]\n",
    "\n",
    "# Generate the pulse values over a range of times\n",
    "times = np.linspace(0, 2 * np.pi, 100)\n",
    "pulse_values = np.array([pls.gen_pulse(time, parameters) for time in times])\n",
    "\n",
    "derivative_values = []\n",
    "for idx in range(pls.n_par + 1):  # +1 for the time derivative\n",
    "    derivative_values.append(\n",
    "        np.array([pls.gen_grad(time, parameters, idx) for time in times])\n",
    "    )\n",
    "\n",
    "# Plot the pulse\n",
    "plot_pulse(\n",
    "    times,\n",
    "    [pulse_values, derivative_values[-1]],\n",
    "    \"PolynomialPulse\",\n",
    "    [\"Pulse\", \"Derivative wrt time\"],\n",
    ")"
   ]
  },
  {
   "cell_type": "markdown",
   "metadata": {},
   "source": [
    "This setup makes it comfortable to define the control problem and solve it using `qutip_qoc.optimize_pulses`."
   ]
  },
  {
   "cell_type": "code",
   "execution_count": null,
   "metadata": {},
   "outputs": [],
   "source": [
    "from qutip_qoc.pulse import FourierPulse\n",
    "\n",
    "# Create a FourierPulse object\n",
    "pls = FourierPulse(n_var=4)\n",
    "\n",
    "# Define the parameters for the fourier pulse\n",
    "parameters = np.array([1.0, 0.0, 0.0, 0.0])  # [amplitude, frequency, phase, phase]\n",
    "\n",
    "# Generate the pulse values over a range of times\n",
    "times = np.linspace(0, 2 * np.pi, 1000)"
   ]
  },
  {
   "cell_type": "code",
   "execution_count": null,
   "metadata": {},
   "outputs": [],
   "source": [
    "X, Y, Z = qt.sigmax(), qt.sigmay(), qt.sigmaz()\n",
    "\n",
    "\n",
    "# Only necessary to make each function addressable by distinct signature\n",
    "# (i.e. for qt.sesolve) however not strictly required for the pulse optimisation\n",
    "def pulse_x(t, p):\n",
    "    return pls.gen_pulse(t, p)\n",
    "\n",
    "\n",
    "def pulse_y(t, q):\n",
    "    return pls.gen_pulse(t, q)\n",
    "\n",
    "\n",
    "def pulse_z(t, r):\n",
    "    return pls.gen_pulse(t, r)\n",
    "\n",
    "\n",
    "H = [\n",
    "    qt.qeye(2),  # no drift\n",
    "    [X, pulse_x, {\"grad\": pls.gen_grad}],\n",
    "    [Y, pulse_y, {\"grad\": pls.gen_grad}],\n",
    "    [Z, pulse_z, {\"grad\": pls.gen_grad}],\n",
    "]"
   ]
  },
  {
   "cell_type": "code",
   "execution_count": null,
   "metadata": {},
   "outputs": [],
   "source": [
    "from qutip_qoc.optimize import optimize_pulses\n",
    "from qutip_qoc.objective import Objective\n",
    "from qutip_qoc.time_interval import TimeInterval\n",
    "\n",
    "res_goat = optimize_pulses(\n",
    "    objectives=[Objective(initial=qt.qeye(2), H=H, target=qt.sigmax())],\n",
    "    pulse_options={\n",
    "        \"fourier_pulse\": {\n",
    "            \"guess\": parameters,\n",
    "            \"bounds\": [(-1, 1) for _ in range(pls.n_par)],\n",
    "        }\n",
    "    },\n",
    "    time_interval=TimeInterval(tslots=times),\n",
    "    algorithm_kwargs={\n",
    "        \"alg\": \"GOAT\",\n",
    "        \"fid_err_targ\": 0.01,\n",
    "    },\n",
    "    optimizer_kwargs={},\n",
    "    minimizer_kwargs={},\n",
    "    integrator_kwargs={},\n",
    ")"
   ]
  },
  {
   "cell_type": "code",
   "execution_count": null,
   "metadata": {},
   "outputs": [],
   "source": [
    "res_goat"
   ]
  }
 ],
 "metadata": {
  "kernelspec": {
   "display_name": "qutip-qoc-310",
   "language": "python",
   "name": "python3"
  },
  "language_info": {
   "codemirror_mode": {
    "name": "ipython",
    "version": 3
   },
   "file_extension": ".py",
   "mimetype": "text/x-python",
   "name": "python",
   "nbconvert_exporter": "python",
   "pygments_lexer": "ipython3"
  }
 },
 "nbformat": 4,
 "nbformat_minor": 2
}
